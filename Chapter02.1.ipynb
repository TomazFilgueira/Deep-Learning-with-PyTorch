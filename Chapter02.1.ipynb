{
  "cells": [
    {
      "cell_type": "markdown",
      "metadata": {
        "id": "view-in-github",
        "colab_type": "text"
      },
      "source": [
        "<a href=\"https://colab.research.google.com/github/TomazFilgueira/Deep-Learning-with-PyTorch/blob/main/Chapter02.1.ipynb\" target=\"_parent\"><img src=\"https://colab.research.google.com/assets/colab-badge.svg\" alt=\"Open In Colab\"/></a>"
      ]
    },
    {
      "cell_type": "markdown",
      "metadata": {
        "id": "qIdcXGdKE3r3"
      },
      "source": [
        "# Deep Learning with PyTorch Step-by-Step: A Beginner's Guide"
      ]
    },
    {
      "cell_type": "markdown",
      "metadata": {
        "id": "572s7wPzE3r5"
      },
      "source": [
        "# Chapter 2.1"
      ]
    },
    {
      "cell_type": "code",
      "execution_count": 1,
      "metadata": {
        "id": "EVhal6kFE3r6",
        "outputId": "5b9ceb72-427e-48b9-f0bd-ecd9d0a1ee40",
        "colab": {
          "base_uri": "https://localhost:8080/"
        }
      },
      "outputs": [
        {
          "output_type": "stream",
          "name": "stdout",
          "text": [
            "Downloading files from GitHub repo to Colab...\n",
            "Finished!\n"
          ]
        }
      ],
      "source": [
        "try:\n",
        "    import google.colab\n",
        "    import requests\n",
        "    url = 'https://raw.githubusercontent.com/dvgodoy/PyTorchStepByStep/master/config.py'\n",
        "    r = requests.get(url, allow_redirects=True)\n",
        "    open('config.py', 'wb').write(r.content)\n",
        "except ModuleNotFoundError:\n",
        "    pass\n",
        "\n",
        "from config import *\n",
        "config_chapter2_1()\n",
        "# This is needed to render the plots in this chapter\n",
        "from plots.chapter2_1 import *"
      ]
    },
    {
      "cell_type": "code",
      "execution_count": 2,
      "metadata": {
        "id": "gsdPp5EuE3r7"
      },
      "outputs": [],
      "source": [
        "import numpy as np\n",
        "import datetime\n",
        "\n",
        "import torch\n",
        "import torch.optim as optim\n",
        "import torch.nn as nn\n",
        "import torch.functional as F\n",
        "from torch.utils.data import DataLoader, TensorDataset, random_split\n",
        "from torch.utils.tensorboard import SummaryWriter\n",
        "\n",
        "import matplotlib.pyplot as plt\n",
        "%matplotlib inline\n",
        "plt.style.use('fivethirtyeight')"
      ]
    },
    {
      "cell_type": "markdown",
      "metadata": {
        "id": "b7-_nWw5E3r8"
      },
      "source": [
        "# Going Classy"
      ]
    },
    {
      "cell_type": "markdown",
      "metadata": {
        "id": "GRanGAl0E3r9"
      },
      "source": [
        "## The Class"
      ]
    },
    {
      "cell_type": "code",
      "execution_count": null,
      "metadata": {
        "id": "-f1LXmHWE3r9"
      },
      "outputs": [],
      "source": [
        "# A completely empty (and useless) class\n",
        "class StepByStep(object):\n",
        "    pass"
      ]
    },
    {
      "cell_type": "markdown",
      "metadata": {
        "id": "KvG7KrAOE3r-"
      },
      "source": [
        "## The Constructor"
      ]
    },
    {
      "cell_type": "markdown",
      "metadata": {
        "id": "GdcY0SP8E3r_"
      },
      "source": [
        "### Arguments"
      ]
    },
    {
      "cell_type": "code",
      "execution_count": 3,
      "metadata": {
        "id": "iV91X1JLE3r_"
      },
      "outputs": [],
      "source": [
        "class StepByStep(object):\n",
        "    def __init__(self, model, loss_fn, optimizer):\n",
        "        # Here we define the attributes of our class\n",
        "\n",
        "        # We start by storing the arguments as attributes\n",
        "        # to use them later\n",
        "        self.model = model\n",
        "        self.loss_fn = loss_fn\n",
        "        self.optimizer = optimizer\n",
        "        self.device = 'cuda' if torch.cuda.is_available() else 'cpu'\n",
        "        # Let's send the model to the specified device right away\n",
        "        self.model.to(self.device)\n",
        "\n",
        "    def to(self, device):\n",
        "        # This method allows the user to specify a different device\n",
        "        # It sets the corresponding attribute (to be used later in\n",
        "        # the mini-batches) and sends the model to the device\n",
        "        try:\n",
        "            self.device = device\n",
        "            self.model.to(self.device)\n",
        "        except RuntimeError:\n",
        "            self.device = 'cuda' if torch.cuda.is_available() else 'cpu'\n",
        "            print(f\"Couldn't send it to {device}, sending it to {self.device} instead.\")\n",
        "            self.model.to(self.device)"
      ]
    },
    {
      "cell_type": "markdown",
      "metadata": {
        "id": "wy47_V6OE3sA"
      },
      "source": [
        "### Placeholders"
      ]
    },
    {
      "cell_type": "code",
      "execution_count": 4,
      "metadata": {
        "id": "lgsTOONaE3sA"
      },
      "outputs": [],
      "source": [
        "class StepByStep(object):\n",
        "    def __init__(self, model, loss_fn, optimizer):\n",
        "        # Here we define the attributes of our class\n",
        "\n",
        "        # We start by storing the arguments as attributes\n",
        "        # to use them later\n",
        "        self.model = model\n",
        "        self.loss_fn = loss_fn\n",
        "        self.optimizer = optimizer\n",
        "        self.device = 'cuda' if torch.cuda.is_available() else 'cpu'\n",
        "        # Let's send the model to the specified device right away\n",
        "        self.model.to(self.device)\n",
        "\n",
        "        # These attributes are defined here, but since they are\n",
        "        # not available at the moment of creation, we keep them None\n",
        "        self.train_loader = None\n",
        "        self.val_loader = None\n",
        "        self.writer = None\n",
        "\n",
        "    def to(self, device):\n",
        "        # This method allows the user to specify a different device\n",
        "        # It sets the corresponding attribute (to be used later in\n",
        "        # the mini-batches) and sends the model to the device\n",
        "        try:\n",
        "            self.device = device\n",
        "            self.model.to(self.device)\n",
        "        except RuntimeError:\n",
        "            self.device = 'cuda' if torch.cuda.is_available() else 'cpu'\n",
        "            print(f\"Couldn't send it to {device}, sending it to {self.device} instead.\")\n",
        "            self.model.to(self.device)\n",
        "\n",
        "    def set_loaders(self, train_loader, val_loader=None):\n",
        "        # This method allows the user to define which train_loader\n",
        "        # (and val_loader, optionally) to use\n",
        "        # Both loaders are then assigned to attributes of the class\n",
        "        # So they can be referred to later\n",
        "        self.train_loader = train_loader\n",
        "        self.val_loader = val_loader\n",
        "\n",
        "    def set_tensorboard(self, name, folder='runs'):\n",
        "        # This method allows the user to create a SummaryWriter to\n",
        "        # interface with TensorBoard\n",
        "        suffix = datetime.datetime.now().strftime('%Y%m%d%H%M%S')\n",
        "        self.writer = SummaryWriter(f'{folder}/{name}_{suffix}')"
      ]
    },
    {
      "cell_type": "markdown",
      "metadata": {
        "id": "uvT-SsQ_E3sA"
      },
      "source": [
        "### Variables"
      ]
    },
    {
      "cell_type": "code",
      "execution_count": 5,
      "metadata": {
        "id": "-4g66NqqE3sB"
      },
      "outputs": [],
      "source": [
        "class StepByStep(object):\n",
        "    def __init__(self, model, loss_fn, optimizer):\n",
        "        # Here we define the attributes of our class\n",
        "\n",
        "        # We start by storing the arguments as attributes\n",
        "        # to use them later\n",
        "        self.model = model\n",
        "        self.loss_fn = loss_fn\n",
        "        self.optimizer = optimizer\n",
        "        self.device = 'cuda' if torch.cuda.is_available() else 'cpu'\n",
        "        # Let's send the model to the specified device right away\n",
        "        self.model.to(self.device)\n",
        "\n",
        "        # These attributes are defined here, but since they are\n",
        "        # not available at the moment of creation, we keep them None\n",
        "        self.train_loader = None\n",
        "        self.val_loader = None\n",
        "        self.writer = None\n",
        "\n",
        "        # These attributes are going to be computed internally\n",
        "        self.losses = []\n",
        "        self.val_losses = []\n",
        "        self.total_epochs = 0\n",
        "\n",
        "    def to(self, device):\n",
        "        # This method allows the user to specify a different device\n",
        "        # It sets the corresponding attribute (to be used later in\n",
        "        # the mini-batches) and sends the model to the device\n",
        "        try:\n",
        "            self.device = device\n",
        "            self.model.to(self.device)\n",
        "        except RuntimeError:\n",
        "            self.device = 'cuda' if torch.cuda.is_available() else 'cpu'\n",
        "            print(f\"Couldn't send it to {device}, sending it to {self.device} instead.\")\n",
        "            self.model.to(self.device)\n",
        "\n",
        "    def set_loaders(self, train_loader, val_loader=None):\n",
        "        # This method allows the user to define which train_loader\n",
        "        # (and val_loader, optionally) to use\n",
        "        # Both loaders are then assigned to attributes of the class\n",
        "        # So they can be referred to later\n",
        "        self.train_loader = train_loader\n",
        "        self.val_loader = val_loader\n",
        "\n",
        "    def set_tensorboard(self, name, folder='runs'):\n",
        "        # This method allows the user to create a SummaryWriter to\n",
        "        # interface with TensorBoard\n",
        "        suffix = datetime.datetime.now().strftime('%Y%m%d%H%M%S')\n",
        "        self.writer = SummaryWriter(f'{folder}/{name}_{suffix}')"
      ]
    },
    {
      "cell_type": "markdown",
      "metadata": {
        "id": "rQLdper3E3sB"
      },
      "source": [
        "### Functions"
      ]
    },
    {
      "cell_type": "code",
      "execution_count": 6,
      "metadata": {
        "id": "n0dWCI7QE3sC"
      },
      "outputs": [],
      "source": [
        "class StepByStep(object):\n",
        "    def __init__(self, model, loss_fn, optimizer):\n",
        "        # Here we define the attributes of our class\n",
        "\n",
        "        # We start by storing the arguments as attributes\n",
        "        # to use them later\n",
        "        self.model = model\n",
        "        self.loss_fn = loss_fn\n",
        "        self.optimizer = optimizer\n",
        "        self.device = 'cuda' if torch.cuda.is_available() else 'cpu'\n",
        "        # Let's send the model to the specified device right away\n",
        "        self.model.to(self.device)\n",
        "\n",
        "        # These attributes are defined here, but since they are\n",
        "        # not available at the moment of creation, we keep them None\n",
        "        self.train_loader = None\n",
        "        self.val_loader = None\n",
        "        self.writer = None\n",
        "\n",
        "        # These attributes are going to be computed internally\n",
        "        self.losses = []\n",
        "        self.val_losses = []\n",
        "        self.total_epochs = 0\n",
        "\n",
        "        # Creates the train_step function for our model,\n",
        "        # loss function and optimizer\n",
        "        # Note: there are NO ARGS there! It makes use of the class\n",
        "        # attributes directly\n",
        "        self.train_step_fn = self._make_train_step()\n",
        "        # Creates the val_step function for our model and loss\n",
        "        self.val_step_fn = self._make_val_step()\n",
        "\n",
        "    def to(self, device):\n",
        "        # This method allows the user to specify a different device\n",
        "        # It sets the corresponding attribute (to be used later in\n",
        "        # the mini-batches) and sends the model to the device\n",
        "        try:\n",
        "            self.device = device\n",
        "            self.model.to(self.device)\n",
        "        except RuntimeError:\n",
        "            self.device = 'cuda' if torch.cuda.is_available() else 'cpu'\n",
        "            print(f\"Couldn't send it to {device}, sending it to {self.device} instead.\")\n",
        "            self.model.to(self.device)\n",
        "\n",
        "    def set_loaders(self, train_loader, val_loader=None):\n",
        "        # This method allows the user to define which train_loader\n",
        "        # (and val_loader, optionally) to use\n",
        "        # Both loaders are then assigned to attributes of the class\n",
        "        # So they can be referred to later\n",
        "        self.train_loader = train_loader\n",
        "        self.val_loader = val_loader\n",
        "\n",
        "    def set_tensorboard(self, name, folder='runs'):\n",
        "        # This method allows the user to create a SummaryWriter to\n",
        "        # interface with TensorBoard\n",
        "        suffix = datetime.datetime.now().strftime('%Y%m%d%H%M%S')\n",
        "        self.writer = SummaryWriter(f'{folder}/{name}_{suffix}')"
      ]
    },
    {
      "cell_type": "markdown",
      "metadata": {
        "id": "5DtwDnaHE3sC"
      },
      "source": [
        "### Step Methods"
      ]
    },
    {
      "cell_type": "code",
      "execution_count": 7,
      "metadata": {
        "id": "fHsXf035E3sC"
      },
      "outputs": [],
      "source": [
        "def _make_train_step_fn(self):\n",
        "    # This method does not need ARGS... it can refer to\n",
        "    # the attributes: self.model, self.loss_fn and self.optimizer\n",
        "\n",
        "    # Builds function that performs a step in the train loop\n",
        "    def perform_train_step_fn(x, y):\n",
        "        # Sets model to TRAIN mode\n",
        "        self.model.train()\n",
        "\n",
        "        # Step 1 - Computes our model's predicted output - forward pass\n",
        "        yhat = self.model(x)\n",
        "        # Step 2 - Computes the loss\n",
        "        loss = self.loss_fn(yhat, y)\n",
        "        # Step 3 - Computes gradients for both \"b\" and \"w\" parameters\n",
        "        loss.backward()\n",
        "        # Step 4 - Updates parameters using gradients and the\n",
        "        # learning rate\n",
        "        self.optimizer.step()\n",
        "        self.optimizer.zero_grad()\n",
        "\n",
        "        # Returns the loss\n",
        "        return loss.item()\n",
        "\n",
        "    # Returns the function that will be called inside the train loop\n",
        "    return perform_train_step_fn\n",
        "\n",
        "def _make_val_step_fn(self):\n",
        "    # Builds function that performs a step in the validation loop\n",
        "    def perform_val_step_fn(x, y):\n",
        "        # Sets model to EVAL mode\n",
        "        self.model.eval()\n",
        "\n",
        "        # Step 1 - Computes our model's predicted output - forward pass\n",
        "        yhat = self.model(x)\n",
        "        # Step 2 - Computes the loss\n",
        "        loss = self.loss_fn(yhat, y)\n",
        "        # There is no need to compute Steps 3 and 4,\n",
        "        # since we don't update parameters during evaluation\n",
        "        return loss.item()\n",
        "\n",
        "    return perform_val_step_fn"
      ]
    },
    {
      "cell_type": "code",
      "execution_count": null,
      "metadata": {
        "id": "83AMiwH8E3sD"
      },
      "outputs": [],
      "source": [
        "# ATTENTION! Using SETATTR for educational purposes only :-)\n",
        "setattr(StepByStep, '_make_train_step_fn', _make_train_step_fn)\n",
        "setattr(StepByStep, '_make_val_step_fn', _make_val_step_fn)"
      ]
    },
    {
      "cell_type": "markdown",
      "metadata": {
        "id": "IFo-c8g_E3sD"
      },
      "source": [
        "### setattr"
      ]
    },
    {
      "cell_type": "code",
      "execution_count": null,
      "metadata": {
        "id": "WN3kLU-5E3sD"
      },
      "outputs": [],
      "source": [
        "class Dog(object):\n",
        "    def __init__(self, name):\n",
        "        self.name = name"
      ]
    },
    {
      "cell_type": "code",
      "execution_count": null,
      "metadata": {
        "id": "Ro21m5saE3sD",
        "outputId": "6ccf5311-c691-4abe-f1a1-6092419808da"
      },
      "outputs": [
        {
          "name": "stdout",
          "output_type": "stream",
          "text": [
            "Rex\n"
          ]
        }
      ],
      "source": [
        "rex = Dog('Rex')\n",
        "print(rex.name)"
      ]
    },
    {
      "cell_type": "code",
      "execution_count": null,
      "metadata": {
        "id": "g4Ezt8mgE3sE"
      },
      "outputs": [],
      "source": [
        "def bark(dog):\n",
        "    print('{} barks: \"Woof!\"'.format(dog.name))"
      ]
    },
    {
      "cell_type": "code",
      "execution_count": null,
      "metadata": {
        "id": "yg_K6BA8E3sE",
        "outputId": "0627f6dd-32b3-4168-c2f4-d7f99cf6d8cb"
      },
      "outputs": [
        {
          "name": "stdout",
          "output_type": "stream",
          "text": [
            "Rex barks: \"Woof!\"\n"
          ]
        }
      ],
      "source": [
        "bark(rex)"
      ]
    },
    {
      "cell_type": "code",
      "execution_count": null,
      "metadata": {
        "id": "luXsZANrE3sF"
      },
      "outputs": [],
      "source": [
        "def bark(self):\n",
        "    print('{} barks: \"Woof!\"'.format(self.name))\n",
        "\n",
        "setattr(Dog, 'bark', bark)"
      ]
    },
    {
      "cell_type": "code",
      "execution_count": null,
      "metadata": {
        "id": "qbPis4d7E3sF",
        "outputId": "980ab3cd-b397-4eaa-9e88-662c3787b820"
      },
      "outputs": [
        {
          "name": "stdout",
          "output_type": "stream",
          "text": [
            "Fido barks: \"Woof!\"\n"
          ]
        }
      ],
      "source": [
        "fido = Dog('Fido')\n",
        "fido.bark()"
      ]
    },
    {
      "cell_type": "code",
      "execution_count": null,
      "metadata": {
        "id": "1kizuqVsE3sF",
        "outputId": "1ee360ae-f6e0-4845-95de-b0a6251555a7"
      },
      "outputs": [
        {
          "name": "stdout",
          "output_type": "stream",
          "text": [
            "Rex barks: \"Woof!\"\n"
          ]
        }
      ],
      "source": [
        "rex.bark()"
      ]
    },
    {
      "cell_type": "markdown",
      "metadata": {
        "id": "zdTv29zLE3sF"
      },
      "source": [
        "## Training Methods"
      ]
    },
    {
      "cell_type": "markdown",
      "metadata": {
        "id": "hECkX0bzE3sF"
      },
      "source": [
        "### Mini-Batch"
      ]
    },
    {
      "cell_type": "code",
      "execution_count": 8,
      "metadata": {
        "id": "RcPVDMwzE3sG"
      },
      "outputs": [],
      "source": [
        "def _mini_batch(self, validation=False):\n",
        "    # The mini-batch can be used with both loaders\n",
        "    # The argument `validation`defines which loader and\n",
        "    # corresponding step function is going to be used\n",
        "    if validation:\n",
        "        data_loader = self.val_loader\n",
        "        step_fn = self.val_step_fn\n",
        "    else:\n",
        "        data_loader = self.train_loader\n",
        "        step_fn = self.train_step_fn\n",
        "\n",
        "    if data_loader is None:\n",
        "        return None\n",
        "\n",
        "    # Once the data loader and step function, this is the same\n",
        "    # mini-batch loop we had before\n",
        "    mini_batch_losses = []\n",
        "    for x_batch, y_batch in data_loader:\n",
        "        x_batch = x_batch.to(self.device)\n",
        "        y_batch = y_batch.to(self.device)\n",
        "\n",
        "        mini_batch_loss = step_fn(x_batch, y_batch)\n",
        "        mini_batch_losses.append(mini_batch_loss)\n",
        "\n",
        "    loss = np.mean(mini_batch_losses)\n",
        "\n",
        "    return loss\n",
        "\n",
        "setattr(StepByStep, '_mini_batch', _mini_batch)"
      ]
    },
    {
      "cell_type": "markdown",
      "metadata": {
        "id": "WBjS04D2E3sG"
      },
      "source": [
        "### Training Loop"
      ]
    },
    {
      "cell_type": "code",
      "execution_count": 9,
      "metadata": {
        "id": "X0yscExcE3sG"
      },
      "outputs": [],
      "source": [
        "def set_seed(self, seed=42):\n",
        "    torch.backends.cudnn.deterministic = True\n",
        "    torch.backends.cudnn.benchmark = False\n",
        "    torch.manual_seed(seed)\n",
        "    np.random.seed(seed)\n",
        "\n",
        "setattr(StepByStep, 'set_seed', set_seed)"
      ]
    },
    {
      "cell_type": "code",
      "execution_count": 10,
      "metadata": {
        "id": "Ilzyf8e5E3sG"
      },
      "outputs": [],
      "source": [
        "def train(self, n_epochs, seed=42):\n",
        "    # To ensure reproducibility of the training process\n",
        "    self.set_seed(seed)\n",
        "\n",
        "    for epoch in range(n_epochs):\n",
        "        # Keeps track of the numbers of epochs\n",
        "        # by updating the corresponding attribute\n",
        "        self.total_epochs += 1\n",
        "\n",
        "        # inner loop\n",
        "        # Performs training using mini-batches\n",
        "        loss = self._mini_batch(validation=False)\n",
        "        self.losses.append(loss)\n",
        "\n",
        "        # VALIDATION\n",
        "        # no gradients in validation!\n",
        "        with torch.no_grad():\n",
        "            # Performs evaluation using mini-batches\n",
        "            val_loss = self._mini_batch(validation=True)\n",
        "            self.val_losses.append(val_loss)\n",
        "\n",
        "        # If a SummaryWriter has been set...\n",
        "        if self.writer:\n",
        "            scalars = {'training': loss}\n",
        "            if val_loss is not None:\n",
        "                scalars.update({'validation': val_loss})\n",
        "            # Records both losses for each epoch under the main tag \"loss\"\n",
        "            self.writer.add_scalars(main_tag='loss',\n",
        "                                    tag_scalar_dict=scalars,\n",
        "                                    global_step=epoch)\n",
        "\n",
        "    if self.writer:\n",
        "        # Flushes the writer\n",
        "        self.writer.flush()\n",
        "\n",
        "setattr(StepByStep, 'train', train)"
      ]
    },
    {
      "cell_type": "markdown",
      "metadata": {
        "id": "TBWNWNmJE3sH"
      },
      "source": [
        "## Saving and Loading Methods"
      ]
    },
    {
      "cell_type": "markdown",
      "metadata": {
        "id": "tGZRbZvRE3sH"
      },
      "source": [
        "### Saving"
      ]
    },
    {
      "cell_type": "code",
      "execution_count": 11,
      "metadata": {
        "id": "H3pL1jcIE3sH"
      },
      "outputs": [],
      "source": [
        "def save_checkpoint(self, filename):\n",
        "    # Builds dictionary with all elements for resuming training\n",
        "    checkpoint = {'epoch': self.total_epochs,\n",
        "                  'model_state_dict': self.model.state_dict(),\n",
        "                  'optimizer_state_dict': self.optimizer.state_dict(),\n",
        "                  'loss': self.losses,\n",
        "                  'val_loss': self.val_losses}\n",
        "\n",
        "    torch.save(checkpoint, filename)\n",
        "\n",
        "setattr(StepByStep, 'save_checkpoint', save_checkpoint)"
      ]
    },
    {
      "cell_type": "markdown",
      "metadata": {
        "id": "2UgRjtw3E3sH"
      },
      "source": [
        "### Loading"
      ]
    },
    {
      "cell_type": "code",
      "execution_count": 12,
      "metadata": {
        "id": "lHC5dxu0E3sH"
      },
      "outputs": [],
      "source": [
        "def load_checkpoint(self, filename):\n",
        "    # Loads dictionary\n",
        "    checkpoint = torch.load(filename, weights_only=False)\n",
        "\n",
        "    # Restore state for model and optimizer\n",
        "    self.model.load_state_dict(checkpoint['model_state_dict'])\n",
        "    self.optimizer.load_state_dict(checkpoint['optimizer_state_dict'])\n",
        "\n",
        "    self.total_epochs = checkpoint['epoch']\n",
        "    self.losses = checkpoint['loss']\n",
        "    self.val_losses = checkpoint['val_loss']\n",
        "\n",
        "    self.model.train() # always use TRAIN for resuming training\n",
        "\n",
        "setattr(StepByStep, 'load_checkpoint', load_checkpoint)"
      ]
    },
    {
      "cell_type": "markdown",
      "metadata": {
        "id": "QvfwxdSfE3sI"
      },
      "source": [
        "### Making Predictions"
      ]
    },
    {
      "cell_type": "code",
      "execution_count": null,
      "metadata": {
        "id": "Q3SEObTcE3sW"
      },
      "outputs": [],
      "source": [
        "def predict(self, x):\n",
        "    # Set is to evaluation mode for predictions\n",
        "    self.model.eval()\n",
        "    # Takes aNumpy input and make it a float tensor\n",
        "    x_tensor = torch.as_tensor(x).float()\n",
        "    # Send input to device and uses model for prediction\n",
        "    y_hat_tensor = self.model(x_tensor.to(self.device))\n",
        "    # Set it back to train mode\n",
        "    self.model.train()\n",
        "    # Detaches it, brings it to CPU and back to Numpy\n",
        "    return y_hat_tensor.detach().cpu().numpy()\n",
        "\n",
        "setattr(StepByStep, 'predict', predict)"
      ]
    },
    {
      "cell_type": "markdown",
      "metadata": {
        "id": "McUzVOiwE3sW"
      },
      "source": [
        "## Visualization Methods"
      ]
    },
    {
      "cell_type": "markdown",
      "metadata": {
        "id": "HlTK5VBCE3sX"
      },
      "source": [
        "### Losses"
      ]
    },
    {
      "cell_type": "code",
      "execution_count": 13,
      "metadata": {
        "id": "KvAOIF_fE3sX"
      },
      "outputs": [],
      "source": [
        "def plot_losses(self):\n",
        "    fig = plt.figure(figsize=(10, 4))\n",
        "    plt.plot(self.losses, label='Training Loss', c='b')\n",
        "    if self.val_loader:\n",
        "        plt.plot(self.val_losses, label='Validation Loss', c='r')\n",
        "    plt.yscale('log')\n",
        "    plt.xlabel('Epochs')\n",
        "    plt.ylabel('Loss')\n",
        "    plt.legend()\n",
        "    plt.tight_layout()\n",
        "    return fig\n",
        "\n",
        "setattr(StepByStep, 'plot_losses', plot_losses)"
      ]
    },
    {
      "cell_type": "markdown",
      "metadata": {
        "id": "nRcvlYSkE3sX"
      },
      "source": [
        "### Model Graph"
      ]
    },
    {
      "cell_type": "code",
      "execution_count": 14,
      "metadata": {
        "id": "cGTEH9hYE3sX"
      },
      "outputs": [],
      "source": [
        "def add_graph(self):\n",
        "    if self.train_loader and self.writer:\n",
        "        # Fetches a single mini-batch so we can use add_graph\n",
        "        x_sample, y_sample = next(iter(self.train_loader))\n",
        "        self.writer.add_graph(self.model, x_sample.to(self.device))\n",
        "\n",
        "setattr(StepByStep, 'add_graph', add_graph)"
      ]
    },
    {
      "cell_type": "markdown",
      "metadata": {
        "id": "4kU2B6YJE3sY"
      },
      "source": [
        "## The Full Code"
      ]
    },
    {
      "cell_type": "code",
      "execution_count": 15,
      "metadata": {
        "id": "ooAnpBQXE3sY"
      },
      "outputs": [],
      "source": [
        "# %load stepbystep/v0.py\n",
        "\n",
        "import numpy as np\n",
        "import datetime\n",
        "import torch\n",
        "import matplotlib.pyplot as plt\n",
        "from torch.utils.tensorboard import SummaryWriter\n",
        "\n",
        "plt.style.use('fivethirtyeight')\n",
        "\n",
        "class StepByStep(object):\n",
        "    def __init__(self, model, loss_fn, optimizer):\n",
        "        # Here we define the attributes of our class\n",
        "\n",
        "        # We start by storing the arguments as attributes\n",
        "        # to use them later\n",
        "        self.model = model\n",
        "        self.loss_fn = loss_fn\n",
        "        self.optimizer = optimizer\n",
        "        self.device = 'cuda' if torch.cuda.is_available() else 'cpu'\n",
        "        # Let's send the model to the specified device right away\n",
        "        self.model.to(self.device)\n",
        "\n",
        "        # These attributes are defined here, but since they are\n",
        "        # not informed at the moment of creation, we keep them None\n",
        "        self.train_loader = None\n",
        "        self.val_loader = None\n",
        "        self.writer = None\n",
        "\n",
        "        # These attributes are going to be computed internally\n",
        "        self.losses = []\n",
        "        self.val_losses = []\n",
        "        self.total_epochs = 0\n",
        "\n",
        "        # Creates the train_step function for our model,\n",
        "        # loss function and optimizer\n",
        "        # Note: there are NO ARGS there! It makes use of the class\n",
        "        # attributes directly\n",
        "        self.train_step_fn = self._make_train_step_fn()\n",
        "        # Creates the val_step function for our model and loss\n",
        "        self.val_step_fn = self._make_val_step_fn()\n",
        "\n",
        "    def to(self, device):\n",
        "        # This method allows the user to specify a different device\n",
        "        # It sets the corresponding attribute (to be used later in\n",
        "        # the mini-batches) and sends the model to the device\n",
        "        try:\n",
        "            self.device = device\n",
        "            self.model.to(self.device)\n",
        "        except RuntimeError:\n",
        "            self.device = 'cuda' if torch.cuda.is_available() else 'cpu'\n",
        "            print(f\"Couldn't send it to {device}, sending it to {self.device} instead.\")\n",
        "            self.model.to(self.device)\n",
        "\n",
        "    def set_loaders(self, train_loader, val_loader=None):\n",
        "        # This method allows the user to define which train_loader (and val_loader, optionally) to use\n",
        "        # Both loaders are then assigned to attributes of the class\n",
        "        # So they can be referred to later\n",
        "        self.train_loader = train_loader\n",
        "        self.val_loader = val_loader\n",
        "\n",
        "    def set_tensorboard(self, name, folder='runs'):\n",
        "        # This method allows the user to define a SummaryWriter to interface with TensorBoard\n",
        "        suffix = datetime.datetime.now().strftime('%Y%m%d%H%M%S')\n",
        "        self.writer = SummaryWriter(f'{folder}/{name}_{suffix}')\n",
        "\n",
        "    def _make_train_step_fn(self):\n",
        "        # This method does not need ARGS... it can refer to\n",
        "        # the attributes: self.model, self.loss_fn and self.optimizer\n",
        "\n",
        "        # Builds function that performs a step in the train loop\n",
        "        def perform_train_step_fn(x, y):\n",
        "            # Sets model to TRAIN mode\n",
        "            self.model.train()\n",
        "\n",
        "            # Step 1 - Computes our model's predicted output - forward pass\n",
        "            yhat = self.model(x)\n",
        "            # Step 2 - Computes the loss\n",
        "            loss = self.loss_fn(yhat, y)\n",
        "            # Step 3 - Computes gradients for both \"a\" and \"b\" parameters\n",
        "            loss.backward()\n",
        "            # Step 4 - Updates parameters using gradients and the learning rate\n",
        "            self.optimizer.step()\n",
        "            self.optimizer.zero_grad()\n",
        "\n",
        "            # Returns the loss\n",
        "            return loss.item()\n",
        "\n",
        "        # Returns the function that will be called inside the train loop\n",
        "        return perform_train_step_fn\n",
        "\n",
        "    def _make_val_step_fn(self):\n",
        "        # Builds function that performs a step in the validation loop\n",
        "        def perform_val_step_fn(x, y):\n",
        "            # Sets model to EVAL mode\n",
        "            self.model.eval()\n",
        "\n",
        "            # Step 1 - Computes our model's predicted output - forward pass\n",
        "            yhat = self.model(x)\n",
        "            # Step 2 - Computes the loss\n",
        "            loss = self.loss_fn(yhat, y)\n",
        "            # There is no need to compute Steps 3 and 4,\n",
        "            # since we don't update parameters during evaluation\n",
        "            return loss.item()\n",
        "\n",
        "        return perform_val_step_fn\n",
        "\n",
        "    def _mini_batch(self, validation=False):\n",
        "        # The mini-batch can be used with both loaders\n",
        "        # The argument `validation`defines which loader and\n",
        "        # corresponding step function is going to be used\n",
        "        if validation:\n",
        "            data_loader = self.val_loader\n",
        "            step_fn = self.val_step_fn\n",
        "        else:\n",
        "            data_loader = self.train_loader\n",
        "            step_fn = self.train_step_fn\n",
        "\n",
        "        if data_loader is None:\n",
        "            return None\n",
        "\n",
        "        # Once the data loader and step function, this is the\n",
        "        # same mini-batch loop we had before\n",
        "        mini_batch_losses = []\n",
        "        for x_batch, y_batch in data_loader:\n",
        "            x_batch = x_batch.to(self.device)\n",
        "            y_batch = y_batch.to(self.device)\n",
        "\n",
        "            mini_batch_loss = step_fn(x_batch, y_batch)\n",
        "            mini_batch_losses.append(mini_batch_loss)\n",
        "\n",
        "        loss = np.mean(mini_batch_losses)\n",
        "        return loss\n",
        "\n",
        "    def set_seed(self, seed=42):\n",
        "        torch.backends.cudnn.deterministic = True\n",
        "        torch.backends.cudnn.benchmark = False\n",
        "        torch.manual_seed(seed)\n",
        "        np.random.seed(seed)\n",
        "\n",
        "    def train(self, n_epochs, seed=42):\n",
        "        # To ensure reproducibility of the training process\n",
        "        self.set_seed(seed)\n",
        "\n",
        "        for epoch in range(n_epochs):\n",
        "            # Keeps track of the numbers of epochs\n",
        "            # by updating the corresponding attribute\n",
        "            self.total_epochs += 1\n",
        "\n",
        "            # inner loop\n",
        "            # Performs training using mini-batches\n",
        "            loss = self._mini_batch(validation=False)\n",
        "            self.losses.append(loss)\n",
        "\n",
        "            # VALIDATION\n",
        "            # no gradients in validation!\n",
        "            with torch.no_grad():\n",
        "                # Performs evaluation using mini-batches\n",
        "                val_loss = self._mini_batch(validation=True)\n",
        "                self.val_losses.append(val_loss)\n",
        "\n",
        "            # If a SummaryWriter has been set...\n",
        "            if self.writer:\n",
        "                scalars = {'training': loss}\n",
        "                if val_loss is not None:\n",
        "                    scalars.update({'validation': val_loss})\n",
        "                # Records both losses for each epoch under the main tag \"loss\"\n",
        "                self.writer.add_scalars(main_tag='loss',\n",
        "                                        tag_scalar_dict=scalars,\n",
        "                                        global_step=epoch)\n",
        "\n",
        "        if self.writer:\n",
        "            # Closes the writer\n",
        "            self.writer.close()\n",
        "\n",
        "    def save_checkpoint(self, filename):\n",
        "        # Builds dictionary with all elements for resuming training\n",
        "        checkpoint = {'epoch': self.total_epochs,\n",
        "                      'model_state_dict': self.model.state_dict(),\n",
        "                      'optimizer_state_dict': self.optimizer.state_dict(),\n",
        "                      'loss': self.losses,\n",
        "                      'val_loss': self.val_losses}\n",
        "\n",
        "        torch.save(checkpoint, filename)\n",
        "\n",
        "    def load_checkpoint(self, filename):\n",
        "        # Loads dictionary\n",
        "        checkpoint = torch.load(filename, weights_only=False)\n",
        "\n",
        "        # Restore state for model and optimizer\n",
        "        self.model.load_state_dict(checkpoint['model_state_dict'])\n",
        "        self.optimizer.load_state_dict(checkpoint['optimizer_state_dict'])\n",
        "\n",
        "        self.total_epochs = checkpoint['epoch']\n",
        "        self.losses = checkpoint['loss']\n",
        "        self.val_losses = checkpoint['val_loss']\n",
        "\n",
        "        self.model.train() # always use TRAIN for resuming training\n",
        "\n",
        "    def predict(self, x):\n",
        "        # Set is to evaluation mode for predictions\n",
        "        self.model.eval()\n",
        "        # Takes aNumpy input and make it a float tensor\n",
        "        x_tensor = torch.as_tensor(x).float()\n",
        "        # Send input to device and uses model for prediction\n",
        "        y_hat_tensor = self.model(x_tensor.to(self.device))\n",
        "        # Set it back to train mode\n",
        "        self.model.train()\n",
        "        # Detaches it, brings it to CPU and back to Numpy\n",
        "        return y_hat_tensor.detach().cpu().numpy()\n",
        "\n",
        "    def plot_losses(self):\n",
        "        fig = plt.figure(figsize=(10, 4))\n",
        "        plt.plot(self.losses, label='Training Loss', c='b')\n",
        "        plt.plot(self.val_losses, label='Validation Loss', c='r')\n",
        "        plt.yscale('log')\n",
        "        plt.xlabel('Epochs')\n",
        "        plt.ylabel('Loss')\n",
        "        plt.legend()\n",
        "        plt.tight_layout()\n",
        "        return fig\n",
        "\n",
        "    def add_graph(self):\n",
        "        # Fetches a single mini-batch so we can use add_graph\n",
        "        if self.train_loader and self.writer:\n",
        "            x_sample, y_sample = next(iter(self.train_loader))\n",
        "            self.writer.add_graph(self.model, x_sample.to(self.device))\n"
      ]
    },
    {
      "cell_type": "markdown",
      "metadata": {
        "id": "C7zRz0aFE3sY"
      },
      "source": [
        "## Classy Pipeline"
      ]
    },
    {
      "cell_type": "markdown",
      "metadata": {
        "id": "7WonqI1UE3sY"
      },
      "source": [
        "### Data Generation"
      ]
    },
    {
      "cell_type": "code",
      "execution_count": 16,
      "metadata": {
        "id": "eK7GPMsnE3sZ"
      },
      "outputs": [],
      "source": [
        "# Runs data generation - so we do not need to copy code here\n",
        "%run -i data_generation/simple_linear_regression.py"
      ]
    },
    {
      "cell_type": "code",
      "execution_count": 17,
      "metadata": {
        "id": "ahqTBM_-E3sZ",
        "outputId": "72e40274-24f4-4905-c3af-c1437765aca1",
        "colab": {
          "base_uri": "https://localhost:8080/",
          "height": 595
        }
      },
      "outputs": [
        {
          "output_type": "display_data",
          "data": {
            "text/plain": [
              "<Figure size 600x600 with 1 Axes>"
            ],
            "image/png": "[encoded data removed]"
          },
          "metadata": {}
        }
      ],
      "source": [
        "fig = figure1(x, y)"
      ]
    },
    {
      "cell_type": "markdown",
      "metadata": {
        "id": "dXLioTSYE3sZ"
      },
      "source": [
        "### Data Preparation V2"
      ]
    },
    {
      "cell_type": "code",
      "execution_count": 18,
      "metadata": {
        "id": "Yv6wKoyBE3sZ"
      },
      "outputs": [],
      "source": [
        "# %load data_preparation/v2.py\n",
        "\n",
        "torch.manual_seed(13)\n",
        "\n",
        "# Builds tensors from numpy arrays BEFORE split\n",
        "x_tensor = torch.as_tensor(x).float()\n",
        "y_tensor = torch.as_tensor(y).float()\n",
        "\n",
        "# Builds dataset containing ALL data points\n",
        "dataset = TensorDataset(x_tensor, y_tensor)\n",
        "\n",
        "# Performs the split\n",
        "ratio = .8\n",
        "n_total = len(dataset)\n",
        "n_train = int(n_total * ratio)\n",
        "n_val = n_total - n_train\n",
        "\n",
        "train_data, val_data = random_split(dataset, [n_train, n_val])\n",
        "\n",
        "# Builds a loader of each set\n",
        "train_loader = DataLoader(dataset=train_data, batch_size=16, shuffle=True)\n",
        "val_loader = DataLoader(dataset=val_data, batch_size=16)"
      ]
    },
    {
      "cell_type": "markdown",
      "metadata": {
        "id": "4Wk7NHzhE3sZ"
      },
      "source": [
        "### Model Configuration V4"
      ]
    },
    {
      "cell_type": "code",
      "execution_count": 19,
      "metadata": {
        "id": "VB1QBXY0E3sa",
        "outputId": "33b4a8a7-89e4-4e2a-a361-66688e5f405a",
        "colab": {
          "base_uri": "https://localhost:8080/"
        }
      },
      "outputs": [
        {
          "output_type": "stream",
          "name": "stdout",
          "text": [
            "Writing model_configuration/v4.py\n"
          ]
        }
      ],
      "source": [
        "%%writefile model_configuration/v4.py\n",
        "\n",
        "# Sets learning rate - this is \"eta\" ~ the \"n\" like Greek letter\n",
        "lr = 0.1\n",
        "\n",
        "torch.manual_seed(42)\n",
        "# Now we can create a model and send it at once to the device\n",
        "model = nn.Sequential(nn.Linear(1, 1))\n",
        "\n",
        "# Defines a SGD optimizer to update the parameters\n",
        "# (now retrieved directly from the model)\n",
        "optimizer = optim.SGD(model.parameters(), lr=lr)\n",
        "\n",
        "# Defines a MSE loss function\n",
        "loss_fn = nn.MSELoss(reduction='mean')"
      ]
    },
    {
      "cell_type": "code",
      "execution_count": 20,
      "metadata": {
        "id": "sWbgEmObE3sa",
        "outputId": "1bc69f3c-bb4b-4f38-b92b-a71e2afbb6e1",
        "colab": {
          "base_uri": "https://localhost:8080/",
          "height": 34
        }
      },
      "outputs": [
        {
          "output_type": "display_data",
          "data": {
            "text/plain": [
              "<Figure size 640x480 with 0 Axes>"
            ]
          },
          "metadata": {}
        }
      ],
      "source": [
        "%run -i model_configuration/v4.py"
      ]
    },
    {
      "cell_type": "code",
      "execution_count": 21,
      "metadata": {
        "id": "uY6z9BKJE3sa",
        "outputId": "39bc8abb-e635-4478-afff-0b1099858428",
        "colab": {
          "base_uri": "https://localhost:8080/"
        }
      },
      "outputs": [
        {
          "output_type": "stream",
          "name": "stdout",
          "text": [
            "OrderedDict([('0.weight', tensor([[0.7645]])), ('0.bias', tensor([0.8300]))])\n"
          ]
        }
      ],
      "source": [
        "print(model.state_dict())"
      ]
    },
    {
      "cell_type": "markdown",
      "metadata": {
        "id": "EC7Gh0BdE3sa"
      },
      "source": [
        "## Model Training"
      ]
    },
    {
      "cell_type": "markdown",
      "metadata": {
        "id": "AknTrxVRE3sb"
      },
      "source": [
        "### Cell 2.1.1"
      ]
    },
    {
      "cell_type": "code",
      "execution_count": 22,
      "metadata": {
        "id": "Gkkq5SPxE3sb"
      },
      "outputs": [],
      "source": [
        "sbs = StepByStep(model, loss_fn, optimizer)\n",
        "sbs.set_loaders(train_loader, val_loader)\n",
        "sbs.set_tensorboard('classy')"
      ]
    },
    {
      "cell_type": "code",
      "execution_count": 23,
      "metadata": {
        "id": "QLaZfNZ0E3sb",
        "outputId": "f960f3d2-04b1-4a5d-ce52-47bd64b7157b",
        "colab": {
          "base_uri": "https://localhost:8080/"
        }
      },
      "outputs": [
        {
          "output_type": "stream",
          "name": "stdout",
          "text": [
            "True\n",
            "Sequential(\n",
            "  (0): Linear(in_features=1, out_features=1, bias=True)\n",
            ")\n"
          ]
        }
      ],
      "source": [
        "print(sbs.model == model)\n",
        "print(sbs.model)"
      ]
    },
    {
      "cell_type": "markdown",
      "metadata": {
        "id": "9_mh5sTDE3sb"
      },
      "source": [
        "### Cell 2.1.2"
      ]
    },
    {
      "cell_type": "code",
      "execution_count": 24,
      "metadata": {
        "id": "gyz-zJjaE3sb"
      },
      "outputs": [],
      "source": [
        "sbs.train(n_epochs=200)"
      ]
    },
    {
      "cell_type": "code",
      "execution_count": 25,
      "metadata": {
        "id": "OL0cDZesE3sb",
        "outputId": "a68c0c88-3682-4362-efb7-08b907338dd0",
        "colab": {
          "base_uri": "https://localhost:8080/"
        }
      },
      "outputs": [
        {
          "output_type": "stream",
          "name": "stdout",
          "text": [
            "OrderedDict([('0.weight', tensor([[1.9416]], device='cuda:0')), ('0.bias', tensor([1.0235], device='cuda:0'))])\n",
            "200\n"
          ]
        }
      ],
      "source": [
        "print(model.state_dict()) # remember, model == sbs.model\n",
        "print(sbs.total_epochs)"
      ]
    },
    {
      "cell_type": "code",
      "execution_count": 26,
      "metadata": {
        "scrolled": true,
        "id": "xRowcdBnE3sc",
        "outputId": "419a7b00-6bd5-4e62-c6bb-cdcc9ab209b9",
        "colab": {
          "base_uri": "https://localhost:8080/",
          "height": 395
        }
      },
      "outputs": [
        {
          "output_type": "display_data",
          "data": {
            "text/plain": [
              "<Figure size 1000x400 with 1 Axes>"
            ],
            "image/png": "[encoded data removed]"
          },
          "metadata": {}
        }
      ],
      "source": [
        "fig = sbs.plot_losses()"
      ]
    },
    {
      "cell_type": "markdown",
      "metadata": {
        "id": "FcEZ0eyvE3sc"
      },
      "source": [
        "### Making Predictions"
      ]
    },
    {
      "cell_type": "code",
      "execution_count": 27,
      "metadata": {
        "id": "nN62_cQdE3sc",
        "outputId": "b84c5994-8b09-41f4-87dd-52afdcc05de7",
        "colab": {
          "base_uri": "https://localhost:8080/"
        }
      },
      "outputs": [
        {
          "output_type": "execute_result",
          "data": {
            "text/plain": [
              "array([[0.5],\n",
              "       [0.3],\n",
              "       [0.7]])"
            ]
          },
          "metadata": {},
          "execution_count": 27
        }
      ],
      "source": [
        "new_data = np.array([.5, .3, .7]).reshape(-1, 1)\n",
        "new_data"
      ]
    },
    {
      "cell_type": "code",
      "execution_count": 28,
      "metadata": {
        "id": "E31Wq5XKE3sc",
        "outputId": "269732a7-ad83-47a8-817e-2f9bb1de231b",
        "colab": {
          "base_uri": "https://localhost:8080/"
        }
      },
      "outputs": [
        {
          "output_type": "execute_result",
          "data": {
            "text/plain": [
              "array([[1.9942763],\n",
              "       [1.605955 ],\n",
              "       [2.3825977]], dtype=float32)"
            ]
          },
          "metadata": {},
          "execution_count": 28
        }
      ],
      "source": [
        "predictions = sbs.predict(new_data)\n",
        "predictions"
      ]
    },
    {
      "cell_type": "markdown",
      "metadata": {
        "id": "lBpUM6ZQE3sc"
      },
      "source": [
        "### Checkpointing"
      ]
    },
    {
      "cell_type": "markdown",
      "metadata": {
        "id": "bgoefs64E3sc"
      },
      "source": [
        "### Cell 2.1.3"
      ]
    },
    {
      "cell_type": "code",
      "execution_count": 29,
      "metadata": {
        "id": "J4SmDsThE3sc"
      },
      "outputs": [],
      "source": [
        "sbs.save_checkpoint('model_checkpoint.pth')"
      ]
    },
    {
      "cell_type": "markdown",
      "metadata": {
        "id": "2N0XrGdJE3sd"
      },
      "source": [
        "### Resuming Training\n",
        "\n",
        "Remember, when we did this in Chapter 2 we had to **set the stage,** loading the data and configuring the model, before actually loading the model. We still need to do this, but we are now using the latest version of model configuration:\n",
        "\n"
      ]
    },
    {
      "cell_type": "code",
      "execution_count": 30,
      "metadata": {
        "id": "MoefZ9R5E3sd",
        "outputId": "e8866a13-055b-403f-9ae2-2dd4a0fa3d29",
        "colab": {
          "base_uri": "https://localhost:8080/",
          "height": 34
        }
      },
      "outputs": [
        {
          "output_type": "display_data",
          "data": {
            "text/plain": [
              "<Figure size 640x480 with 0 Axes>"
            ]
          },
          "metadata": {}
        }
      ],
      "source": [
        "%run -i model_configuration/v4.py"
      ]
    },
    {
      "cell_type": "code",
      "execution_count": 31,
      "metadata": {
        "id": "1U6fpXfzE3sd",
        "outputId": "31529487-b5c1-4a81-b38d-0211d27b6338",
        "colab": {
          "base_uri": "https://localhost:8080/"
        }
      },
      "outputs": [
        {
          "output_type": "stream",
          "name": "stdout",
          "text": [
            "OrderedDict([('0.weight', tensor([[0.7645]])), ('0.bias', tensor([0.8300]))])\n"
          ]
        }
      ],
      "source": [
        "print(model.state_dict())"
      ]
    },
    {
      "cell_type": "markdown",
      "source": [
        "Now we are **ready to load the model back**, which is easy:\n",
        "\n",
        "the model configuration has created the **three elements** we need to pass as **arguments** to **instantiate** our `StepByStep` class:\n",
        "\n"
      ],
      "metadata": {
        "id": "A7z9g5w1qwpj"
      }
    },
    {
      "cell_type": "markdown",
      "metadata": {
        "id": "RK8GAeT-E3sd"
      },
      "source": [
        "### Cell 2.1.4"
      ]
    },
    {
      "cell_type": "code",
      "execution_count": 32,
      "metadata": {
        "id": "OFowsL4aE3sd"
      },
      "outputs": [],
      "source": [
        "new_sbs = StepByStep(model, loss_fn, optimizer)"
      ]
    },
    {
      "cell_type": "markdown",
      "metadata": {
        "id": "g8VnIxwjE3sd"
      },
      "source": [
        "### Cell 2.1.5\n",
        "Next, let’s **load the trained model** back using the `load_checkpoint()` method and then inspect the model’s weights:"
      ]
    },
    {
      "cell_type": "code",
      "execution_count": 34,
      "metadata": {
        "id": "YyP0oepvE3sd",
        "outputId": "d9293275-d130-4c00-ec78-d629eb9ed514",
        "colab": {
          "base_uri": "https://localhost:8080/"
        }
      },
      "outputs": [
        {
          "output_type": "stream",
          "name": "stdout",
          "text": [
            "OrderedDict([('0.weight', tensor([[1.9416]], device='cuda:0')), ('0.bias', tensor([1.0235], device='cuda:0'))])\n"
          ]
        }
      ],
      "source": [
        "new_sbs.load_checkpoint('model_checkpoint.pth')\n",
        "print(model.state_dict())"
      ]
    },
    {
      "cell_type": "markdown",
      "metadata": {
        "id": "Mox0uYBOE3sd"
      },
      "source": [
        "### Cell 2.1.6\n",
        "\n",
        "In Chapter 2, we could only train it for another 200 epochs since the number of epochs was hard-coded. Not anymore! Thanks to our `StepByStep` class, we have the flexibility to train the model for as many epochs as we please.\n",
        "\n",
        "First, we need to set the `data loader(s)`, and then we can train our model for another, say, **50 epochs**.\n",
        "\n",
        "\n",
        "\n"
      ]
    },
    {
      "cell_type": "code",
      "execution_count": 33,
      "metadata": {
        "id": "XUNoblACE3se"
      },
      "outputs": [],
      "source": [
        "new_sbs.set_loaders(train_loader, val_loader)\n",
        "new_sbs.train(n_epochs=50)"
      ]
    },
    {
      "cell_type": "code",
      "execution_count": 35,
      "metadata": {
        "id": "Ivjvb-1AE3se",
        "outputId": "ed8903af-1bfe-40fc-98f3-911a56248fe1",
        "colab": {
          "base_uri": "https://localhost:8080/",
          "height": 395
        }
      },
      "outputs": [
        {
          "output_type": "display_data",
          "data": {
            "text/plain": [
              "<Figure size 1000x400 with 1 Axes>"
            ],
            "image/png": "[encoded data removed]"
          },
          "metadata": {}
        }
      ],
      "source": [
        "fig = new_sbs.plot_losses()"
      ]
    },
    {
      "cell_type": "code",
      "execution_count": 36,
      "metadata": {
        "id": "X-CTuqteE3se",
        "outputId": "99c89395-620a-48c2-de45-226048bba0df",
        "colab": {
          "base_uri": "https://localhost:8080/"
        }
      },
      "outputs": [
        {
          "output_type": "stream",
          "name": "stdout",
          "text": [
            "OrderedDict([('0.weight', tensor([[1.9416]], device='cuda:0')), ('0.bias', tensor([1.0235], device='cuda:0'))])\n"
          ]
        }
      ],
      "source": [
        "print(sbs.model.state_dict())"
      ]
    },
    {
      "cell_type": "markdown",
      "metadata": {
        "id": "X3OA4j3oE3se"
      },
      "source": [
        "# Putting It All Together"
      ]
    },
    {
      "cell_type": "code",
      "execution_count": 37,
      "metadata": {
        "id": "6yveYN85E3se"
      },
      "outputs": [],
      "source": [
        "# %load data_preparation/v2.py\n",
        "\n",
        "torch.manual_seed(13)\n",
        "\n",
        "# Builds tensors from numpy arrays BEFORE split\n",
        "x_tensor = torch.as_tensor(x).float()\n",
        "y_tensor = torch.as_tensor(y).float()\n",
        "\n",
        "# Builds dataset containing ALL data points\n",
        "dataset = TensorDataset(x_tensor, y_tensor)\n",
        "\n",
        "# Performs the split\n",
        "ratio = .8\n",
        "n_total = len(dataset)\n",
        "n_train = int(n_total * ratio)\n",
        "n_val = n_total - n_train\n",
        "\n",
        "train_data, val_data = random_split(dataset, [n_train, n_val])\n",
        "\n",
        "# Builds a loader of each set\n",
        "train_loader = DataLoader(\n",
        "    dataset=train_data,\n",
        "    batch_size=16,\n",
        "    shuffle=True\n",
        ")\n",
        "val_loader = DataLoader(dataset=val_data, batch_size=16)"
      ]
    },
    {
      "cell_type": "code",
      "execution_count": 38,
      "metadata": {
        "id": "kQBB4gVZE3se"
      },
      "outputs": [],
      "source": [
        "# %load model_configuration/v4.py\n",
        "\n",
        "# Sets learning rate - this is \"eta\" ~ the \"n\" like Greek letter\n",
        "lr = 0.1\n",
        "\n",
        "torch.manual_seed(42)\n",
        "# Now we can create a model\n",
        "model = nn.Sequential(nn.Linear(1, 1))\n",
        "\n",
        "# Defines a SGD optimizer to update the parameters\n",
        "# (now retrieved directly from the model)\n",
        "optimizer = optim.SGD(model.parameters(), lr=lr)\n",
        "\n",
        "# Defines a MSE loss function\n",
        "loss_fn = nn.MSELoss(reduction='mean')"
      ]
    },
    {
      "cell_type": "code",
      "execution_count": 39,
      "metadata": {
        "id": "Vb4bSLcSE3sf"
      },
      "outputs": [],
      "source": [
        "n_epochs = 200\n",
        "\n",
        "sbs = StepByStep(model, loss_fn, optimizer)\n",
        "sbs.set_loaders(train_loader, val_loader)\n",
        "sbs.set_tensorboard('classy')\n",
        "sbs.train(n_epochs=n_epochs)"
      ]
    },
    {
      "cell_type": "code",
      "execution_count": 40,
      "metadata": {
        "id": "i_UY1ykaE3sf",
        "outputId": "c9bc9bda-a63b-45c0-d70c-634fa4c023fd",
        "colab": {
          "base_uri": "https://localhost:8080/"
        }
      },
      "outputs": [
        {
          "output_type": "stream",
          "name": "stdout",
          "text": [
            "OrderedDict([('0.weight', tensor([[1.9416]], device='cuda:0')), ('0.bias', tensor([1.0235], device='cuda:0'))])\n"
          ]
        }
      ],
      "source": [
        "print(model.state_dict())"
      ]
    },
    {
      "cell_type": "code",
      "execution_count": null,
      "metadata": {
        "id": "QxznF38EE3sf"
      },
      "outputs": [],
      "source": []
    }
  ],
  "metadata": {
    "kernelspec": {
      "display_name": "Python 3",
      "name": "python3"
    },
    "language_info": {
      "codemirror_mode": {
        "name": "ipython",
        "version": 3
      },
      "file_extension": ".py",
      "mimetype": "text/x-python",
      "name": "python",
      "nbconvert_exporter": "python",
      "pygments_lexer": "ipython3",
      "version": "3.9.0"
    },
    "colab": {
      "provenance": [],
      "gpuType": "T4",
      "include_colab_link": true
    },
    "accelerator": "GPU"
  },
  "nbformat": 4,
  "nbformat_minor": 0
}