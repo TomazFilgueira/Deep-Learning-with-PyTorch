{
  "cells": [
    {
      "cell_type": "markdown",
      "metadata": {
        "id": "view-in-github",
        "colab_type": "text"
      },
      "source": [
        "<a href=\"https://colab.research.google.com/github/TomazFilgueira/Deep-Learning-with-PyTorch/blob/main/chapter01.ipynb\" target=\"_parent\"><img src=\"https://colab.research.google.com/assets/colab-badge.svg\" alt=\"Open In Colab\"/></a>"
      ]
    },
    {
      "cell_type": "markdown",
      "metadata": {
        "id": "0LXdd8FvNlLm"
      },
      "source": [
        "# Deep Learning with PyTorch Step-by-Step: A Beginner's Guide"
      ]
    },
    {
      "cell_type": "markdown",
      "metadata": {
        "id": "wJT8ze55NlLn"
      },
      "source": [
        "# Chapter 1"
      ]
    },
    {
      "cell_type": "code",
      "execution_count": 3,
      "metadata": {
        "id": "61kfYmUoNlLn",
        "colab": {
          "base_uri": "https://localhost:8080/"
        },
        "outputId": "357e69f7-3dd6-4438-b1aa-f3c60bb23926"
      },
      "outputs": [
        {
          "output_type": "stream",
          "name": "stdout",
          "text": [
            "Installing torchviz...\n",
            "Downloading files from GitHub repo to Colab...\n",
            "Creating folders...\n",
            "Finished!\n"
          ]
        }
      ],
      "source": [
        "try:\n",
        "    import google.colab\n",
        "    import requests\n",
        "    url = 'https://raw.githubusercontent.com/dvgodoy/PyTorchStepByStep/master/config.py'\n",
        "    r = requests.get(url, allow_redirects=True)\n",
        "    open('config.py', 'wb').write(r.content)\n",
        "except ModuleNotFoundError:\n",
        "    pass\n",
        "\n",
        "from config import *\n",
        "config_chapter1()\n",
        "# This is needed to render the plots in this chapter\n",
        "from plots.chapter1 import *"
      ]
    },
    {
      "cell_type": "code",
      "execution_count": 4,
      "metadata": {
        "id": "4amwfx23NlLo"
      },
      "outputs": [],
      "source": [
        "import numpy as np\n",
        "from sklearn.linear_model import LinearRegression\n",
        "\n",
        "import torch\n",
        "import torch.optim as optim\n",
        "import torch.nn as nn\n",
        "from torchviz import make_dot"
      ]
    },
    {
      "cell_type": "markdown",
      "metadata": {
        "id": "eerNKQwANlLo"
      },
      "source": [
        "# A Simple Regression Problem\n",
        "\n",
        "$$\n",
        "\\Large y = b + w x + \\epsilon\n",
        "$$"
      ]
    },
    {
      "cell_type": "markdown",
      "metadata": {
        "id": "UFWTBIfLNlLp"
      },
      "source": [
        "## Data Generation"
      ]
    },
    {
      "cell_type": "markdown",
      "metadata": {
        "id": "4MaOahzyNlLp"
      },
      "source": [
        "### Synthetic Data Generation"
      ]
    },
    {
      "cell_type": "code",
      "execution_count": 6,
      "metadata": {
        "id": "ZrbJoGDdNlLp"
      },
      "outputs": [],
      "source": [
        "true_b = 1\n",
        "true_w = 2\n",
        "N = 100\n",
        "\n",
        "# Data Generation\n",
        "np.random.seed(42)\n",
        "x = np.random.rand(N, 1)\n",
        "epsilon = (.1 * np.random.randn(N, 1))\n",
        "y = true_b + true_w * x + epsilon"
      ]
    },
    {
      "cell_type": "markdown",
      "metadata": {
        "id": "c905jzFTNlLp"
      },
      "source": [
        "### Split Train / Test"
      ]
    },
    {
      "cell_type": "code",
      "execution_count": 7,
      "metadata": {
        "id": "sIlwwvCMNlLp"
      },
      "outputs": [],
      "source": [
        "# Shuffles the indices\n",
        "idx = np.arange(N)\n",
        "np.random.shuffle(idx)\n",
        "\n",
        "# Uses first 80 random indices for train\n",
        "train_idx = idx[:int(N*.8)]\n",
        "# Uses the remaining indices for validation\n",
        "val_idx = idx[int(N*.8):]\n",
        "\n",
        "# Generates train and validation sets\n",
        "x_train, y_train = x[train_idx], y[train_idx]\n",
        "x_val, y_val = x[val_idx], y[val_idx]"
      ]
    },
    {
      "cell_type": "code",
      "execution_count": null,
      "metadata": {
        "id": "bc0PsoxnNlLp",
        "outputId": "c92b61a8-918b-4939-974b-958715d2d6dc",
        "colab": {
          "base_uri": "https://localhost:8080/",
          "height": 664
        }
      },
      "outputs": [
        {
          "output_type": "execute_result",
          "data": {
            "text/plain": [
              "(<Figure size 1200x600 with 2 Axes>,\n",
              " array([<Axes: title={'center': 'Generated Data - Train'}, xlabel='x', ylabel='y'>,\n",
              "        <Axes: title={'center': 'Generated Data - Validation'}, xlabel='x', ylabel='y'>],\n",
              "       dtype=object))"
            ]
          },
          "metadata": {},
          "execution_count": 5
        },
        {
          "output_type": "display_data",
          "data": {
            "text/plain": [
              "<Figure size 1200x600 with 2 Axes>"
            ],
            "image/png": "[encoded data removed]"
          },
          "metadata": {}
        }
      ],
      "source": [
        "figure1(x_train, y_train, x_val, y_val)"
      ]
    },
    {
      "cell_type": "markdown",
      "metadata": {
        "id": "wnKs8535NlLt"
      },
      "source": [
        "# PyTorch"
      ]
    },
    {
      "cell_type": "markdown",
      "metadata": {
        "id": "pCV2G39tNlLt"
      },
      "source": [
        "## Tensor"
      ]
    },
    {
      "cell_type": "code",
      "execution_count": 6,
      "metadata": {
        "id": "q4lqMd_lNlLt",
        "outputId": "5a3965da-2dea-4d16-eba4-92345a9623eb",
        "colab": {
          "base_uri": "https://localhost:8080/"
        }
      },
      "outputs": [
        {
          "output_type": "stream",
          "name": "stdout",
          "text": [
            "tensor(3.1416)\n",
            "tensor([1, 2, 3])\n",
            "tensor([[1., 1., 1.],\n",
            "        [1., 1., 1.]])\n",
            "tensor([[[-0.2759,  0.0889, -0.3874,  1.0784],\n",
            "         [-1.9782,  0.3579,  0.8383,  2.9547],\n",
            "         [ 0.4272, -1.2272, -1.6232,  0.9993]],\n",
            "\n",
            "        [[ 0.0443,  0.0738,  1.1307, -0.5610],\n",
            "         [ 1.9877, -1.5852,  0.1201,  0.8280],\n",
            "         [ 0.9147,  1.0548,  0.8926,  1.3646]]])\n"
          ]
        }
      ],
      "source": [
        "scalar = torch.tensor(3.14159)\n",
        "vector = torch.tensor([1, 2, 3])\n",
        "matrix = torch.ones((2, 3), dtype=torch.float)\n",
        "tensor = torch.randn((2, 3, 4), dtype=torch.float)\n",
        "\n",
        "print(scalar)\n",
        "print(vector)\n",
        "print(matrix)\n",
        "print(tensor)"
      ]
    },
    {
      "cell_type": "code",
      "execution_count": null,
      "metadata": {
        "id": "1dFqyWvENlLu",
        "outputId": "c553c5ff-917f-4fd9-acad-ce94b5532112",
        "colab": {
          "base_uri": "https://localhost:8080/"
        }
      },
      "outputs": [
        {
          "output_type": "stream",
          "name": "stdout",
          "text": [
            "torch.Size([2, 3, 4]) torch.Size([2, 3, 4])\n"
          ]
        }
      ],
      "source": [
        "print(tensor.size(), tensor.shape)"
      ]
    },
    {
      "cell_type": "code",
      "execution_count": null,
      "metadata": {
        "id": "DeGncJiNNlLu",
        "outputId": "f7046524-7f3b-4872-cd99-dcd1fc1b4b1c",
        "colab": {
          "base_uri": "https://localhost:8080/"
        }
      },
      "outputs": [
        {
          "output_type": "stream",
          "name": "stdout",
          "text": [
            "torch.Size([]) torch.Size([])\n"
          ]
        }
      ],
      "source": [
        "print(scalar.size(), scalar.shape)"
      ]
    },
    {
      "cell_type": "code",
      "execution_count": 7,
      "metadata": {
        "id": "QWfFpEWzNlLu",
        "outputId": "d106c4d6-6b61-4400-d630-eb586d6e35f0",
        "colab": {
          "base_uri": "https://localhost:8080/"
        }
      },
      "outputs": [
        {
          "output_type": "stream",
          "name": "stdout",
          "text": [
            "tensor([[1., 2., 1.],\n",
            "        [1., 1., 1.]])\n",
            "tensor([[1., 2., 1., 1., 1., 1.]])\n"
          ]
        }
      ],
      "source": [
        "# We get a tensor with a different shape but it still is\n",
        "# the SAME tensor\n",
        "same_matrix = matrix.view(1, 6)\n",
        "# If we change one of its elements...\n",
        "same_matrix[0, 1] = 2.\n",
        "# It changes both variables: matrix and same_matrix\n",
        "print(matrix)\n",
        "print(same_matrix)"
      ]
    },
    {
      "cell_type": "code",
      "execution_count": 8,
      "metadata": {
        "id": "TbNGIh2wNlLu",
        "outputId": "2bbec9d2-026e-4144-e0c6-07e3a2cdf8be",
        "colab": {
          "base_uri": "https://localhost:8080/"
        }
      },
      "outputs": [
        {
          "output_type": "stream",
          "name": "stdout",
          "text": [
            "tensor([[1., 2., 1.],\n",
            "        [1., 1., 1.]])\n",
            "tensor([[1., 3., 1., 1., 1., 1.]])\n"
          ]
        },
        {
          "output_type": "stream",
          "name": "stderr",
          "text": [
            "<ipython-input-8-bac3a3914f46>:2: UserWarning: To copy construct from a tensor, it is recommended to use sourceTensor.clone().detach() or sourceTensor.clone().detach().requires_grad_(True), rather than tensor.new_tensor(sourceTensor).\n",
            "  different_matrix = matrix.new_tensor(matrix.view(1, 6))\n"
          ]
        }
      ],
      "source": [
        "# We can use \"new_tensor\" method to REALLY copy it into a new one\n",
        "different_matrix = matrix.new_tensor(matrix.view(1, 6))\n",
        "# Now, if we change one of its elements...\n",
        "different_matrix[0, 1] = 3.\n",
        "# The original tensor (matrix) is left untouched!\n",
        "# But we get a \"warning\" from PyTorch telling us\n",
        "# to use \"clone()\" instead!\n",
        "print(matrix)\n",
        "print(different_matrix)"
      ]
    },
    {
      "cell_type": "code",
      "execution_count": null,
      "metadata": {
        "id": "qhNtkOoFNlLv",
        "outputId": "18fb02ca-930e-4569-cc60-ee32909e553d",
        "colab": {
          "base_uri": "https://localhost:8080/"
        }
      },
      "outputs": [
        {
          "output_type": "stream",
          "name": "stdout",
          "text": [
            "tensor([[1., 2., 1.],\n",
            "        [1., 1., 1.]])\n",
            "tensor([[1., 4., 1., 1., 1., 1.]])\n"
          ]
        }
      ],
      "source": [
        "# Lets follow PyTorch's suggestion and use \"clone\" method\n",
        "another_matrix = matrix.view(1, 6).clone().detach()\n",
        "# Again, if we change one of its elements...\n",
        "another_matrix[0, 1] = 4.\n",
        "# The original tensor (matrix) is left untouched!\n",
        "print(matrix)\n",
        "print(another_matrix)"
      ]
    },
    {
      "cell_type": "markdown",
      "metadata": {
        "id": "PRhuxFCBNlLv"
      },
      "source": [
        "## Loading Data, Devices and CUDA"
      ]
    },
    {
      "cell_type": "code",
      "execution_count": 9,
      "metadata": {
        "id": "sczlCTzfNlLv",
        "outputId": "77244055-97fc-4105-fc41-19f63905a786",
        "colab": {
          "base_uri": "https://localhost:8080/"
        }
      },
      "outputs": [
        {
          "output_type": "execute_result",
          "data": {
            "text/plain": [
              "(dtype('float64'), torch.float64)"
            ]
          },
          "metadata": {},
          "execution_count": 9
        }
      ],
      "source": [
        "x_train_tensor = torch.as_tensor(x_train)\n",
        "x_train.dtype, x_train_tensor.dtype"
      ]
    },
    {
      "cell_type": "code",
      "execution_count": 10,
      "metadata": {
        "id": "j_IzO15UNlL0",
        "outputId": "916f6297-e984-4eda-9685-b17ee87dd8f3",
        "colab": {
          "base_uri": "https://localhost:8080/"
        }
      },
      "outputs": [
        {
          "output_type": "execute_result",
          "data": {
            "text/plain": [
              "torch.float32"
            ]
          },
          "metadata": {},
          "execution_count": 10
        }
      ],
      "source": [
        "float_tensor = x_train_tensor.float()\n",
        "float_tensor.dtype"
      ]
    },
    {
      "cell_type": "code",
      "execution_count": null,
      "metadata": {
        "id": "BnrN0FviNlL0",
        "outputId": "4cc57b2b-4b00-4281-c0c7-65eb6fffe0df",
        "colab": {
          "base_uri": "https://localhost:8080/"
        }
      },
      "outputs": [
        {
          "output_type": "execute_result",
          "data": {
            "text/plain": [
              "tensor([1, 0, 3])"
            ]
          },
          "metadata": {},
          "execution_count": 12
        }
      ],
      "source": [
        "dummy_array = np.array([1, 2, 3])\n",
        "dummy_tensor = torch.as_tensor(dummy_array)\n",
        "# Modifies the numpy array\n",
        "dummy_array[1] = 0\n",
        "# Tensor gets modified too...\n",
        "dummy_tensor"
      ]
    },
    {
      "cell_type": "code",
      "execution_count": null,
      "metadata": {
        "id": "mRUD5I4-NlL0",
        "outputId": "694494dd-e814-4aac-8c67-4987f89a64e2",
        "colab": {
          "base_uri": "https://localhost:8080/"
        }
      },
      "outputs": [
        {
          "output_type": "execute_result",
          "data": {
            "text/plain": [
              "array([1, 0, 3])"
            ]
          },
          "metadata": {},
          "execution_count": 32
        }
      ],
      "source": [
        "dummy_tensor.numpy()"
      ]
    },
    {
      "cell_type": "markdown",
      "metadata": {
        "id": "kjtA5R56NlL0"
      },
      "source": [
        "### Defining your device"
      ]
    },
    {
      "cell_type": "code",
      "execution_count": 11,
      "metadata": {
        "id": "aC812ZahNlL0",
        "colab": {
          "base_uri": "https://localhost:8080/",
          "height": 0
        },
        "outputId": "2fa54953-207a-460e-ec4b-901f06eb7618"
      },
      "outputs": [
        {
          "output_type": "execute_result",
          "data": {
            "text/plain": [
              "'cuda'"
            ],
            "application/vnd.google.colaboratory.intrinsic+json": {
              "type": "string"
            }
          },
          "metadata": {},
          "execution_count": 11
        }
      ],
      "source": [
        "device = 'cuda' if torch.cuda.is_available() else 'cpu'\n",
        "device"
      ]
    },
    {
      "cell_type": "code",
      "execution_count": 12,
      "metadata": {
        "id": "2KVEB_vONlL1",
        "colab": {
          "base_uri": "https://localhost:8080/"
        },
        "outputId": "7bc84456-62f3-42cc-de48-f574944109b2"
      },
      "outputs": [
        {
          "output_type": "stream",
          "name": "stdout",
          "text": [
            "Tesla T4\n"
          ]
        }
      ],
      "source": [
        "n_cudas = torch.cuda.device_count()\n",
        "for i in range(n_cudas):\n",
        "    print(torch.cuda.get_device_name(i))"
      ]
    },
    {
      "cell_type": "markdown",
      "metadata": {
        "id": "aMO78P0KNlL1"
      },
      "source": [
        "### Cell 1.3"
      ]
    },
    {
      "cell_type": "code",
      "execution_count": 13,
      "metadata": {
        "scrolled": true,
        "id": "qWzl3hBGNlL1"
      },
      "outputs": [],
      "source": [
        "device = 'cuda' if torch.cuda.is_available() else 'cpu'\n",
        "\n",
        "# Our data was in Numpy arrays, but we need to transform them\n",
        "# into PyTorch's Tensors and then we send them to the\n",
        "# chosen device\n",
        "x_train_tensor = torch.as_tensor(x_train).float().to(device)\n",
        "y_train_tensor = torch.as_tensor(y_train).float().to(device)"
      ]
    },
    {
      "cell_type": "code",
      "execution_count": null,
      "metadata": {
        "id": "QomLPbrCNlL1"
      },
      "outputs": [],
      "source": [
        "back_to_numpy = x_train_tensor.cpu().numpy()"
      ]
    },
    {
      "cell_type": "markdown",
      "metadata": {
        "id": "Vrgf88LRNlL1"
      },
      "source": [
        "## Creating Parameters\n",
        "\n",
        "In the next few pages, I will present **four** chunks of code showing different attempts at creating parameters.\n",
        "\n",
        "The first three attempts are shown to build up to a solution.\n",
        "1. The first one only works well if you use **CPU TENSORs**\n",
        "1. The second one uses **GPU TENSORs** and doesn’t work at all.\n",
        "1. The third one works, but it is too verbose.\n",
        "1. The recommended way of creating parameters is the last: Notebook Cell 1.4.\n"
      ]
    },
    {
      "cell_type": "code",
      "execution_count": null,
      "metadata": {
        "id": "wyQVS839NlL1",
        "outputId": "f7e90624-a637-42e1-e0c0-52ac161220b6",
        "colab": {
          "base_uri": "https://localhost:8080/"
        }
      },
      "outputs": [
        {
          "output_type": "stream",
          "name": "stdout",
          "text": [
            "tensor([0.3367], requires_grad=True) tensor([0.1288], requires_grad=True)\n"
          ]
        }
      ],
      "source": [
        "# FIRST\n",
        "# Initializes parameters \"b\" and \"w\" randomly, ALMOST as we\n",
        "# did in Numpy since we want to apply gradient descent on\n",
        "# these parameters we need to set REQUIRES_GRAD = TRUE\n",
        "torch.manual_seed(42)\n",
        "b = torch.randn(1, requires_grad=True, dtype=torch.float)\n",
        "w = torch.randn(1, requires_grad=True, dtype=torch.float)\n",
        "print(b, w)"
      ]
    },
    {
      "cell_type": "code",
      "execution_count": null,
      "metadata": {
        "id": "zmamy4MiNlL2",
        "outputId": "423d2839-b528-43e8-f2e4-d5d8c312dc8a",
        "colab": {
          "base_uri": "https://localhost:8080/"
        }
      },
      "outputs": [
        {
          "output_type": "stream",
          "name": "stdout",
          "text": [
            "tensor([0.3367], device='cuda:0', grad_fn=<ToCopyBackward0>) tensor([0.1288], device='cuda:0', grad_fn=<ToCopyBackward0>)\n"
          ]
        }
      ],
      "source": [
        "# SECOND\n",
        "# But what if we want to run it on a GPU? We could just\n",
        "# send them to device, right?\n",
        "torch.manual_seed(42)\n",
        "b = torch.randn(1, requires_grad=True, dtype=torch.float).to(device)\n",
        "w = torch.randn(1, requires_grad=True, dtype=torch.float).to(device)\n",
        "print(b, w)\n",
        "# Sorry, but NO! The to(device) \"shadows\" the gradient..."
      ]
    },
    {
      "cell_type": "markdown",
      "source": [
        "We succeeded in sending them to another device, but we \"lost\" the gradients somehow, since there is no more `requires_grad=True`\n"
      ],
      "metadata": {
        "id": "ztUiJ04knqpM"
      }
    },
    {
      "cell_type": "code",
      "execution_count": null,
      "metadata": {
        "id": "h7frx_HyNlL2",
        "outputId": "900c58f2-f467-4723-9b86-27ddc6b6bb3e"
      },
      "outputs": [
        {
          "name": "stdout",
          "output_type": "stream",
          "text": [
            "tensor([0.3367], requires_grad=True) tensor([0.1288], requires_grad=True)\n"
          ]
        }
      ],
      "source": [
        "# THIRD\n",
        "# We can either create regular tensors and send them to\n",
        "# the device (as we did with our data)\n",
        "torch.manual_seed(42)\n",
        "b = torch.randn(1, dtype=torch.float).to(device)\n",
        "w = torch.randn(1, dtype=torch.float).to(device)\n",
        "# and THEN set them as requiring gradients...\n",
        "b.requires_grad_()\n",
        "w.requires_grad_()\n",
        "print(b, w)"
      ]
    },
    {
      "cell_type": "markdown",
      "metadata": {
        "id": "dusS7LcDNlL2"
      },
      "source": [
        "### Cell 1.4"
      ]
    },
    {
      "cell_type": "code",
      "execution_count": null,
      "metadata": {
        "id": "-HBsL6vDNlL2",
        "outputId": "6b75a376-63f6-4f27-9ec0-350501f09e17",
        "colab": {
          "base_uri": "https://localhost:8080/"
        }
      },
      "outputs": [
        {
          "output_type": "stream",
          "name": "stdout",
          "text": [
            "tensor([0.1940], device='cuda:0', requires_grad=True) tensor([0.1391], device='cuda:0', requires_grad=True)\n"
          ]
        }
      ],
      "source": [
        "# FINAL\n",
        "# We can specify the device at the moment of creation\n",
        "# RECOMMENDED!\n",
        "\n",
        "# Step 0 - Initializes parameters \"b\" and \"w\" randomly\n",
        "torch.manual_seed(42)\n",
        "b = torch.randn(1, requires_grad=True, \\\n",
        "                dtype=torch.float, device=device)\n",
        "w = torch.randn(1, requires_grad=True, \\\n",
        "                dtype=torch.float, device=device)\n",
        "print(b, w)"
      ]
    },
    {
      "cell_type": "markdown",
      "metadata": {
        "id": "9JpXtZ-LNlL2"
      },
      "source": [
        "# Autograd\n",
        "\n",
        "`Autograd` is PyTorch’s automatic differentiation package. Thanks to it, we don’t need to worry about partial derivatives, chain rule, or anything like it.\n"
      ]
    },
    {
      "cell_type": "markdown",
      "metadata": {
        "id": "86Ek8AOxNlL2"
      },
      "source": [
        "## backward\n",
        " It will **compute gradients** for all (gradient-requiring) tensors involved in the computation of a given variable.\n"
      ]
    },
    {
      "cell_type": "markdown",
      "metadata": {
        "id": "O_qWJwdiNlL2"
      },
      "source": [
        "### Cell 1.5"
      ]
    },
    {
      "cell_type": "code",
      "execution_count": null,
      "metadata": {
        "id": "gMyOgh-3NlL2"
      },
      "outputs": [],
      "source": [
        "# Step 1 - Computes our model's predicted output - forward pass\n",
        "yhat = b + w * x_train_tensor\n",
        "\n",
        "# Step 2 - Computes the loss\n",
        "# We are using ALL data points, so this is BATCH gradient descent\n",
        "# How wrong is our model? That's the error!\n",
        "error = (yhat - y_train_tensor)\n",
        "# It is a regression, so it computes mean squared error (MSE)\n",
        "loss = (error ** 2).mean()\n",
        "\n",
        "# Step 3 - Computes gradients for both \"b\" and \"w\" parameters\n",
        "# No more manual computation of gradients!\n",
        "# b_grad = 2 * error.mean()\n",
        "# w_grad = 2 * (x_tensor * error).mean()\n",
        "loss.backward()"
      ]
    },
    {
      "cell_type": "code",
      "execution_count": null,
      "metadata": {
        "id": "aWRx1O8dNlL3",
        "outputId": "80746358-214e-4406-f2bf-1e8c83c8fc9f"
      },
      "outputs": [
        {
          "name": "stdout",
          "output_type": "stream",
          "text": [
            "True True True True\n",
            "False False\n"
          ]
        }
      ],
      "source": [
        "print(error.requires_grad, yhat.requires_grad, \\\n",
        "      b.requires_grad, w.requires_grad)\n",
        "print(y_train_tensor.requires_grad, x_train_tensor.requires_grad)"
      ]
    },
    {
      "cell_type": "markdown",
      "metadata": {
        "id": "3sIfFc53NlL3"
      },
      "source": [
        "## grad"
      ]
    },
    {
      "cell_type": "code",
      "execution_count": null,
      "metadata": {
        "id": "4otruH3CNlL3",
        "outputId": "cabf1e5a-f079-4983-a3f5-0ea591d8719e",
        "colab": {
          "base_uri": "https://localhost:8080/"
        }
      },
      "outputs": [
        {
          "output_type": "stream",
          "name": "stdout",
          "text": [
            "tensor([-6.7762], device='cuda:0') tensor([-3.8878], device='cuda:0')\n"
          ]
        }
      ],
      "source": [
        "print(b.grad, w.grad)"
      ]
    },
    {
      "cell_type": "code",
      "execution_count": null,
      "metadata": {
        "id": "OjJy7meFNlL3"
      },
      "outputs": [],
      "source": [
        "# Just run the two cells above one more time"
      ]
    },
    {
      "cell_type": "markdown",
      "metadata": {
        "id": "CLf39geqNlL3"
      },
      "source": [
        "## zero_\n",
        "\n",
        "Because grad is **accumulative**, every time we use the gradients to update the parameters, we need to zero the gradients afterward. And that’s what `zero_()` is good for.\n",
        ""
      ]
    },
    {
      "cell_type": "code",
      "execution_count": null,
      "metadata": {
        "id": "_im3om4rNlL3",
        "outputId": "c19050da-e0c6-4278-e201-60b2af5345bf",
        "colab": {
          "base_uri": "https://localhost:8080/"
        }
      },
      "outputs": [
        {
          "output_type": "execute_result",
          "data": {
            "text/plain": [
              "(tensor([0.], device='cuda:0'), tensor([0.], device='cuda:0'))"
            ]
          },
          "metadata": {},
          "execution_count": 24
        }
      ],
      "source": [
        "# This code will be placed *after* Step 4\n",
        "# (updating the parameters)\n",
        "b.grad.zero_(), w.grad.zero_()"
      ]
    },
    {
      "cell_type": "markdown",
      "metadata": {
        "id": "rBCb5v47NlL4"
      },
      "source": [
        "## Updating Parameters"
      ]
    },
    {
      "cell_type": "markdown",
      "metadata": {
        "id": "-cKNTUWwNlL4"
      },
      "source": [
        "### Cell 1.6"
      ]
    },
    {
      "cell_type": "code",
      "execution_count": null,
      "metadata": {
        "id": "A69-IISyNlL4",
        "outputId": "403f80e0-425f-4a6d-ee03-05a306fbe121",
        "colab": {
          "base_uri": "https://localhost:8080/"
        }
      },
      "outputs": [
        {
          "output_type": "stream",
          "name": "stdout",
          "text": [
            "tensor([1.0235], device='cuda:0', requires_grad=True) tensor([1.9690], device='cuda:0', requires_grad=True)\n"
          ]
        }
      ],
      "source": [
        "# Sets learning rate - this is \"eta\" ~ the \"n\"-like Greek letter\n",
        "lr = 0.1\n",
        "\n",
        "# Step 0 - Initializes parameters \"b\" and \"w\" randomly\n",
        "torch.manual_seed(42)\n",
        "b = torch.randn(1, requires_grad=True, \\\n",
        "                dtype=torch.float, device=device)\n",
        "w = torch.randn(1, requires_grad=True, \\\n",
        "                dtype=torch.float, device=device)\n",
        "\n",
        "# Defines number of epochs\n",
        "n_epochs = 1000\n",
        "\n",
        "for epoch in range(n_epochs):\n",
        "    # Step 1 - Computes model's predicted output - forward pass\n",
        "    yhat = b + w * x_train_tensor\n",
        "\n",
        "    # Step 2 - Computes the loss\n",
        "    # We are using ALL data points, so this is BATCH gradient\n",
        "    # descent. How wrong is our model? That's the error!\n",
        "    error = (yhat - y_train_tensor)\n",
        "    # It is a regression, so it computes mean squared error (MSE)\n",
        "    loss = (error ** 2).mean()\n",
        "\n",
        "    # Step 3 - Computes gradients for both \"b\" and \"w\" parameters\n",
        "    # No more manual computation of gradients!\n",
        "    # b_grad = 2 * error.mean()\n",
        "    # w_grad = 2 * (x_tensor * error).mean()\n",
        "    # We just tell PyTorch to work its way BACKWARDS\n",
        "    # from the specified loss!\n",
        "    loss.backward()\n",
        "\n",
        "    # Step 4 - Updates parameters using gradients and\n",
        "    # the learning rate. But not so fast...\n",
        "    # FIRST ATTEMPT - just using the same code as before\n",
        "    # AttributeError: 'NoneType' object has no attribute 'zero_'\n",
        "    #b = b - lr * b.grad\n",
        "    #w = w - lr * w.grad\n",
        "    #print(b)\n",
        "\n",
        "    # SECOND ATTEMPT - using in-place Python assigment\n",
        "    # RuntimeError: a leaf Variable that requires grad\n",
        "    # has been used in an in-place operation.\n",
        "    #b -= lr * b.grad\n",
        "    #w -= lr * w.grad\n",
        "\n",
        "    # THIRD ATTEMPT - NO_GRAD for the win!\n",
        "    # We need to use NO_GRAD to keep the update out of\n",
        "    # the gradient computation. Why is that? It boils\n",
        "    # down to the DYNAMIC GRAPH that PyTorch uses...\n",
        "    with torch.no_grad():\n",
        "        b -= lr * b.grad\n",
        "        w -= lr * w.grad\n",
        "\n",
        "    # PyTorch is \"clingy\" to its computed gradients, we\n",
        "    # need to tell it to let it go...\n",
        "    b.grad.zero_()\n",
        "    w.grad.zero_()\n",
        "\n",
        "print(b, w)"
      ]
    },
    {
      "cell_type": "markdown",
      "metadata": {
        "id": "BHwzd-A2NlL4"
      },
      "source": [
        "## no_grad\n",
        "\n",
        "\n",
        "\n",
        "```\n",
        "# This is what we used in the THIRD ATTEMPT...\n",
        "with torch.no_grad():\n",
        "        b -= lr * b.grad\n",
        "        w -= lr * w.grad\n",
        "```\n",
        "\n"
      ]
    },
    {
      "cell_type": "markdown",
      "metadata": {
        "id": "FqRVvO8wNlL5"
      },
      "source": [
        "# Dynamic Computation Graph"
      ]
    },
    {
      "cell_type": "code",
      "execution_count": null,
      "metadata": {
        "id": "NBUY17xsNlL5",
        "outputId": "1f17a5d3-243a-462f-adee-ba5967d03a10",
        "colab": {
          "base_uri": "https://localhost:8080/",
          "height": 399
        }
      },
      "outputs": [
        {
          "output_type": "execute_result",
          "data": {
            "image/svg+xml": "<?xml version=\"1.0\" encoding=\"UTF-8\" standalone=\"no\"?>\n<!DOCTYPE svg PUBLIC \"-//W3C//DTD SVG 1.1//EN\"\n \"http://www.w3.org/Graphics/SVG/1.1/DTD/svg11.dtd\">\n<!-- Generated by graphviz version 2.43.0 (0)\n -->\n<!-- Title: %3 Pages: 1 -->\n<svg width=\"222pt\" height=\"283pt\"\n viewBox=\"0.00 0.00 222.00 283.00\" xmlns=\"http://www.w3.org/2000/svg\" xmlns:xlink=\"http://www.w3.org/1999/xlink\">\n<g id=\"graph0\" class=\"graph\" transform=\"scale(1 1) rotate(0) translate(4 279)\">\n<title>%3</title>\n<polygon fill=\"white\" stroke=\"transparent\" points=\"-4,4 -4,-279 218,-279 218,4 -4,4\"/>\n<!-- 133638920506928 -->\n<g id=\"node1\" class=\"node\">\n<title>133638920506928</title>\n<polygon fill=\"#caff70\" stroke=\"black\" points=\"139,-31 74,-31 74,0 139,0 139,-31\"/>\n<text text-anchor=\"middle\" x=\"106.5\" y=\"-7\" font-family=\"monospace\" font-size=\"10.00\"> (80, 1)</text>\n</g>\n<!-- 133638965082528 -->\n<g id=\"node2\" class=\"node\">\n<title>133638965082528</title>\n<polygon fill=\"lightgrey\" stroke=\"black\" points=\"151,-86 62,-86 62,-67 151,-67 151,-86\"/>\n<text text-anchor=\"middle\" x=\"106.5\" y=\"-74\" font-family=\"monospace\" font-size=\"10.00\">AddBackward0</text>\n</g>\n<!-- 133638965082528&#45;&gt;133638920506928 -->\n<g id=\"edge6\" class=\"edge\">\n<title>133638965082528&#45;&gt;133638920506928</title>\n<path fill=\"none\" stroke=\"black\" d=\"M106.5,-66.79C106.5,-60.07 106.5,-50.4 106.5,-41.34\"/>\n<polygon fill=\"black\" stroke=\"black\" points=\"110,-41.19 106.5,-31.19 103,-41.19 110,-41.19\"/>\n</g>\n<!-- 133638965080656 -->\n<g id=\"node3\" class=\"node\">\n<title>133638965080656</title>\n<polygon fill=\"lightgrey\" stroke=\"black\" points=\"101,-141 0,-141 0,-122 101,-122 101,-141\"/>\n<text text-anchor=\"middle\" x=\"50.5\" y=\"-129\" font-family=\"monospace\" font-size=\"10.00\">AccumulateGrad</text>\n</g>\n<!-- 133638965080656&#45;&gt;133638965082528 -->\n<g id=\"edge1\" class=\"edge\">\n<title>133638965080656&#45;&gt;133638965082528</title>\n<path fill=\"none\" stroke=\"black\" d=\"M59.5,-121.98C67.69,-114.23 80.01,-102.58 89.97,-93.14\"/>\n<polygon fill=\"black\" stroke=\"black\" points=\"92.48,-95.59 97.34,-86.17 87.67,-90.5 92.48,-95.59\"/>\n</g>\n<!-- 133638920508080 -->\n<g id=\"node4\" class=\"node\">\n<title>133638920508080</title>\n<polygon fill=\"lightblue\" stroke=\"black\" points=\"77.5,-208 23.5,-208 23.5,-177 77.5,-177 77.5,-208\"/>\n<text text-anchor=\"middle\" x=\"50.5\" y=\"-184\" font-family=\"monospace\" font-size=\"10.00\"> (1)</text>\n</g>\n<!-- 133638920508080&#45;&gt;133638965080656 -->\n<g id=\"edge2\" class=\"edge\">\n<title>133638920508080&#45;&gt;133638965080656</title>\n<path fill=\"none\" stroke=\"black\" d=\"M50.5,-176.92C50.5,-169.22 50.5,-159.69 50.5,-151.43\"/>\n<polygon fill=\"black\" stroke=\"black\" points=\"54,-151.25 50.5,-141.25 47,-151.25 54,-151.25\"/>\n</g>\n<!-- 133638965073552 -->\n<g id=\"node5\" class=\"node\">\n<title>133638965073552</title>\n<polygon fill=\"lightgrey\" stroke=\"black\" points=\"208,-141 119,-141 119,-122 208,-122 208,-141\"/>\n<text text-anchor=\"middle\" x=\"163.5\" y=\"-129\" font-family=\"monospace\" font-size=\"10.00\">MulBackward0</text>\n</g>\n<!-- 133638965073552&#45;&gt;133638965082528 -->\n<g id=\"edge3\" class=\"edge\">\n<title>133638965073552&#45;&gt;133638965082528</title>\n<path fill=\"none\" stroke=\"black\" d=\"M154.34,-121.98C146,-114.23 133.47,-102.58 123.32,-93.14\"/>\n<polygon fill=\"black\" stroke=\"black\" points=\"125.53,-90.42 115.82,-86.17 120.76,-95.54 125.53,-90.42\"/>\n</g>\n<!-- 133638965077152 -->\n<g id=\"node6\" class=\"node\">\n<title>133638965077152</title>\n<polygon fill=\"lightgrey\" stroke=\"black\" points=\"214,-202 113,-202 113,-183 214,-183 214,-202\"/>\n<text text-anchor=\"middle\" x=\"163.5\" y=\"-190\" font-family=\"monospace\" font-size=\"10.00\">AccumulateGrad</text>\n</g>\n<!-- 133638965077152&#45;&gt;133638965073552 -->\n<g id=\"edge4\" class=\"edge\">\n<title>133638965077152&#45;&gt;133638965073552</title>\n<path fill=\"none\" stroke=\"black\" d=\"M163.5,-182.79C163.5,-174.6 163.5,-162.06 163.5,-151.55\"/>\n<polygon fill=\"black\" stroke=\"black\" points=\"167,-151.24 163.5,-141.24 160,-151.24 167,-151.24\"/>\n</g>\n<!-- 133638920508944 -->\n<g id=\"node7\" class=\"node\">\n<title>133638920508944</title>\n<polygon fill=\"lightblue\" stroke=\"black\" points=\"190.5,-275 136.5,-275 136.5,-244 190.5,-244 190.5,-275\"/>\n<text text-anchor=\"middle\" x=\"163.5\" y=\"-251\" font-family=\"monospace\" font-size=\"10.00\"> (1)</text>\n</g>\n<!-- 133638920508944&#45;&gt;133638965077152 -->\n<g id=\"edge5\" class=\"edge\">\n<title>133638920508944&#45;&gt;133638965077152</title>\n<path fill=\"none\" stroke=\"black\" d=\"M163.5,-243.75C163.5,-234.39 163.5,-222.19 163.5,-212.16\"/>\n<polygon fill=\"black\" stroke=\"black\" points=\"167,-212.02 163.5,-202.02 160,-212.02 167,-212.02\"/>\n</g>\n</g>\n</svg>\n",
            "text/plain": [
              "<graphviz.graphs.Digraph at 0x798b3c63afd0>"
            ]
          },
          "metadata": {},
          "execution_count": 34
        }
      ],
      "source": [
        "# Step 0 - Initializes parameters \"b\" and \"w\" randomly\n",
        "torch.manual_seed(42)\n",
        "b = torch.randn(1, requires_grad=True, \\\n",
        "                dtype=torch.float, device=device)\n",
        "w = torch.randn(1, requires_grad=True, \\\n",
        "                dtype=torch.float, device=device)\n",
        "\n",
        "# Step 1 - Computes our model's predicted output - forward pass\n",
        "yhat = b + w * x_train_tensor\n",
        "\n",
        "# Step 2 - Computes the loss\n",
        "# We are using ALL data points, so this is BATCH gradient\n",
        "# descent. How wrong is our model? That's the error!\n",
        "error = (yhat - y_train_tensor)\n",
        "# It is a regression, so it computes mean squared error (MSE)\n",
        "loss = (error ** 2).mean()\n",
        "\n",
        "# We can try plotting the graph for any python variable:\n",
        "# yhat, error, loss...\n",
        "make_dot(yhat)"
      ]
    },
    {
      "cell_type": "markdown",
      "source": [
        "▪​ blue boxes ((1)s): these boxes correspond to the tensors we use as **parameters**, the ones we’re asking PyTorch to compute gradients for\n",
        "\n",
        "​▪​ gray boxes (MulBackward0 and AddBackward0): **Python operations** that involve `gradient-computing` tensors or its dependencies\n",
        "\n",
        "​▪​ green box ((80, 1)): the tensor used as the **starting point for the computation** of gradients (assuming the backward() method is called from the variable used to visualize the graph)—they are computed from the bottom-up in a graph\n",
        "\n"
      ],
      "metadata": {
        "id": "VXxnU_K9gUcL"
      }
    },
    {
      "cell_type": "markdown",
      "source": [
        "What would happen to the computation graph if we set requires_grad to False for our parameter b?\n"
      ],
      "metadata": {
        "id": "qPwaxssRhC4N"
      }
    },
    {
      "cell_type": "code",
      "execution_count": null,
      "metadata": {
        "id": "JfSuvikHNlL5",
        "outputId": "fac29a2a-4734-4c69-cbd1-44a2b9467821",
        "colab": {
          "base_uri": "https://localhost:8080/",
          "height": 383
        }
      },
      "outputs": [
        {
          "output_type": "execute_result",
          "data": {
            "image/svg+xml": "<?xml version=\"1.0\" encoding=\"UTF-8\" standalone=\"no\"?>\n<!DOCTYPE svg PUBLIC \"-//W3C//DTD SVG 1.1//EN\"\n \"http://www.w3.org/Graphics/SVG/1.1/DTD/svg11.dtd\">\n<!-- Generated by graphviz version 2.43.0 (0)\n -->\n<!-- Title: %3 Pages: 1 -->\n<svg width=\"109pt\" height=\"271pt\"\n viewBox=\"0.00 0.00 109.00 271.00\" xmlns=\"http://www.w3.org/2000/svg\" xmlns:xlink=\"http://www.w3.org/1999/xlink\">\n<g id=\"graph0\" class=\"graph\" transform=\"scale(1 1) rotate(0) translate(4 267)\">\n<title>%3</title>\n<polygon fill=\"white\" stroke=\"transparent\" points=\"-4,4 -4,-267 105,-267 105,4 -4,4\"/>\n<!-- 133638920894608 -->\n<g id=\"node1\" class=\"node\">\n<title>133638920894608</title>\n<polygon fill=\"#caff70\" stroke=\"black\" points=\"83,-31 18,-31 18,0 83,0 83,-31\"/>\n<text text-anchor=\"middle\" x=\"50.5\" y=\"-7\" font-family=\"monospace\" font-size=\"10.00\"> (80, 1)</text>\n</g>\n<!-- 133638965071152 -->\n<g id=\"node2\" class=\"node\">\n<title>133638965071152</title>\n<polygon fill=\"lightgrey\" stroke=\"black\" points=\"95,-86 6,-86 6,-67 95,-67 95,-86\"/>\n<text text-anchor=\"middle\" x=\"50.5\" y=\"-74\" font-family=\"monospace\" font-size=\"10.00\">AddBackward0</text>\n</g>\n<!-- 133638965071152&#45;&gt;133638920894608 -->\n<g id=\"edge4\" class=\"edge\">\n<title>133638965071152&#45;&gt;133638920894608</title>\n<path fill=\"none\" stroke=\"black\" d=\"M50.5,-66.79C50.5,-60.07 50.5,-50.4 50.5,-41.34\"/>\n<polygon fill=\"black\" stroke=\"black\" points=\"54,-41.19 50.5,-31.19 47,-41.19 54,-41.19\"/>\n</g>\n<!-- 133638965071440 -->\n<g id=\"node3\" class=\"node\">\n<title>133638965071440</title>\n<polygon fill=\"lightgrey\" stroke=\"black\" points=\"95,-141 6,-141 6,-122 95,-122 95,-141\"/>\n<text text-anchor=\"middle\" x=\"50.5\" y=\"-129\" font-family=\"monospace\" font-size=\"10.00\">MulBackward0</text>\n</g>\n<!-- 133638965071440&#45;&gt;133638965071152 -->\n<g id=\"edge1\" class=\"edge\">\n<title>133638965071440&#45;&gt;133638965071152</title>\n<path fill=\"none\" stroke=\"black\" d=\"M50.5,-121.75C50.5,-114.8 50.5,-104.85 50.5,-96.13\"/>\n<polygon fill=\"black\" stroke=\"black\" points=\"54,-96.09 50.5,-86.09 47,-96.09 54,-96.09\"/>\n</g>\n<!-- 133638965076144 -->\n<g id=\"node4\" class=\"node\">\n<title>133638965076144</title>\n<polygon fill=\"lightgrey\" stroke=\"black\" points=\"101,-196 0,-196 0,-177 101,-177 101,-196\"/>\n<text text-anchor=\"middle\" x=\"50.5\" y=\"-184\" font-family=\"monospace\" font-size=\"10.00\">AccumulateGrad</text>\n</g>\n<!-- 133638965076144&#45;&gt;133638965071440 -->\n<g id=\"edge2\" class=\"edge\">\n<title>133638965076144&#45;&gt;133638965071440</title>\n<path fill=\"none\" stroke=\"black\" d=\"M50.5,-176.75C50.5,-169.8 50.5,-159.85 50.5,-151.13\"/>\n<polygon fill=\"black\" stroke=\"black\" points=\"54,-151.09 50.5,-141.09 47,-151.09 54,-151.09\"/>\n</g>\n<!-- 133638920508752 -->\n<g id=\"node5\" class=\"node\">\n<title>133638920508752</title>\n<polygon fill=\"lightblue\" stroke=\"black\" points=\"77.5,-263 23.5,-263 23.5,-232 77.5,-232 77.5,-263\"/>\n<text text-anchor=\"middle\" x=\"50.5\" y=\"-239\" font-family=\"monospace\" font-size=\"10.00\"> (1)</text>\n</g>\n<!-- 133638920508752&#45;&gt;133638965076144 -->\n<g id=\"edge3\" class=\"edge\">\n<title>133638920508752&#45;&gt;133638965076144</title>\n<path fill=\"none\" stroke=\"black\" d=\"M50.5,-231.92C50.5,-224.22 50.5,-214.69 50.5,-206.43\"/>\n<polygon fill=\"black\" stroke=\"black\" points=\"54,-206.25 50.5,-196.25 47,-206.25 54,-206.25\"/>\n</g>\n</g>\n</svg>\n",
            "text/plain": [
              "<graphviz.graphs.Digraph at 0x798b3ef0ecd0>"
            ]
          },
          "metadata": {},
          "execution_count": 35
        }
      ],
      "source": [
        "b_nograd = torch.randn(1, requires_grad=False, \\\n",
        "                       dtype=torch.float, device=device)\n",
        "w = torch.randn(1, requires_grad=True, \\\n",
        "                dtype=torch.float, device=device)\n",
        "\n",
        "yhat = b_nograd + w * x_train_tensor\n",
        "\n",
        "make_dot(yhat)"
      ]
    },
    {
      "cell_type": "code",
      "execution_count": null,
      "metadata": {
        "id": "3VezEHleNlL5",
        "outputId": "a6f5e5fa-a48a-42d0-cc51-4b1882427909",
        "colab": {
          "base_uri": "https://localhost:8080/",
          "height": 692
        }
      },
      "outputs": [
        {
          "output_type": "execute_result",
          "data": {
            "image/svg+xml": "<?xml version=\"1.0\" encoding=\"UTF-8\" standalone=\"no\"?>\n<!DOCTYPE svg PUBLIC \"-//W3C//DTD SVG 1.1//EN\"\n \"http://www.w3.org/Graphics/SVG/1.1/DTD/svg11.dtd\">\n<!-- Generated by graphviz version 2.43.0 (0)\n -->\n<!-- Title: %3 Pages: 1 -->\n<svg width=\"326pt\" height=\"503pt\"\n viewBox=\"0.00 0.00 326.00 503.00\" xmlns=\"http://www.w3.org/2000/svg\" xmlns:xlink=\"http://www.w3.org/1999/xlink\">\n<g id=\"graph0\" class=\"graph\" transform=\"scale(1 1) rotate(0) translate(4 499)\">\n<title>%3</title>\n<polygon fill=\"white\" stroke=\"transparent\" points=\"-4,4 -4,-499 322,-499 322,4 -4,4\"/>\n<!-- 133638921126256 -->\n<g id=\"node1\" class=\"node\">\n<title>133638921126256</title>\n<polygon fill=\"#caff70\" stroke=\"black\" points=\"242.5,-31 188.5,-31 188.5,0 242.5,0 242.5,-31\"/>\n<text text-anchor=\"middle\" x=\"215.5\" y=\"-7\" font-family=\"monospace\" font-size=\"10.00\"> ()</text>\n</g>\n<!-- 133638965082480 -->\n<g id=\"node2\" class=\"node\">\n<title>133638965082480</title>\n<polygon fill=\"lightgrey\" stroke=\"black\" points=\"260,-86 171,-86 171,-67 260,-67 260,-86\"/>\n<text text-anchor=\"middle\" x=\"215.5\" y=\"-74\" font-family=\"monospace\" font-size=\"10.00\">AddBackward0</text>\n</g>\n<!-- 133638965082480&#45;&gt;133638921126256 -->\n<g id=\"edge14\" class=\"edge\">\n<title>133638965082480&#45;&gt;133638921126256</title>\n<path fill=\"none\" stroke=\"black\" d=\"M215.5,-66.79C215.5,-60.07 215.5,-50.4 215.5,-41.34\"/>\n<polygon fill=\"black\" stroke=\"black\" points=\"219,-41.19 215.5,-31.19 212,-41.19 219,-41.19\"/>\n</g>\n<!-- 133638965083152 -->\n<g id=\"node3\" class=\"node\">\n<title>133638965083152</title>\n<polygon fill=\"lightgrey\" stroke=\"black\" points=\"225,-141 130,-141 130,-122 225,-122 225,-141\"/>\n<text text-anchor=\"middle\" x=\"177.5\" y=\"-129\" font-family=\"monospace\" font-size=\"10.00\">MeanBackward0</text>\n</g>\n<!-- 133638965083152&#45;&gt;133638965082480 -->\n<g id=\"edge1\" class=\"edge\">\n<title>133638965083152&#45;&gt;133638965082480</title>\n<path fill=\"none\" stroke=\"black\" d=\"M183.77,-121.75C189.09,-114.34 196.86,-103.5 203.38,-94.41\"/>\n<polygon fill=\"black\" stroke=\"black\" points=\"206.36,-96.26 209.34,-86.09 200.67,-92.18 206.36,-96.26\"/>\n</g>\n<!-- 133638965073360 -->\n<g id=\"node4\" class=\"node\">\n<title>133638965073360</title>\n<polygon fill=\"lightgrey\" stroke=\"black\" points=\"205,-196 116,-196 116,-177 205,-177 205,-196\"/>\n<text text-anchor=\"middle\" x=\"160.5\" y=\"-184\" font-family=\"monospace\" font-size=\"10.00\">PowBackward0</text>\n</g>\n<!-- 133638965073360&#45;&gt;133638965083152 -->\n<g id=\"edge2\" class=\"edge\">\n<title>133638965073360&#45;&gt;133638965083152</title>\n<path fill=\"none\" stroke=\"black\" d=\"M163.31,-176.75C165.56,-169.72 168.8,-159.62 171.62,-150.84\"/>\n<polygon fill=\"black\" stroke=\"black\" points=\"175.02,-151.68 174.75,-141.09 168.36,-149.54 175.02,-151.68\"/>\n</g>\n<!-- 133638965067984 -->\n<g id=\"node5\" class=\"node\">\n<title>133638965067984</title>\n<polygon fill=\"lightgrey\" stroke=\"black\" points=\"205,-251 116,-251 116,-232 205,-232 205,-251\"/>\n<text text-anchor=\"middle\" x=\"160.5\" y=\"-239\" font-family=\"monospace\" font-size=\"10.00\">SubBackward0</text>\n</g>\n<!-- 133638965067984&#45;&gt;133638965073360 -->\n<g id=\"edge3\" class=\"edge\">\n<title>133638965067984&#45;&gt;133638965073360</title>\n<path fill=\"none\" stroke=\"black\" d=\"M160.5,-231.75C160.5,-224.8 160.5,-214.85 160.5,-206.13\"/>\n<polygon fill=\"black\" stroke=\"black\" points=\"164,-206.09 160.5,-196.09 157,-206.09 164,-206.09\"/>\n</g>\n<!-- 133638965070432 -->\n<g id=\"node6\" class=\"node\">\n<title>133638965070432</title>\n<polygon fill=\"lightgrey\" stroke=\"black\" points=\"205,-306 116,-306 116,-287 205,-287 205,-306\"/>\n<text text-anchor=\"middle\" x=\"160.5\" y=\"-294\" font-family=\"monospace\" font-size=\"10.00\">AddBackward0</text>\n</g>\n<!-- 133638965070432&#45;&gt;133638965067984 -->\n<g id=\"edge4\" class=\"edge\">\n<title>133638965070432&#45;&gt;133638965067984</title>\n<path fill=\"none\" stroke=\"black\" d=\"M160.5,-286.75C160.5,-279.8 160.5,-269.85 160.5,-261.13\"/>\n<polygon fill=\"black\" stroke=\"black\" points=\"164,-261.09 160.5,-251.09 157,-261.09 164,-261.09\"/>\n</g>\n<!-- 133638965078592 -->\n<g id=\"node7\" class=\"node\">\n<title>133638965078592</title>\n<polygon fill=\"lightgrey\" stroke=\"black\" points=\"101,-361 0,-361 0,-342 101,-342 101,-361\"/>\n<text text-anchor=\"middle\" x=\"50.5\" y=\"-349\" font-family=\"monospace\" font-size=\"10.00\">AccumulateGrad</text>\n</g>\n<!-- 133638965078592&#45;&gt;133638965070432 -->\n<g id=\"edge5\" class=\"edge\">\n<title>133638965078592&#45;&gt;133638965070432</title>\n<path fill=\"none\" stroke=\"black\" d=\"M68.17,-341.98C85.79,-333.5 113.08,-320.35 133.43,-310.54\"/>\n<polygon fill=\"black\" stroke=\"black\" points=\"135.02,-313.66 142.51,-306.17 131.98,-307.36 135.02,-313.66\"/>\n</g>\n<!-- 133638963506128 -->\n<g id=\"node8\" class=\"node\">\n<title>133638963506128</title>\n<polygon fill=\"lightblue\" stroke=\"black\" points=\"77.5,-428 23.5,-428 23.5,-397 77.5,-397 77.5,-428\"/>\n<text text-anchor=\"middle\" x=\"50.5\" y=\"-404\" font-family=\"monospace\" font-size=\"10.00\"> (1)</text>\n</g>\n<!-- 133638963506128&#45;&gt;133638965078592 -->\n<g id=\"edge6\" class=\"edge\">\n<title>133638963506128&#45;&gt;133638965078592</title>\n<path fill=\"none\" stroke=\"black\" d=\"M50.5,-396.92C50.5,-389.22 50.5,-379.69 50.5,-371.43\"/>\n<polygon fill=\"black\" stroke=\"black\" points=\"54,-371.25 50.5,-361.25 47,-371.25 54,-371.25\"/>\n</g>\n<!-- 133638965078352 -->\n<g id=\"node9\" class=\"node\">\n<title>133638965078352</title>\n<polygon fill=\"lightgrey\" stroke=\"black\" points=\"208,-361 119,-361 119,-342 208,-342 208,-361\"/>\n<text text-anchor=\"middle\" x=\"163.5\" y=\"-349\" font-family=\"monospace\" font-size=\"10.00\">MulBackward0</text>\n</g>\n<!-- 133638965078352&#45;&gt;133638965070432 -->\n<g id=\"edge7\" class=\"edge\">\n<title>133638965078352&#45;&gt;133638965070432</title>\n<path fill=\"none\" stroke=\"black\" d=\"M163,-341.75C162.61,-334.8 162.05,-324.85 161.55,-316.13\"/>\n<polygon fill=\"black\" stroke=\"black\" points=\"165.05,-315.88 160.99,-306.09 158.06,-316.27 165.05,-315.88\"/>\n</g>\n<!-- 133638965079216 -->\n<g id=\"node10\" class=\"node\">\n<title>133638965079216</title>\n<polygon fill=\"lightgrey\" stroke=\"black\" points=\"267,-422 166,-422 166,-403 267,-403 267,-422\"/>\n<text text-anchor=\"middle\" x=\"216.5\" y=\"-410\" font-family=\"monospace\" font-size=\"10.00\">AccumulateGrad</text>\n</g>\n<!-- 133638965079216&#45;&gt;133638965078352 -->\n<g id=\"edge8\" class=\"edge\">\n<title>133638965079216&#45;&gt;133638965078352</title>\n<path fill=\"none\" stroke=\"black\" d=\"M208.68,-402.79C200.69,-393.91 188.11,-379.89 178.24,-368.91\"/>\n<polygon fill=\"black\" stroke=\"black\" points=\"180.64,-366.34 171.35,-361.24 175.43,-371.02 180.64,-366.34\"/>\n</g>\n<!-- 133638965074848 -->\n<g id=\"node14\" class=\"node\">\n<title>133638965074848</title>\n<polygon fill=\"lightgrey\" stroke=\"black\" points=\"315,-361 226,-361 226,-342 315,-342 315,-361\"/>\n<text text-anchor=\"middle\" x=\"270.5\" y=\"-349\" font-family=\"monospace\" font-size=\"10.00\">MulBackward0</text>\n</g>\n<!-- 133638965079216&#45;&gt;133638965074848 -->\n<g id=\"edge13\" class=\"edge\">\n<title>133638965079216&#45;&gt;133638965074848</title>\n<path fill=\"none\" stroke=\"black\" d=\"M224.47,-402.79C232.6,-393.91 245.43,-379.89 255.48,-368.91\"/>\n<polygon fill=\"black\" stroke=\"black\" points=\"258.33,-370.98 262.5,-361.24 253.17,-366.26 258.33,-370.98\"/>\n</g>\n<!-- 133638920896144 -->\n<g id=\"node11\" class=\"node\">\n<title>133638920896144</title>\n<polygon fill=\"lightblue\" stroke=\"black\" points=\"243.5,-495 189.5,-495 189.5,-464 243.5,-464 243.5,-495\"/>\n<text text-anchor=\"middle\" x=\"216.5\" y=\"-471\" font-family=\"monospace\" font-size=\"10.00\"> (1)</text>\n</g>\n<!-- 133638920896144&#45;&gt;133638965079216 -->\n<g id=\"edge9\" class=\"edge\">\n<title>133638920896144&#45;&gt;133638965079216</title>\n<path fill=\"none\" stroke=\"black\" d=\"M216.5,-463.75C216.5,-454.39 216.5,-442.19 216.5,-432.16\"/>\n<polygon fill=\"black\" stroke=\"black\" points=\"220,-432.02 216.5,-422.02 213,-432.02 220,-432.02\"/>\n</g>\n<!-- 133638965069424 -->\n<g id=\"node12\" class=\"node\">\n<title>133638965069424</title>\n<polygon fill=\"lightgrey\" stroke=\"black\" points=\"318,-196 223,-196 223,-177 318,-177 318,-196\"/>\n<text text-anchor=\"middle\" x=\"270.5\" y=\"-184\" font-family=\"monospace\" font-size=\"10.00\">MeanBackward0</text>\n</g>\n<!-- 133638965069424&#45;&gt;133638965082480 -->\n<g id=\"edge10\" class=\"edge\">\n<title>133638965069424&#45;&gt;133638965082480</title>\n<path fill=\"none\" stroke=\"black\" d=\"M266,-176.66C256.97,-158.93 236.5,-118.73 224.57,-95.32\"/>\n<polygon fill=\"black\" stroke=\"black\" points=\"227.57,-93.48 219.91,-86.16 221.33,-96.66 227.57,-93.48\"/>\n</g>\n<!-- 133638965070480 -->\n<g id=\"node13\" class=\"node\">\n<title>133638965070480</title>\n<polygon fill=\"lightgrey\" stroke=\"black\" points=\"315,-306 226,-306 226,-287 315,-287 315,-306\"/>\n<text text-anchor=\"middle\" x=\"270.5\" y=\"-294\" font-family=\"monospace\" font-size=\"10.00\">SubBackward0</text>\n</g>\n<!-- 133638965070480&#45;&gt;133638965069424 -->\n<g id=\"edge11\" class=\"edge\">\n<title>133638965070480&#45;&gt;133638965069424</title>\n<path fill=\"none\" stroke=\"black\" d=\"M270.5,-286.66C270.5,-269.17 270.5,-229.8 270.5,-206.27\"/>\n<polygon fill=\"black\" stroke=\"black\" points=\"274,-206.16 270.5,-196.16 267,-206.16 274,-206.16\"/>\n</g>\n<!-- 133638965074848&#45;&gt;133638965070480 -->\n<g id=\"edge12\" class=\"edge\">\n<title>133638965074848&#45;&gt;133638965070480</title>\n<path fill=\"none\" stroke=\"black\" d=\"M270.5,-341.75C270.5,-334.8 270.5,-324.85 270.5,-316.13\"/>\n<polygon fill=\"black\" stroke=\"black\" points=\"274,-316.09 270.5,-306.09 267,-316.09 274,-316.09\"/>\n</g>\n</g>\n</svg>\n",
            "text/plain": [
              "<graphviz.graphs.Digraph at 0x798b3ef41750>"
            ]
          },
          "metadata": {},
          "execution_count": 36
        }
      ],
      "source": [
        "b = torch.randn(1, requires_grad=True, \\\n",
        "                dtype=torch.float, device=device)\n",
        "w = torch.randn(1, requires_grad=True, \\\n",
        "                dtype=torch.float, device=device)\n",
        "\n",
        "yhat = b + w * x_train_tensor\n",
        "error = yhat - y_train_tensor\n",
        "loss = (error ** 2).mean()\n",
        "\n",
        "# this makes no sense!!\n",
        "if loss > 0:\n",
        "    yhat2 = w * x_train_tensor\n",
        "    error2 = yhat2 - y_train_tensor\n",
        "\n",
        "# neither does this :-)\n",
        "loss += error2.mean()\n",
        "\n",
        "make_dot(loss)"
      ]
    },
    {
      "cell_type": "markdown",
      "metadata": {
        "id": "_e_4CcmBNlL6"
      },
      "source": [
        "# Optimizer"
      ]
    },
    {
      "cell_type": "markdown",
      "source": [
        "So far, we’ve been **manually updating** the parameters using the computed gradients. That’s probably fine for two parameters, but what if we had a whole lot of them? We need to use one of PyTorch’s optimizers, like `SGD`, `RMSprop`, or `Adam`.\n",
        "\n"
      ],
      "metadata": {
        "id": "b7_6fWDXicfh"
      }
    },
    {
      "cell_type": "markdown",
      "metadata": {
        "id": "xBo1FLHGNlL6"
      },
      "source": [
        "## step / zero_grad"
      ]
    },
    {
      "cell_type": "code",
      "execution_count": null,
      "metadata": {
        "id": "DEQQC0svNlL6"
      },
      "outputs": [],
      "source": [
        "# Defines a SGD optimizer to update the parameters\n",
        "optimizer = optim.SGD([b, w], lr=lr)"
      ]
    },
    {
      "cell_type": "markdown",
      "metadata": {
        "id": "aURPC_ZdNlL6"
      },
      "source": [
        "### Cell 1.7"
      ]
    },
    {
      "cell_type": "code",
      "execution_count": null,
      "metadata": {
        "id": "IGMlPlv7NlL6",
        "outputId": "02edc35b-e20c-480d-d062-e7d6762baecb",
        "colab": {
          "base_uri": "https://localhost:8080/"
        }
      },
      "outputs": [
        {
          "output_type": "stream",
          "name": "stdout",
          "text": [
            "tensor([1.0235], device='cuda:0', requires_grad=True) tensor([1.9690], device='cuda:0', requires_grad=True)\n"
          ]
        }
      ],
      "source": [
        "# Sets learning rate - this is \"eta\" ~ the \"n\"-like Greek letter\n",
        "lr = 0.1\n",
        "\n",
        "# Step 0 - Initializes parameters \"b\" and \"w\" randomly\n",
        "torch.manual_seed(42)\n",
        "b = torch.randn(1, requires_grad=True, \\\n",
        "                dtype=torch.float, device=device)\n",
        "w = torch.randn(1, requires_grad=True, \\\n",
        "                dtype=torch.float, device=device)\n",
        "\n",
        "# Defines a SGD optimizer to update the parameters\n",
        "optimizer = optim.SGD([b, w], lr=lr)\n",
        "\n",
        "# Defines number of epochs\n",
        "n_epochs = 1000\n",
        "\n",
        "for epoch in range(n_epochs):\n",
        "    # Step 1 - Computes model's predicted output - forward pass\n",
        "    yhat = b + w * x_train_tensor\n",
        "\n",
        "    # Step 2 - Computes the loss\n",
        "    # We are using ALL data points, so this is BATCH gradient\n",
        "    # descent. How wrong is our model? That's the error!\n",
        "    error = (yhat - y_train_tensor)\n",
        "    # It is a regression, so it computes mean squared error (MSE)\n",
        "    loss = (error ** 2).mean()\n",
        "\n",
        "    # Step 3 - Computes gradients for both \"b\" and \"w\" parameters\n",
        "    loss.backward()\n",
        "\n",
        "    # Step 4 - Updates parameters using gradients and\n",
        "    # the learning rate. No more manual update!\n",
        "    # with torch.no_grad():\n",
        "    #     b -= lr * b.grad\n",
        "    #     w -= lr * w.grad\n",
        "    optimizer.step()\n",
        "\n",
        "    # No more telling Pytorch to let gradients go!\n",
        "    # b.grad.zero_()\n",
        "    # w.grad.zero_()\n",
        "    optimizer.zero_grad()\n",
        "\n",
        "print(b, w)"
      ]
    },
    {
      "cell_type": "markdown",
      "metadata": {
        "id": "CiuUHw48NlL6"
      },
      "source": [
        "# Loss"
      ]
    },
    {
      "cell_type": "code",
      "execution_count": null,
      "metadata": {
        "id": "0G3jrTlRNlL7",
        "outputId": "cc5302d3-eb60-4271-b2d4-33b51a2616b9"
      },
      "outputs": [
        {
          "data": {
            "text/plain": [
              "MSELoss()"
            ]
          },
          "execution_count": 47,
          "metadata": {},
          "output_type": "execute_result"
        }
      ],
      "source": [
        "# Defines a MSE loss function\n",
        "loss_fn = nn.MSELoss(reduction='mean')\n",
        "loss_fn"
      ]
    },
    {
      "cell_type": "markdown",
      "source": [
        "Notice that `nn.MSELoss() `is **NOT the loss function itself**: We do not pass predictions and labels to it! Instead, as you can see, it returns another function, which we called `loss_fn`: That is **the actual loss function.**\n",
        "\n",
        "We can pass a prediction and a label to it and get the corresponding loss value:\n",
        "\n"
      ],
      "metadata": {
        "id": "elZugtComFZ4"
      }
    },
    {
      "cell_type": "code",
      "execution_count": null,
      "metadata": {
        "id": "asfyWsaWNlL7",
        "outputId": "b8464bb6-0165-4591-81a1-a03c9c59ec0e"
      },
      "outputs": [
        {
          "data": {
            "text/plain": [
              "tensor(1.1700)"
            ]
          },
          "execution_count": 48,
          "metadata": {},
          "output_type": "execute_result"
        }
      ],
      "source": [
        "# This is a random example to illustrate the loss function\n",
        "predictions = torch.tensor([0.5, 1.0])\n",
        "labels = torch.tensor([2.0, 1.3])\n",
        "loss_fn(predictions, labels)"
      ]
    },
    {
      "cell_type": "markdown",
      "metadata": {
        "id": "rFp-kvPjNlL7"
      },
      "source": [
        "### Cell 1.8"
      ]
    },
    {
      "cell_type": "code",
      "execution_count": 14,
      "metadata": {
        "id": "UKkYLAagNlL7",
        "outputId": "0fac82f6-d74a-4e6c-ca8d-427101730783",
        "colab": {
          "base_uri": "https://localhost:8080/"
        }
      },
      "outputs": [
        {
          "output_type": "stream",
          "name": "stdout",
          "text": [
            "tensor([1.0235], device='cuda:0', requires_grad=True) tensor([1.9690], device='cuda:0', requires_grad=True)\n"
          ]
        }
      ],
      "source": [
        "# Sets learning rate - this is \"eta\" ~ the \"n\"-like\n",
        "# Greek letter\n",
        "lr = 0.1\n",
        "\n",
        "# Step 0 - Initializes parameters \"b\" and \"w\" randomly\n",
        "torch.manual_seed(42)\n",
        "b = torch.randn(1, requires_grad=True, \\\n",
        "                dtype=torch.float, device=device)\n",
        "w = torch.randn(1, requires_grad=True, \\\n",
        "                dtype=torch.float, device=device)\n",
        "\n",
        "# Defines a SGD optimizer to update the parameters\n",
        "optimizer = optim.SGD([b, w], lr=lr)\n",
        "\n",
        "# Defines a MSE loss function\n",
        "loss_fn = nn.MSELoss(reduction='mean')\n",
        "\n",
        "# Defines number of epochs\n",
        "n_epochs = 1000\n",
        "\n",
        "for epoch in range(n_epochs):\n",
        "    # Step 1 - Computes model's predicted output - forward pass\n",
        "    yhat = b + w * x_train_tensor\n",
        "\n",
        "    # Step 2 - Computes the loss\n",
        "    # No more manual loss!\n",
        "    # error = (yhat - y_train_tensor)\n",
        "    # loss = (error ** 2).mean()\n",
        "    loss = loss_fn(yhat, y_train_tensor)\n",
        "\n",
        "    # Step 3 - Computes gradients for both \"b\" and \"w\" parameters\n",
        "    loss.backward()\n",
        "\n",
        "    # Step 4 - Updates parameters using gradients and\n",
        "    # the learning rate\n",
        "    optimizer.step()\n",
        "    optimizer.zero_grad()\n",
        "\n",
        "print(b, w)"
      ]
    },
    {
      "cell_type": "code",
      "execution_count": 15,
      "metadata": {
        "id": "x3mqwIfENlL8",
        "outputId": "3c43633d-3941-4c88-ee28-86c1361bd10e",
        "colab": {
          "base_uri": "https://localhost:8080/"
        }
      },
      "outputs": [
        {
          "output_type": "execute_result",
          "data": {
            "text/plain": [
              "tensor(0.0080, device='cuda:0', grad_fn=<MseLossBackward0>)"
            ]
          },
          "metadata": {},
          "execution_count": 15
        }
      ],
      "source": [
        "loss"
      ]
    },
    {
      "cell_type": "code",
      "execution_count": 17,
      "metadata": {
        "id": "rugdmwYONlL8",
        "outputId": "df22be60-f695-4afa-a60a-984703960c32",
        "colab": {
          "base_uri": "https://localhost:8080/"
        }
      },
      "outputs": [
        {
          "output_type": "execute_result",
          "data": {
            "text/plain": [
              "array(0.00804466, dtype=float32)"
            ]
          },
          "metadata": {},
          "execution_count": 17
        }
      ],
      "source": [
        "loss.detach().cpu().numpy()"
      ]
    },
    {
      "cell_type": "code",
      "execution_count": 18,
      "metadata": {
        "id": "RHfKZk3SNlL8",
        "outputId": "3df8ff56-6ab0-4190-da00-1f070064ffe2",
        "colab": {
          "base_uri": "https://localhost:8080/"
        }
      },
      "outputs": [
        {
          "output_type": "stream",
          "name": "stdout",
          "text": [
            "0.008044655434787273 0.008044655434787273\n"
          ]
        }
      ],
      "source": [
        "print(loss.item(), loss.tolist())"
      ]
    },
    {
      "cell_type": "markdown",
      "metadata": {
        "id": "07rK1b7bNlL8"
      },
      "source": [
        "# Model"
      ]
    },
    {
      "cell_type": "markdown",
      "metadata": {
        "id": "Q4msy_0QNlL8"
      },
      "source": [
        "### Cell 1.9\n",
        "\n",
        "Creating a Manual Linear Regression Class\n",
        "\n",
        "`forward(self, x):` It performs the actual computation; that is, it outputs a prediction, given the input x.\n",
        "\n",
        "You should call the whole model instead, as in `model(x)`, to perform a forward pass and output predictions.\n",
        "\n",
        "\n",
        ""
      ]
    },
    {
      "cell_type": "code",
      "execution_count": 21,
      "metadata": {
        "id": "eqCTJsiMNlL8"
      },
      "outputs": [],
      "source": [
        "class ManualLinearRegression(nn.Module):\n",
        "    def __init__(self):\n",
        "        super().__init__()\n",
        "        # To make \"b\" and \"w\" real parameters of the model,\n",
        "        # we need to wrap them with nn.Parameter\n",
        "        self.b = nn.Parameter(torch.randn(1,\n",
        "                                          requires_grad=True,\n",
        "                                          dtype=torch.float))\n",
        "        self.w = nn.Parameter(torch.randn(1,\n",
        "                                          requires_grad=True,\n",
        "                                          dtype=torch.float))\n",
        "\n",
        "    def forward(self, x):\n",
        "        # Computes the outputs / predictions\n",
        "        return self.b + self.w * x"
      ]
    },
    {
      "cell_type": "markdown",
      "metadata": {
        "id": "GIcDn-ffNlL9"
      },
      "source": [
        "## Parameters"
      ]
    },
    {
      "cell_type": "code",
      "execution_count": 22,
      "metadata": {
        "id": "rLl4KmYKNlL9",
        "outputId": "fd207b98-5d51-4c9a-f996-3ef2928fdc25",
        "colab": {
          "base_uri": "https://localhost:8080/"
        }
      },
      "outputs": [
        {
          "output_type": "execute_result",
          "data": {
            "text/plain": [
              "[Parameter containing:\n",
              " tensor([0.3367], requires_grad=True),\n",
              " Parameter containing:\n",
              " tensor([0.1288], requires_grad=True)]"
            ]
          },
          "metadata": {},
          "execution_count": 22
        }
      ],
      "source": [
        "torch.manual_seed(42)\n",
        "# Creates a \"dummy\" instance of our ManualLinearRegression model\n",
        "dummy = ManualLinearRegression()\n",
        "list(dummy.parameters())"
      ]
    },
    {
      "cell_type": "markdown",
      "metadata": {
        "id": "9Gd-YsUwNlL9"
      },
      "source": [
        "## state_dict"
      ]
    },
    {
      "cell_type": "code",
      "execution_count": null,
      "metadata": {
        "id": "jkkmO7pJNlL9",
        "outputId": "ce7ec1d0-8f23-4724-cf8f-b5bc4d2c3455"
      },
      "outputs": [
        {
          "data": {
            "text/plain": [
              "OrderedDict([('b', tensor([0.3367])), ('w', tensor([0.1288]))])"
            ]
          },
          "execution_count": 56,
          "metadata": {},
          "output_type": "execute_result"
        }
      ],
      "source": [
        "dummy.state_dict()"
      ]
    },
    {
      "cell_type": "markdown",
      "metadata": {
        "id": "_BbeU3eENlL9"
      },
      "source": [
        "## device\n",
        "\n",
        "IMPORTANT: We need to **send our model to the same device where the data is**. If our data is made of GPU tensors, our model must \"live\" inside the GPU as well.\n",
        ""
      ]
    },
    {
      "cell_type": "code",
      "execution_count": 23,
      "metadata": {
        "id": "Jiv2fn2NNlL9"
      },
      "outputs": [],
      "source": [
        "torch.manual_seed(42)\n",
        "# Creates a \"dummy\" instance of our ManualLinearRegression model\n",
        "# and sends it to the device\n",
        "dummy = ManualLinearRegression().to(device)"
      ]
    },
    {
      "cell_type": "markdown",
      "metadata": {
        "id": "N_2gMvKZNlL9"
      },
      "source": [
        "## Forward Pass\n",
        "\n",
        "The forward pass is the moment when the model **makes predictions** using current regressor B and W\n",
        "\n",
        "**Remember:** You should make predictions calling `model(x)`.\n",
        "\n",
        "DO NOT call `model.forward(x)`!\n",
        "\n",
        "Otherwise, your model’s hooks will not work (if you have them).\n",
        "\n"
      ]
    },
    {
      "cell_type": "markdown",
      "metadata": {
        "id": "IIBTRRPINlL9"
      },
      "source": [
        "### Cell 1.10"
      ]
    },
    {
      "cell_type": "code",
      "execution_count": 24,
      "metadata": {
        "id": "6zsiPSMLNlL-",
        "outputId": "6f966753-6b87-487b-a8e2-afd3c9f1be2e",
        "colab": {
          "base_uri": "https://localhost:8080/"
        }
      },
      "outputs": [
        {
          "output_type": "stream",
          "name": "stdout",
          "text": [
            "OrderedDict([('b', tensor([1.0235], device='cuda:0')), ('w', tensor([1.9690], device='cuda:0'))])\n"
          ]
        }
      ],
      "source": [
        "# Sets learning rate - this is \"eta\" ~ the \"n\"-like\n",
        "# Greek letter\n",
        "lr = 0.1\n",
        "\n",
        "# Step 0 - Initializes parameters \"b\" and \"w\" randomly\n",
        "torch.manual_seed(42)\n",
        "# Now we can create a model and send it at once to the device\n",
        "model = ManualLinearRegression().to(device)\n",
        "\n",
        "# Defines a SGD optimizer to update the parameters\n",
        "# (now retrieved directly from the model)\n",
        "optimizer = optim.SGD(model.parameters(), lr=lr)\n",
        "\n",
        "# Defines a MSE loss function\n",
        "loss_fn = nn.MSELoss(reduction='mean')\n",
        "\n",
        "# Defines number of epochs\n",
        "n_epochs = 1000\n",
        "\n",
        "for epoch in range(n_epochs):\n",
        "    model.train() # What is this?!?\n",
        "\n",
        "    # Step 1 - Computes model's predicted output - forward pass\n",
        "    # No more manual prediction!\n",
        "    yhat = model(x_train_tensor)\n",
        "\n",
        "    # Step 2 - Computes the loss\n",
        "    loss = loss_fn(yhat, y_train_tensor)\n",
        "\n",
        "    # Step 3 - Computes gradients for both \"b\" and \"w\" parameters\n",
        "    loss.backward()\n",
        "\n",
        "    # Step 4 - Updates parameters using gradients and\n",
        "    # the learning rate\n",
        "    optimizer.step()\n",
        "    optimizer.zero_grad()\n",
        "\n",
        "# We can also inspect its parameters using its state_dict\n",
        "print(model.state_dict())"
      ]
    },
    {
      "cell_type": "markdown",
      "metadata": {
        "id": "-C2j1B_XNlL-"
      },
      "source": [
        "## Train Mode\n",
        "\n",
        "In PyTorch, models have a `train()` method, which, somewhat disappointingly, does NOT perform a training step. Its only purpose is to set the model to training mode.\n",
        "\n",
        "Why is this important? Some models may use mechanisms like Dropout, for instance, which have **distinct behaviors** during training and evaluation phases.\n",
        "\n",
        "Never forget to include `model.train()` in your training loop!"
      ]
    },
    {
      "cell_type": "markdown",
      "metadata": {
        "id": "bkg-wgo1NlL-"
      },
      "source": [
        "## Nested Models\n",
        "\n"
      ]
    },
    {
      "cell_type": "markdown",
      "source": [
        "We are implementing a single-feature linear regression, one input and one output, so the corresponding linear model would look like this:\n",
        "\n"
      ],
      "metadata": {
        "id": "fMKNTv5P2WCU"
      }
    },
    {
      "cell_type": "code",
      "execution_count": 37,
      "metadata": {
        "id": "6xjpVrWWNlL-",
        "outputId": "ef13ef62-11aa-462a-ecf7-4891e44026f3",
        "colab": {
          "base_uri": "https://localhost:8080/"
        }
      },
      "outputs": [
        {
          "output_type": "execute_result",
          "data": {
            "text/plain": [
              "Linear(in_features=1, out_features=1, bias=True)"
            ]
          },
          "metadata": {},
          "execution_count": 37
        }
      ],
      "source": [
        "linear = nn.Linear(1, 1)\n",
        "linear"
      ]
    },
    {
      "cell_type": "code",
      "execution_count": 40,
      "metadata": {
        "id": "H7AnctXCNlL-",
        "outputId": "14f99b08-c45f-4adb-f818-7fe399a14b24",
        "colab": {
          "base_uri": "https://localhost:8080/"
        }
      },
      "outputs": [
        {
          "output_type": "stream",
          "name": "stdout",
          "text": [
            "OrderedDict([('weight', tensor([[0.8815]])), ('bias', tensor([-0.7336]))])\n"
          ]
        },
        {
          "output_type": "execute_result",
          "data": {
            "text/plain": [
              "[Parameter containing:\n",
              " tensor([[0.8815]], requires_grad=True),\n",
              " Parameter containing:\n",
              " tensor([-0.7336], requires_grad=True)]"
            ]
          },
          "metadata": {},
          "execution_count": 40
        }
      ],
      "source": [
        "print(linear.state_dict())\n",
        "list(linear.parameters())"
      ]
    },
    {
      "cell_type": "markdown",
      "source": [
        "The former parameter **b** is the `bias`, and our former parameter **w** is the `weight` (your values will be different since I haven’t set up a random seed for this example).\n"
      ],
      "metadata": {
        "id": "aHS7h8132ahb"
      }
    },
    {
      "cell_type": "markdown",
      "metadata": {
        "id": "UT3ng6h2NlL_"
      },
      "source": [
        "### Cell 1.11 - Building a model using PyTorch’s Linear model\n",
        "\n"
      ]
    },
    {
      "cell_type": "code",
      "execution_count": 16,
      "metadata": {
        "id": "JzXfNY23NlL_"
      },
      "outputs": [],
      "source": [
        "class MyLinearRegression(nn.Module):\n",
        "    def __init__(self):\n",
        "        super().__init__()\n",
        "        # Instead of our custom parameters, we use a Linear model\n",
        "        # with single input and single output\n",
        "        self.linear = nn.Linear(1, 1)\n",
        "\n",
        "    def forward(self, x):\n",
        "        # Now it only takes a call\n",
        "        self.linear(x)"
      ]
    },
    {
      "cell_type": "markdown",
      "source": [
        "Now, if we call the `parameters()` method of this model, PyTorch will figure out the parameters of its attributes recursively.\n"
      ],
      "metadata": {
        "id": "sMIo8xxG3KWV"
      }
    },
    {
      "cell_type": "code",
      "execution_count": 17,
      "metadata": {
        "id": "tKFs871RNlL_",
        "outputId": "20153d09-af21-40da-cff2-c72398768e8a",
        "colab": {
          "base_uri": "https://localhost:8080/"
        }
      },
      "outputs": [
        {
          "output_type": "stream",
          "name": "stdout",
          "text": [
            "[Parameter containing:\n",
            "tensor([[0.7645]], device='cuda:0', requires_grad=True), Parameter containing:\n",
            "tensor([0.8300], device='cuda:0', requires_grad=True)] \n",
            "\n",
            "OrderedDict([('linear.weight', tensor([[0.7645]], device='cuda:0')), ('linear.bias', tensor([0.8300], device='cuda:0'))])\n"
          ]
        }
      ],
      "source": [
        "torch.manual_seed(42)\n",
        "dummy = MyLinearRegression().to(device)\n",
        "print(list(dummy.parameters()),\"\\n\")\n",
        "\n",
        "print(dummy.state_dict())"
      ]
    },
    {
      "cell_type": "markdown",
      "metadata": {
        "id": "YSANUeAONlL_"
      },
      "source": [
        "## Sequential Models"
      ]
    },
    {
      "cell_type": "markdown",
      "metadata": {
        "id": "tUgjGYEeNlL_"
      },
      "source": [
        "### Cell 1.12"
      ]
    },
    {
      "cell_type": "code",
      "execution_count": null,
      "metadata": {
        "id": "5ASG2yD9NlL_",
        "outputId": "d5213e34-c7de-4311-87be-82ef9fb8d921"
      },
      "outputs": [
        {
          "data": {
            "text/plain": [
              "OrderedDict([('0.weight', tensor([[0.7645]], device='cuda:0')),\n",
              "             ('0.bias', tensor([0.8300], device='cuda:0'))])"
            ]
          },
          "execution_count": 67,
          "metadata": {},
          "output_type": "execute_result"
        }
      ],
      "source": [
        "torch.manual_seed(42)\n",
        "# Alternatively, you can use a Sequential model\n",
        "model = nn.Sequential(nn.Linear(1, 1)).to(device)\n",
        "\n",
        "model.state_dict()"
      ]
    },
    {
      "cell_type": "markdown",
      "metadata": {
        "id": "lVbRdO9CNlL_"
      },
      "source": [
        "## Layers\n",
        "\n",
        "A Linear model can be seen as a layer in a neural network.\n",
        "\n",
        "In the figure below, the hidden layer would be **nn.Linear(3, 5)** (since it takes three inputs—from the input layer—and generates five outputs), and the output layer would be **nn.Linear(5, 1)** (since it takes five inputs—the outputs from the hidden layer—and generates a single output).\n",
        "\n",
        "![image.png](data:image/png;base64,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)\n"
      ]
    },
    {
      "cell_type": "markdown",
      "source": [
        "$output = bias + weight * Input$"
      ],
      "metadata": {
        "id": "U390oDJC5y-a"
      }
    },
    {
      "cell_type": "markdown",
      "source": [
        "If we use `Sequential()` to build it; it looks like this:\n"
      ],
      "metadata": {
        "id": "K0kpTCD_9aaO"
      }
    },
    {
      "cell_type": "code",
      "execution_count": 43,
      "metadata": {
        "id": "HBhVSQOPNlMA",
        "outputId": "9cae6daf-91f8-4aad-9cc3-a531a4eae307",
        "colab": {
          "base_uri": "https://localhost:8080/"
        }
      },
      "outputs": [
        {
          "output_type": "execute_result",
          "data": {
            "text/plain": [
              "OrderedDict([('0.weight',\n",
              "              tensor([[ 0.4414,  0.4792, -0.1353],\n",
              "                      [ 0.5304, -0.1265,  0.1165],\n",
              "                      [-0.2811,  0.3391,  0.5090],\n",
              "                      [-0.4236,  0.5018,  0.1081],\n",
              "                      [ 0.4266,  0.0782,  0.2784]], device='cuda:0')),\n",
              "             ('0.bias',\n",
              "              tensor([-0.0815,  0.4451,  0.0853, -0.2695,  0.1472], device='cuda:0')),\n",
              "             ('1.weight',\n",
              "              tensor([[-0.2060, -0.0524, -0.1816,  0.2967, -0.3530]], device='cuda:0')),\n",
              "             ('1.bias', tensor([-0.2062], device='cuda:0'))])"
            ]
          },
          "metadata": {},
          "execution_count": 43
        }
      ],
      "source": [
        "torch.manual_seed(42)\n",
        "# Building the model from the figure above\n",
        "model = nn.Sequential(nn.Linear(3, 5), nn.Linear(5, 1)).to(device)\n",
        "\n",
        "model.state_dict()"
      ]
    },
    {
      "cell_type": "markdown",
      "source": [
        "Since this sequential model does not have attribute names, `state_dict()` uses numeric prefixes. You can also use a model’s `add_module()` method to name the layers:\n"
      ],
      "metadata": {
        "id": "00fcqBXM9xiI"
      }
    },
    {
      "cell_type": "code",
      "execution_count": 2,
      "metadata": {
        "id": "VLWw0MnENlMA",
        "outputId": "c12426de-e1ff-4a8a-8bef-b10d7d9e82c3",
        "colab": {
          "base_uri": "https://localhost:8080/",
          "height": 211
        }
      },
      "outputs": [
        {
          "output_type": "error",
          "ename": "NameError",
          "evalue": "name 'torch' is not defined",
          "traceback": [
            "\u001b[0;31m---------------------------------------------------------------------------\u001b[0m",
            "\u001b[0;31mNameError\u001b[0m                                 Traceback (most recent call last)",
            "\u001b[0;32m<ipython-input-2-14e2858738e5>\u001b[0m in \u001b[0;36m<cell line: 0>\u001b[0;34m()\u001b[0m\n\u001b[0;32m----> 1\u001b[0;31m \u001b[0mtorch\u001b[0m\u001b[0;34m.\u001b[0m\u001b[0mmanual_seed\u001b[0m\u001b[0;34m(\u001b[0m\u001b[0;36m42\u001b[0m\u001b[0;34m)\u001b[0m\u001b[0;34m\u001b[0m\u001b[0;34m\u001b[0m\u001b[0m\n\u001b[0m\u001b[1;32m      2\u001b[0m \u001b[0;31m# Building the model from the figure above\u001b[0m\u001b[0;34m\u001b[0m\u001b[0;34m\u001b[0m\u001b[0m\n\u001b[1;32m      3\u001b[0m \u001b[0mmodel\u001b[0m \u001b[0;34m=\u001b[0m \u001b[0mnn\u001b[0m\u001b[0;34m.\u001b[0m\u001b[0mSequential\u001b[0m\u001b[0;34m(\u001b[0m\u001b[0;34m)\u001b[0m\u001b[0;34m\u001b[0m\u001b[0;34m\u001b[0m\u001b[0m\n\u001b[1;32m      4\u001b[0m \u001b[0mmodel\u001b[0m\u001b[0;34m.\u001b[0m\u001b[0madd_module\u001b[0m\u001b[0;34m(\u001b[0m\u001b[0;34m'layer1'\u001b[0m\u001b[0;34m,\u001b[0m \u001b[0mnn\u001b[0m\u001b[0;34m.\u001b[0m\u001b[0mLinear\u001b[0m\u001b[0;34m(\u001b[0m\u001b[0;36m3\u001b[0m\u001b[0;34m,\u001b[0m \u001b[0;36m5\u001b[0m\u001b[0;34m)\u001b[0m\u001b[0;34m)\u001b[0m\u001b[0;34m\u001b[0m\u001b[0;34m\u001b[0m\u001b[0m\n\u001b[1;32m      5\u001b[0m \u001b[0mmodel\u001b[0m\u001b[0;34m.\u001b[0m\u001b[0madd_module\u001b[0m\u001b[0;34m(\u001b[0m\u001b[0;34m'layer2'\u001b[0m\u001b[0;34m,\u001b[0m \u001b[0mnn\u001b[0m\u001b[0;34m.\u001b[0m\u001b[0mLinear\u001b[0m\u001b[0;34m(\u001b[0m\u001b[0;36m5\u001b[0m\u001b[0;34m,\u001b[0m \u001b[0;36m1\u001b[0m\u001b[0;34m)\u001b[0m\u001b[0;34m)\u001b[0m\u001b[0;34m\u001b[0m\u001b[0;34m\u001b[0m\u001b[0m\n",
            "\u001b[0;31mNameError\u001b[0m: name 'torch' is not defined"
          ]
        }
      ],
      "source": [
        "torch.manual_seed(42)\n",
        "# Building the model from the figure above\n",
        "model = nn.Sequential()\n",
        "model.add_module('layer1', nn.Linear(3, 5))\n",
        "model.add_module('layer2', nn.Linear(5, 1))\n",
        "model.to(device)"
      ]
    },
    {
      "cell_type": "markdown",
      "metadata": {
        "id": "wn3nAyciNlMA"
      },
      "source": [
        "# Putting It All Together"
      ]
    },
    {
      "cell_type": "markdown",
      "metadata": {
        "id": "M7MO2YEnNlMA"
      },
      "source": [
        "## Data Preparation"
      ]
    },
    {
      "cell_type": "markdown",
      "metadata": {
        "id": "x6B5TsNkNlMA"
      },
      "source": [
        "### Data Preparation V0"
      ]
    },
    {
      "cell_type": "code",
      "execution_count": 8,
      "metadata": {
        "id": "vwmJntazNlMA",
        "outputId": "8019fb31-ac53-498f-e08a-cc15b0cef743",
        "colab": {
          "base_uri": "https://localhost:8080/"
        }
      },
      "outputs": [
        {
          "output_type": "stream",
          "name": "stdout",
          "text": [
            "Writing data_preparation/v0.py\n"
          ]
        }
      ],
      "source": [
        "%%writefile data_preparation/v0.py\n",
        "\n",
        "device = 'cuda' if torch.cuda.is_available() else 'cpu'\n",
        "\n",
        "# Our data was in Numpy arrays, but we need to transform them\n",
        "# into PyTorch's Tensors and then we send them to the\n",
        "# chosen device\n",
        "x_train_tensor = torch.as_tensor(x_train).float().to(device)\n",
        "y_train_tensor = torch.as_tensor(y_train).float().to(device)"
      ]
    },
    {
      "cell_type": "markdown",
      "source": [
        "We know we have to run the **full sequence to train a model**: data preparation, model configuration, and model training. In Chapter 2, we’ll gradually improve each of these parts, versioning them inside each corresponding folder. So, saving them to files allows us to run a full sequence using different versions without having to duplicate code."
      ],
      "metadata": {
        "id": "f2VgH6GIFxto"
      }
    },
    {
      "cell_type": "markdown",
      "source": [
        "We are using the following two magics to better organize our code:\n",
        "\n",
        " ​▪​ `%%writefile`: As its name says, it writes the contents of the cell to a file, but it does not run it, so we need to use yet another magic.\n",
        "\n",
        " ​▪​ `%run`: It runs the named file inside the notebook as a program—but independent of the rest of the notebook, so we need to use the -i option to make all variables available, from both the notebook and the file (technically speaking, the file is executed in IPython’s namespace).\n"
      ],
      "metadata": {
        "id": "d5YUuBfHGhW8"
      }
    },
    {
      "cell_type": "code",
      "execution_count": 12,
      "metadata": {
        "id": "XluusHAoNlMB"
      },
      "outputs": [],
      "source": [
        "%run -i data_preparation/v0.py"
      ]
    },
    {
      "cell_type": "markdown",
      "metadata": {
        "id": "Fi9_ezryNlMB"
      },
      "source": [
        "## Model Configuration\n",
        "\n",
        "* Model\n",
        "\n",
        "* loss function (which needs to be chosen according to your model)\n",
        "\n",
        "* an optimizer (although some people may disagree with this choice, it makes it easier to further organize the code)\n",
        "\n"
      ]
    },
    {
      "cell_type": "markdown",
      "metadata": {
        "id": "qCtOB41rNlMB"
      },
      "source": [
        "### Model Configuration V0"
      ]
    },
    {
      "cell_type": "code",
      "execution_count": 13,
      "metadata": {
        "id": "eHdNtCsnNlMB",
        "outputId": "4e8102f7-174e-418e-cf0a-56d027fda488",
        "colab": {
          "base_uri": "https://localhost:8080/"
        }
      },
      "outputs": [
        {
          "output_type": "stream",
          "name": "stdout",
          "text": [
            "Overwriting model_configuration/v0.py\n"
          ]
        }
      ],
      "source": [
        "%%writefile model_configuration/v0.py\n",
        "\n",
        "# This is redundant now, but it won't be when we introduce\n",
        "# Datasets...\n",
        "device = 'cuda' if torch.cuda.is_available() else 'cpu'\n",
        "\n",
        "# Sets learning rate - this is \"eta\" ~ the \"n\"-like Greek letter\n",
        "lr = 0.1\n",
        "\n",
        "torch.manual_seed(42)\n",
        "# Now we can create a model and send it at once to the device\n",
        "model = nn.Sequential(nn.Linear(1, 1)).to(device)\n",
        "\n",
        "# Defines a SGD optimizer to update the parameters\n",
        "# (now retrieved directly from the model)\n",
        "optimizer = optim.SGD(model.parameters(), lr=lr)\n",
        "\n",
        "# Defines a MSE loss function\n",
        "loss_fn = nn.MSELoss(reduction='mean')"
      ]
    },
    {
      "cell_type": "code",
      "execution_count": 14,
      "metadata": {
        "id": "Q_hoOf-nNlMB"
      },
      "outputs": [],
      "source": [
        "%run -i model_configuration/v0.py"
      ]
    },
    {
      "cell_type": "markdown",
      "metadata": {
        "id": "snclqsFnNlMB"
      },
      "source": [
        "## Model Training\n",
        "\n",
        "* Step 1: compute model’s predictions\n",
        "* Step 2: compute the loss ​\n",
        "* Step 3: compute the gradients\n",
        "* Step 4: Update parameters\n",
        "\n"
      ]
    },
    {
      "cell_type": "markdown",
      "metadata": {
        "id": "NJko9NbGNlMB"
      },
      "source": [
        "### Model Training V0"
      ]
    },
    {
      "cell_type": "code",
      "execution_count": 18,
      "metadata": {
        "id": "sPotGbBmNlMB",
        "outputId": "aa94c24c-2f46-411d-d4c4-34a74a1f6f57",
        "colab": {
          "base_uri": "https://localhost:8080/"
        }
      },
      "outputs": [
        {
          "output_type": "stream",
          "name": "stdout",
          "text": [
            "Writing model_training/v0.py\n"
          ]
        }
      ],
      "source": [
        "%%writefile model_training/v0.py\n",
        "\n",
        "# Defines number of epochs\n",
        "n_epochs = 1000\n",
        "\n",
        "for epoch in range(n_epochs):\n",
        "    # Sets model to TRAIN mode\n",
        "    model.train()\n",
        "\n",
        "    # Step 1 - Computes model's predicted output - forward pass\n",
        "    yhat = model(x_train_tensor)\n",
        "\n",
        "    # Step 2 - Computes the loss\n",
        "    loss = loss_fn(yhat, y_train_tensor)\n",
        "\n",
        "    # Step 3 - Computes gradients for both \"b\" and \"w\" parameters\n",
        "    loss.backward()\n",
        "\n",
        "    # Step 4 - Updates parameters using gradients and\n",
        "    # the learning rate\n",
        "    optimizer.step()\n",
        "    optimizer.zero_grad()"
      ]
    },
    {
      "cell_type": "markdown",
      "source": [
        "\n",
        "\n",
        "\n"
      ],
      "metadata": {
        "id": "c2FzFPgLFZXZ"
      }
    },
    {
      "cell_type": "code",
      "execution_count": 19,
      "metadata": {
        "id": "y4l7SGJmNlMC"
      },
      "outputs": [],
      "source": [
        "%run -i model_training/v0.py"
      ]
    },
    {
      "cell_type": "code",
      "execution_count": 21,
      "metadata": {
        "id": "FS8aigbPNlMC",
        "outputId": "aace5624-3146-4bf2-ea25-86ea835aa119",
        "colab": {
          "base_uri": "https://localhost:8080/"
        }
      },
      "outputs": [
        {
          "output_type": "stream",
          "name": "stdout",
          "text": [
            "OrderedDict([('0.weight', tensor([[1.9690]], device='cuda:0')), ('0.bias', tensor([1.0235], device='cuda:0'))])\n"
          ]
        }
      ],
      "source": [
        "print(model.state_dict())"
      ]
    },
    {
      "cell_type": "code",
      "execution_count": null,
      "metadata": {
        "id": "ChLAVFSaNlMC"
      },
      "outputs": [],
      "source": []
    }
  ],
  "metadata": {
    "kernelspec": {
      "display_name": "Python 3",
      "name": "python3"
    },
    "language_info": {
      "codemirror_mode": {
        "name": "ipython",
        "version": 3
      },
      "file_extension": ".py",
      "mimetype": "text/x-python",
      "name": "python",
      "nbconvert_exporter": "python",
      "pygments_lexer": "ipython3",
      "version": "3.7.5"
    },
    "colab": {
      "provenance": [],
      "gpuType": "T4",
      "include_colab_link": true
    },
    "accelerator": "GPU"
  },
  "nbformat": 4,
  "nbformat_minor": 0
}