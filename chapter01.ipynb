{
  "cells": [
    {
      "cell_type": "markdown",
      "metadata": {
        "id": "0LXdd8FvNlLm"
      },
      "source": [
        "# Deep Learning with PyTorch Step-by-Step: A Beginner's Guide"
      ]
    },
    {
      "cell_type": "markdown",
      "metadata": {
        "id": "wJT8ze55NlLn"
      },
      "source": [
        "# Chapter 1"
      ]
    },
    {
      "cell_type": "code",
      "execution_count": 1,
      "metadata": {
        "id": "61kfYmUoNlLn",
        "colab": {
          "base_uri": "https://localhost:8080/"
        },
        "outputId": "552d32e1-7481-4e5e-bea4-fa5009642cf3"
      },
      "outputs": [
        {
          "output_type": "stream",
          "name": "stdout",
          "text": [
            "Installing torchviz...\n",
            "Downloading files from GitHub repo to Colab...\n",
            "Creating folders...\n",
            "Finished!\n"
          ]
        }
      ],
      "source": [
        "try:\n",
        "    import google.colab\n",
        "    import requests\n",
        "    url = 'https://raw.githubusercontent.com/dvgodoy/PyTorchStepByStep/master/config.py'\n",
        "    r = requests.get(url, allow_redirects=True)\n",
        "    open('config.py', 'wb').write(r.content)\n",
        "except ModuleNotFoundError:\n",
        "    pass\n",
        "\n",
        "from config import *\n",
        "config_chapter1()\n",
        "# This is needed to render the plots in this chapter\n",
        "from plots.chapter1 import *"
      ]
    },
    {
      "cell_type": "code",
      "execution_count": 2,
      "metadata": {
        "id": "4amwfx23NlLo"
      },
      "outputs": [],
      "source": [
        "import numpy as np\n",
        "from sklearn.linear_model import LinearRegression\n",
        "\n",
        "import torch\n",
        "import torch.optim as optim\n",
        "import torch.nn as nn\n",
        "from torchviz import make_dot"
      ]
    },
    {
      "cell_type": "markdown",
      "metadata": {
        "id": "eerNKQwANlLo"
      },
      "source": [
        "# A Simple Regression Problem\n",
        "\n",
        "$$\n",
        "\\Large y = b + w x + \\epsilon\n",
        "$$"
      ]
    },
    {
      "cell_type": "markdown",
      "metadata": {
        "id": "UFWTBIfLNlLp"
      },
      "source": [
        "## Data Generation"
      ]
    },
    {
      "cell_type": "markdown",
      "metadata": {
        "id": "4MaOahzyNlLp"
      },
      "source": [
        "### Synthetic Data Generation"
      ]
    },
    {
      "cell_type": "code",
      "execution_count": 3,
      "metadata": {
        "id": "ZrbJoGDdNlLp"
      },
      "outputs": [],
      "source": [
        "true_b = 1\n",
        "true_w = 2\n",
        "N = 100\n",
        "\n",
        "# Data Generation\n",
        "np.random.seed(42)\n",
        "x = np.random.rand(N, 1)\n",
        "epsilon = (.1 * np.random.randn(N, 1))\n",
        "y = true_b + true_w * x + epsilon"
      ]
    },
    {
      "cell_type": "markdown",
      "metadata": {
        "id": "c905jzFTNlLp"
      },
      "source": [
        "### Split Train / Test"
      ]
    },
    {
      "cell_type": "code",
      "execution_count": 4,
      "metadata": {
        "id": "sIlwwvCMNlLp"
      },
      "outputs": [],
      "source": [
        "# Shuffles the indices\n",
        "idx = np.arange(N)\n",
        "np.random.shuffle(idx)\n",
        "\n",
        "# Uses first 80 random indices for train\n",
        "train_idx = idx[:int(N*.8)]\n",
        "# Uses the remaining indices for validation\n",
        "val_idx = idx[int(N*.8):]\n",
        "\n",
        "# Generates train and validation sets\n",
        "x_train, y_train = x[train_idx], y[train_idx]\n",
        "x_val, y_val = x[val_idx], y[val_idx]"
      ]
    },
    {
      "cell_type": "code",
      "execution_count": 5,
      "metadata": {
        "id": "bc0PsoxnNlLp",
        "outputId": "c92b61a8-918b-4939-974b-958715d2d6dc",
        "colab": {
          "base_uri": "https://localhost:8080/",
          "height": 664
        }
      },
      "outputs": [
        {
          "output_type": "execute_result",
          "data": {
            "text/plain": [
              "(<Figure size 1200x600 with 2 Axes>,\n",
              " array([<Axes: title={'center': 'Generated Data - Train'}, xlabel='x', ylabel='y'>,\n",
              "        <Axes: title={'center': 'Generated Data - Validation'}, xlabel='x', ylabel='y'>],\n",
              "       dtype=object))"
            ]
          },
          "metadata": {},
          "execution_count": 5
        },
        {
          "output_type": "display_data",
          "data": {
            "text/plain": [
              "<Figure size 1200x600 with 2 Axes>"
            ],
            "image/png": "[encoded data removed]"
          },
          "metadata": {}
        }
      ],
      "source": [
        "figure1(x_train, y_train, x_val, y_val)"
      ]
    },
    {
      "cell_type": "markdown",
      "metadata": {
        "id": "wnKs8535NlLt"
      },
      "source": [
        "# PyTorch"
      ]
    },
    {
      "cell_type": "markdown",
      "metadata": {
        "id": "pCV2G39tNlLt"
      },
      "source": [
        "## Tensor"
      ]
    },
    {
      "cell_type": "code",
      "execution_count": 6,
      "metadata": {
        "id": "q4lqMd_lNlLt",
        "outputId": "1888f08b-7d14-4ba7-c590-6f66bd09c86a",
        "colab": {
          "base_uri": "https://localhost:8080/"
        }
      },
      "outputs": [
        {
          "output_type": "stream",
          "name": "stdout",
          "text": [
            "tensor(3.1416)\n",
            "tensor([1, 2, 3])\n",
            "tensor([[1., 1., 1.],\n",
            "        [1., 1., 1.]])\n",
            "tensor([[[-1.0871, -1.3002, -0.3579, -0.5835],\n",
            "         [ 0.0307, -1.3849, -1.1307, -1.5461],\n",
            "         [-1.1021,  2.3302, -0.2731,  1.6152]],\n",
            "\n",
            "        [[ 1.2923,  0.9392,  0.9635,  1.0682],\n",
            "         [-0.2053,  0.6865, -1.6358, -1.4018],\n",
            "         [-0.9179,  0.8027, -1.4956,  0.0252]]])\n"
          ]
        }
      ],
      "source": [
        "scalar = torch.tensor(3.14159)\n",
        "vector = torch.tensor([1, 2, 3])\n",
        "matrix = torch.ones((2, 3), dtype=torch.float)\n",
        "tensor = torch.randn((2, 3, 4), dtype=torch.float)\n",
        "\n",
        "print(scalar)\n",
        "print(vector)\n",
        "print(matrix)\n",
        "print(tensor)"
      ]
    },
    {
      "cell_type": "code",
      "execution_count": null,
      "metadata": {
        "id": "1dFqyWvENlLu",
        "outputId": "c553c5ff-917f-4fd9-acad-ce94b5532112",
        "colab": {
          "base_uri": "https://localhost:8080/"
        }
      },
      "outputs": [
        {
          "output_type": "stream",
          "name": "stdout",
          "text": [
            "torch.Size([2, 3, 4]) torch.Size([2, 3, 4])\n"
          ]
        }
      ],
      "source": [
        "print(tensor.size(), tensor.shape)"
      ]
    },
    {
      "cell_type": "code",
      "execution_count": null,
      "metadata": {
        "id": "DeGncJiNNlLu",
        "outputId": "f7046524-7f3b-4872-cd99-dcd1fc1b4b1c",
        "colab": {
          "base_uri": "https://localhost:8080/"
        }
      },
      "outputs": [
        {
          "output_type": "stream",
          "name": "stdout",
          "text": [
            "torch.Size([]) torch.Size([])\n"
          ]
        }
      ],
      "source": [
        "print(scalar.size(), scalar.shape)"
      ]
    },
    {
      "cell_type": "code",
      "execution_count": 7,
      "metadata": {
        "id": "QWfFpEWzNlLu",
        "outputId": "d10aca47-3f8b-4c58-bcef-c09fac1a4de7",
        "colab": {
          "base_uri": "https://localhost:8080/"
        }
      },
      "outputs": [
        {
          "output_type": "stream",
          "name": "stdout",
          "text": [
            "tensor([[1., 2., 1.],\n",
            "        [1., 1., 1.]])\n",
            "tensor([[1., 2., 1., 1., 1., 1.]])\n"
          ]
        }
      ],
      "source": [
        "# We get a tensor with a different shape but it still is\n",
        "# the SAME tensor\n",
        "same_matrix = matrix.view(1, 6)\n",
        "# If we change one of its elements...\n",
        "same_matrix[0, 1] = 2.\n",
        "# It changes both variables: matrix and same_matrix\n",
        "print(matrix)\n",
        "print(same_matrix)"
      ]
    },
    {
      "cell_type": "code",
      "execution_count": 8,
      "metadata": {
        "id": "TbNGIh2wNlLu",
        "outputId": "e536cf9e-bbc3-44c1-be37-ab8a5fe892fd",
        "colab": {
          "base_uri": "https://localhost:8080/"
        }
      },
      "outputs": [
        {
          "output_type": "stream",
          "name": "stdout",
          "text": [
            "tensor([[1., 2., 1.],\n",
            "        [1., 1., 1.]])\n",
            "tensor([[1., 3., 1., 1., 1., 1.]])\n"
          ]
        },
        {
          "output_type": "stream",
          "name": "stderr",
          "text": [
            "<ipython-input-8-bac3a3914f46>:2: UserWarning: To copy construct from a tensor, it is recommended to use sourceTensor.clone().detach() or sourceTensor.clone().detach().requires_grad_(True), rather than tensor.new_tensor(sourceTensor).\n",
            "  different_matrix = matrix.new_tensor(matrix.view(1, 6))\n"
          ]
        }
      ],
      "source": [
        "# We can use \"new_tensor\" method to REALLY copy it into a new one\n",
        "different_matrix = matrix.new_tensor(matrix.view(1, 6))\n",
        "# Now, if we change one of its elements...\n",
        "different_matrix[0, 1] = 3.\n",
        "# The original tensor (matrix) is left untouched!\n",
        "# But we get a \"warning\" from PyTorch telling us\n",
        "# to use \"clone()\" instead!\n",
        "print(matrix)\n",
        "print(different_matrix)"
      ]
    },
    {
      "cell_type": "code",
      "execution_count": 9,
      "metadata": {
        "id": "qhNtkOoFNlLv",
        "outputId": "18fb02ca-930e-4569-cc60-ee32909e553d",
        "colab": {
          "base_uri": "https://localhost:8080/"
        }
      },
      "outputs": [
        {
          "output_type": "stream",
          "name": "stdout",
          "text": [
            "tensor([[1., 2., 1.],\n",
            "        [1., 1., 1.]])\n",
            "tensor([[1., 4., 1., 1., 1., 1.]])\n"
          ]
        }
      ],
      "source": [
        "# Lets follow PyTorch's suggestion and use \"clone\" method\n",
        "another_matrix = matrix.view(1, 6).clone().detach()\n",
        "# Again, if we change one of its elements...\n",
        "another_matrix[0, 1] = 4.\n",
        "# The original tensor (matrix) is left untouched!\n",
        "print(matrix)\n",
        "print(another_matrix)"
      ]
    },
    {
      "cell_type": "markdown",
      "metadata": {
        "id": "PRhuxFCBNlLv"
      },
      "source": [
        "## Loading Data, Devices and CUDA"
      ]
    },
    {
      "cell_type": "code",
      "execution_count": 10,
      "metadata": {
        "id": "sczlCTzfNlLv",
        "outputId": "72163d02-994e-4515-a8ad-8d76ab7b4d46",
        "colab": {
          "base_uri": "https://localhost:8080/"
        }
      },
      "outputs": [
        {
          "output_type": "execute_result",
          "data": {
            "text/plain": [
              "(dtype('float64'), torch.float64)"
            ]
          },
          "metadata": {},
          "execution_count": 10
        }
      ],
      "source": [
        "x_train_tensor = torch.as_tensor(x_train)\n",
        "x_train.dtype, x_train_tensor.dtype"
      ]
    },
    {
      "cell_type": "code",
      "execution_count": 11,
      "metadata": {
        "id": "j_IzO15UNlL0",
        "outputId": "aff1eafe-6393-42cc-d9a9-311ce69d115a",
        "colab": {
          "base_uri": "https://localhost:8080/"
        }
      },
      "outputs": [
        {
          "output_type": "execute_result",
          "data": {
            "text/plain": [
              "torch.float32"
            ]
          },
          "metadata": {},
          "execution_count": 11
        }
      ],
      "source": [
        "float_tensor = x_train_tensor.float()\n",
        "float_tensor.dtype"
      ]
    },
    {
      "cell_type": "code",
      "execution_count": 12,
      "metadata": {
        "id": "BnrN0FviNlL0",
        "outputId": "4cc57b2b-4b00-4281-c0c7-65eb6fffe0df",
        "colab": {
          "base_uri": "https://localhost:8080/"
        }
      },
      "outputs": [
        {
          "output_type": "execute_result",
          "data": {
            "text/plain": [
              "tensor([1, 0, 3])"
            ]
          },
          "metadata": {},
          "execution_count": 12
        }
      ],
      "source": [
        "dummy_array = np.array([1, 2, 3])\n",
        "dummy_tensor = torch.as_tensor(dummy_array)\n",
        "# Modifies the numpy array\n",
        "dummy_array[1] = 0\n",
        "# Tensor gets modified too...\n",
        "dummy_tensor"
      ]
    },
    {
      "cell_type": "code",
      "execution_count": null,
      "metadata": {
        "id": "mRUD5I4-NlL0",
        "outputId": "694494dd-e814-4aac-8c67-4987f89a64e2",
        "colab": {
          "base_uri": "https://localhost:8080/"
        }
      },
      "outputs": [
        {
          "output_type": "execute_result",
          "data": {
            "text/plain": [
              "array([1, 0, 3])"
            ]
          },
          "metadata": {},
          "execution_count": 32
        }
      ],
      "source": [
        "dummy_tensor.numpy()"
      ]
    },
    {
      "cell_type": "markdown",
      "metadata": {
        "id": "kjtA5R56NlL0"
      },
      "source": [
        "### Defining your device"
      ]
    },
    {
      "cell_type": "code",
      "execution_count": 13,
      "metadata": {
        "id": "aC812ZahNlL0",
        "colab": {
          "base_uri": "https://localhost:8080/",
          "height": 35
        },
        "outputId": "3540863d-d0f5-4592-d4db-6844c0b108bf"
      },
      "outputs": [
        {
          "output_type": "execute_result",
          "data": {
            "text/plain": [
              "'cuda'"
            ],
            "application/vnd.google.colaboratory.intrinsic+json": {
              "type": "string"
            }
          },
          "metadata": {},
          "execution_count": 13
        }
      ],
      "source": [
        "device = 'cuda' if torch.cuda.is_available() else 'cpu'\n",
        "device"
      ]
    },
    {
      "cell_type": "code",
      "execution_count": 14,
      "metadata": {
        "id": "2KVEB_vONlL1",
        "colab": {
          "base_uri": "https://localhost:8080/"
        },
        "outputId": "aba917cb-4517-46e2-a822-af1e2eabbf2c"
      },
      "outputs": [
        {
          "output_type": "stream",
          "name": "stdout",
          "text": [
            "Tesla T4\n"
          ]
        }
      ],
      "source": [
        "n_cudas = torch.cuda.device_count()\n",
        "for i in range(n_cudas):\n",
        "    print(torch.cuda.get_device_name(i))"
      ]
    },
    {
      "cell_type": "code",
      "execution_count": 15,
      "metadata": {
        "id": "NSYhLKW6NlL1",
        "outputId": "b82defa0-0775-4d59-902c-5d92bb546d20",
        "colab": {
          "base_uri": "https://localhost:8080/"
        }
      },
      "outputs": [
        {
          "output_type": "execute_result",
          "data": {
            "text/plain": [
              "tensor([0.7713], device='cuda:0', dtype=torch.float64)"
            ]
          },
          "metadata": {},
          "execution_count": 15
        }
      ],
      "source": [
        "gpu_tensor = torch.as_tensor(x_train).to(device)\n",
        "gpu_tensor[0]"
      ]
    },
    {
      "cell_type": "markdown",
      "metadata": {
        "id": "aMO78P0KNlL1"
      },
      "source": [
        "### Cell 1.3"
      ]
    },
    {
      "cell_type": "code",
      "execution_count": 16,
      "metadata": {
        "scrolled": true,
        "id": "qWzl3hBGNlL1"
      },
      "outputs": [],
      "source": [
        "device = 'cuda' if torch.cuda.is_available() else 'cpu'\n",
        "\n",
        "# Our data was in Numpy arrays, but we need to transform them\n",
        "# into PyTorch's Tensors and then we send them to the\n",
        "# chosen device\n",
        "x_train_tensor = torch.as_tensor(x_train).float().to(device)\n",
        "y_train_tensor = torch.as_tensor(y_train).float().to(device)"
      ]
    },
    {
      "cell_type": "code",
      "execution_count": 17,
      "metadata": {
        "id": "-HpFMkdvNlL1",
        "outputId": "b80ef61a-eb0f-484b-b29d-79c438fc05d1",
        "colab": {
          "base_uri": "https://localhost:8080/"
        }
      },
      "outputs": [
        {
          "output_type": "stream",
          "name": "stdout",
          "text": [
            "<class 'numpy.ndarray'> <class 'torch.Tensor'> torch.cuda.FloatTensor\n"
          ]
        }
      ],
      "source": [
        "# Here we can see the difference - notice that .type() is more\n",
        "# useful since it also tells us WHERE the tensor is (device)\n",
        "print(type(x_train), type(x_train_tensor), x_train_tensor.type())"
      ]
    },
    {
      "cell_type": "code",
      "execution_count": 18,
      "metadata": {
        "id": "EfTDZ0g9NlL1",
        "outputId": "3ceb262f-faea-4c11-9ef9-c9ac88b61cff",
        "colab": {
          "base_uri": "https://localhost:8080/",
          "height": 141
        }
      },
      "outputs": [
        {
          "output_type": "error",
          "ename": "TypeError",
          "evalue": "can't convert cuda:0 device type tensor to numpy. Use Tensor.cpu() to copy the tensor to host memory first.",
          "traceback": [
            "\u001b[0;31m---------------------------------------------------------------------------\u001b[0m",
            "\u001b[0;31mTypeError\u001b[0m                                 Traceback (most recent call last)",
            "\u001b[0;32m<ipython-input-18-bbb26eb4f53c>\u001b[0m in \u001b[0;36m<cell line: 0>\u001b[0;34m()\u001b[0m\n\u001b[0;32m----> 1\u001b[0;31m \u001b[0mback_to_numpy\u001b[0m \u001b[0;34m=\u001b[0m \u001b[0mx_train_tensor\u001b[0m\u001b[0;34m.\u001b[0m\u001b[0mnumpy\u001b[0m\u001b[0;34m(\u001b[0m\u001b[0;34m)\u001b[0m\u001b[0;34m\u001b[0m\u001b[0;34m\u001b[0m\u001b[0m\n\u001b[0m",
            "\u001b[0;31mTypeError\u001b[0m: can't convert cuda:0 device type tensor to numpy. Use Tensor.cpu() to copy the tensor to host memory first."
          ]
        }
      ],
      "source": [
        "back_to_numpy = x_train_tensor.numpy()"
      ]
    },
    {
      "cell_type": "code",
      "execution_count": null,
      "metadata": {
        "id": "QomLPbrCNlL1"
      },
      "outputs": [],
      "source": [
        "back_to_numpy = x_train_tensor.cpu().numpy()"
      ]
    },
    {
      "cell_type": "markdown",
      "metadata": {
        "id": "Vrgf88LRNlL1"
      },
      "source": [
        "## Creating Parameters\n",
        "\n",
        "In the next few pages, I will present **four** chunks of code showing different attempts at creating parameters.\n",
        "\n",
        "The first three attempts are shown to build up to a solution.\n",
        "1. The first one only works well if you use **CPU TENSORs**\n",
        "1. The second one uses **GPU TENSORs** and doesn’t work at all.\n",
        "1. The third one works, but it is too verbose.\n",
        "1. The recommended way of creating parameters is the last: Notebook Cell 1.4.\n"
      ]
    },
    {
      "cell_type": "code",
      "execution_count": null,
      "metadata": {
        "id": "wyQVS839NlL1",
        "outputId": "f7e90624-a637-42e1-e0c0-52ac161220b6",
        "colab": {
          "base_uri": "https://localhost:8080/"
        }
      },
      "outputs": [
        {
          "output_type": "stream",
          "name": "stdout",
          "text": [
            "tensor([0.3367], requires_grad=True) tensor([0.1288], requires_grad=True)\n"
          ]
        }
      ],
      "source": [
        "# FIRST\n",
        "# Initializes parameters \"b\" and \"w\" randomly, ALMOST as we\n",
        "# did in Numpy since we want to apply gradient descent on\n",
        "# these parameters we need to set REQUIRES_GRAD = TRUE\n",
        "torch.manual_seed(42)\n",
        "b = torch.randn(1, requires_grad=True, dtype=torch.float)\n",
        "w = torch.randn(1, requires_grad=True, dtype=torch.float)\n",
        "print(b, w)"
      ]
    },
    {
      "cell_type": "code",
      "execution_count": null,
      "metadata": {
        "id": "zmamy4MiNlL2",
        "outputId": "423d2839-b528-43e8-f2e4-d5d8c312dc8a",
        "colab": {
          "base_uri": "https://localhost:8080/"
        }
      },
      "outputs": [
        {
          "output_type": "stream",
          "name": "stdout",
          "text": [
            "tensor([0.3367], device='cuda:0', grad_fn=<ToCopyBackward0>) tensor([0.1288], device='cuda:0', grad_fn=<ToCopyBackward0>)\n"
          ]
        }
      ],
      "source": [
        "# SECOND\n",
        "# But what if we want to run it on a GPU? We could just\n",
        "# send them to device, right?\n",
        "torch.manual_seed(42)\n",
        "b = torch.randn(1, requires_grad=True, dtype=torch.float).to(device)\n",
        "w = torch.randn(1, requires_grad=True, dtype=torch.float).to(device)\n",
        "print(b, w)\n",
        "# Sorry, but NO! The to(device) \"shadows\" the gradient..."
      ]
    },
    {
      "cell_type": "markdown",
      "source": [
        "We succeeded in sending them to another device, but we \"lost\" the gradients somehow, since there is no more `requires_grad=True`\n"
      ],
      "metadata": {
        "id": "ztUiJ04knqpM"
      }
    },
    {
      "cell_type": "code",
      "execution_count": null,
      "metadata": {
        "id": "h7frx_HyNlL2",
        "outputId": "900c58f2-f467-4723-9b86-27ddc6b6bb3e"
      },
      "outputs": [
        {
          "name": "stdout",
          "output_type": "stream",
          "text": [
            "tensor([0.3367], requires_grad=True) tensor([0.1288], requires_grad=True)\n"
          ]
        }
      ],
      "source": [
        "# THIRD\n",
        "# We can either create regular tensors and send them to\n",
        "# the device (as we did with our data)\n",
        "torch.manual_seed(42)\n",
        "b = torch.randn(1, dtype=torch.float).to(device)\n",
        "w = torch.randn(1, dtype=torch.float).to(device)\n",
        "# and THEN set them as requiring gradients...\n",
        "b.requires_grad_()\n",
        "w.requires_grad_()\n",
        "print(b, w)"
      ]
    },
    {
      "cell_type": "markdown",
      "metadata": {
        "id": "dusS7LcDNlL2"
      },
      "source": [
        "### Cell 1.4"
      ]
    },
    {
      "cell_type": "code",
      "execution_count": 20,
      "metadata": {
        "id": "-HBsL6vDNlL2",
        "outputId": "6b75a376-63f6-4f27-9ec0-350501f09e17",
        "colab": {
          "base_uri": "https://localhost:8080/"
        }
      },
      "outputs": [
        {
          "output_type": "stream",
          "name": "stdout",
          "text": [
            "tensor([0.1940], device='cuda:0', requires_grad=True) tensor([0.1391], device='cuda:0', requires_grad=True)\n"
          ]
        }
      ],
      "source": [
        "# FINAL\n",
        "# We can specify the device at the moment of creation\n",
        "# RECOMMENDED!\n",
        "\n",
        "# Step 0 - Initializes parameters \"b\" and \"w\" randomly\n",
        "torch.manual_seed(42)\n",
        "b = torch.randn(1, requires_grad=True, \\\n",
        "                dtype=torch.float, device=device)\n",
        "w = torch.randn(1, requires_grad=True, \\\n",
        "                dtype=torch.float, device=device)\n",
        "print(b, w)"
      ]
    },
    {
      "cell_type": "markdown",
      "metadata": {
        "id": "9JpXtZ-LNlL2"
      },
      "source": [
        "# Autograd\n",
        "\n",
        "`Autograd` is PyTorch’s automatic differentiation package. Thanks to it, we don’t need to worry about partial derivatives, chain rule, or anything like it.\n"
      ]
    },
    {
      "cell_type": "markdown",
      "metadata": {
        "id": "86Ek8AOxNlL2"
      },
      "source": [
        "## backward\n",
        "\n",
        "method. It will **compute gradients** for all (gradient-requiring) tensors involved in the computation of a given variable.\n"
      ]
    },
    {
      "cell_type": "markdown",
      "metadata": {
        "id": "O_qWJwdiNlL2"
      },
      "source": [
        "### Cell 1.5"
      ]
    },
    {
      "cell_type": "code",
      "execution_count": 22,
      "metadata": {
        "id": "gMyOgh-3NlL2"
      },
      "outputs": [],
      "source": [
        "# Step 1 - Computes our model's predicted output - forward pass\n",
        "yhat = b + w * x_train_tensor\n",
        "\n",
        "# Step 2 - Computes the loss\n",
        "# We are using ALL data points, so this is BATCH gradient descent\n",
        "# How wrong is our model? That's the error!\n",
        "error = (yhat - y_train_tensor)\n",
        "# It is a regression, so it computes mean squared error (MSE)\n",
        "loss = (error ** 2).mean()\n",
        "\n",
        "# Step 3 - Computes gradients for both \"b\" and \"w\" parameters\n",
        "# No more manual computation of gradients!\n",
        "# b_grad = 2 * error.mean()\n",
        "# w_grad = 2 * (x_tensor * error).mean()\n",
        "loss.backward()"
      ]
    },
    {
      "cell_type": "code",
      "execution_count": null,
      "metadata": {
        "id": "aWRx1O8dNlL3",
        "outputId": "80746358-214e-4406-f2bf-1e8c83c8fc9f"
      },
      "outputs": [
        {
          "name": "stdout",
          "output_type": "stream",
          "text": [
            "True True True True\n",
            "False False\n"
          ]
        }
      ],
      "source": [
        "print(error.requires_grad, yhat.requires_grad, \\\n",
        "      b.requires_grad, w.requires_grad)\n",
        "print(y_train_tensor.requires_grad, x_train_tensor.requires_grad)"
      ]
    },
    {
      "cell_type": "markdown",
      "metadata": {
        "id": "3sIfFc53NlL3"
      },
      "source": [
        "## grad"
      ]
    },
    {
      "cell_type": "code",
      "execution_count": 23,
      "metadata": {
        "id": "4otruH3CNlL3",
        "outputId": "cabf1e5a-f079-4983-a3f5-0ea591d8719e",
        "colab": {
          "base_uri": "https://localhost:8080/"
        }
      },
      "outputs": [
        {
          "output_type": "stream",
          "name": "stdout",
          "text": [
            "tensor([-6.7762], device='cuda:0') tensor([-3.8878], device='cuda:0')\n"
          ]
        }
      ],
      "source": [
        "print(b.grad, w.grad)"
      ]
    },
    {
      "cell_type": "code",
      "execution_count": null,
      "metadata": {
        "id": "OjJy7meFNlL3"
      },
      "outputs": [],
      "source": [
        "# Just run the two cells above one more time"
      ]
    },
    {
      "cell_type": "markdown",
      "metadata": {
        "id": "CLf39geqNlL3"
      },
      "source": [
        "## zero_"
      ]
    },
    {
      "cell_type": "code",
      "execution_count": 24,
      "metadata": {
        "id": "_im3om4rNlL3",
        "outputId": "c19050da-e0c6-4278-e201-60b2af5345bf",
        "colab": {
          "base_uri": "https://localhost:8080/"
        }
      },
      "outputs": [
        {
          "output_type": "execute_result",
          "data": {
            "text/plain": [
              "(tensor([0.], device='cuda:0'), tensor([0.], device='cuda:0'))"
            ]
          },
          "metadata": {},
          "execution_count": 24
        }
      ],
      "source": [
        "# This code will be placed *after* Step 4\n",
        "# (updating the parameters)\n",
        "b.grad.zero_(), w.grad.zero_()"
      ]
    },
    {
      "cell_type": "markdown",
      "metadata": {
        "id": "rBCb5v47NlL4"
      },
      "source": [
        "## Updating Parameters"
      ]
    },
    {
      "cell_type": "markdown",
      "metadata": {
        "id": "-cKNTUWwNlL4"
      },
      "source": [
        "### Cell 1.6"
      ]
    },
    {
      "cell_type": "code",
      "execution_count": 33,
      "metadata": {
        "id": "A69-IISyNlL4",
        "outputId": "403f80e0-425f-4a6d-ee03-05a306fbe121",
        "colab": {
          "base_uri": "https://localhost:8080/"
        }
      },
      "outputs": [
        {
          "output_type": "stream",
          "name": "stdout",
          "text": [
            "tensor([1.0235], device='cuda:0', requires_grad=True) tensor([1.9690], device='cuda:0', requires_grad=True)\n"
          ]
        }
      ],
      "source": [
        "# Sets learning rate - this is \"eta\" ~ the \"n\"-like Greek letter\n",
        "lr = 0.1\n",
        "\n",
        "# Step 0 - Initializes parameters \"b\" and \"w\" randomly\n",
        "torch.manual_seed(42)\n",
        "b = torch.randn(1, requires_grad=True, \\\n",
        "                dtype=torch.float, device=device)\n",
        "w = torch.randn(1, requires_grad=True, \\\n",
        "                dtype=torch.float, device=device)\n",
        "\n",
        "# Defines number of epochs\n",
        "n_epochs = 1000\n",
        "\n",
        "for epoch in range(n_epochs):\n",
        "    # Step 1 - Computes model's predicted output - forward pass\n",
        "    yhat = b + w * x_train_tensor\n",
        "\n",
        "    # Step 2 - Computes the loss\n",
        "    # We are using ALL data points, so this is BATCH gradient\n",
        "    # descent. How wrong is our model? That's the error!\n",
        "    error = (yhat - y_train_tensor)\n",
        "    # It is a regression, so it computes mean squared error (MSE)\n",
        "    loss = (error ** 2).mean()\n",
        "\n",
        "    # Step 3 - Computes gradients for both \"b\" and \"w\" parameters\n",
        "    # No more manual computation of gradients!\n",
        "    # b_grad = 2 * error.mean()\n",
        "    # w_grad = 2 * (x_tensor * error).mean()\n",
        "    # We just tell PyTorch to work its way BACKWARDS\n",
        "    # from the specified loss!\n",
        "    loss.backward()\n",
        "\n",
        "    # Step 4 - Updates parameters using gradients and\n",
        "    # the learning rate. But not so fast...\n",
        "    # FIRST ATTEMPT - just using the same code as before\n",
        "    # AttributeError: 'NoneType' object has no attribute 'zero_'\n",
        "    #b = b - lr * b.grad\n",
        "    #w = w - lr * w.grad\n",
        "    #print(b)\n",
        "\n",
        "    # SECOND ATTEMPT - using in-place Python assigment\n",
        "    # RuntimeError: a leaf Variable that requires grad\n",
        "    # has been used in an in-place operation.\n",
        "    #b -= lr * b.grad\n",
        "    #w -= lr * w.grad\n",
        "\n",
        "    # THIRD ATTEMPT - NO_GRAD for the win!\n",
        "    # We need to use NO_GRAD to keep the update out of\n",
        "    # the gradient computation. Why is that? It boils\n",
        "    # down to the DYNAMIC GRAPH that PyTorch uses...\n",
        "    with torch.no_grad():\n",
        "        b -= lr * b.grad\n",
        "        w -= lr * w.grad\n",
        "\n",
        "    # PyTorch is \"clingy\" to its computed gradients, we\n",
        "    # need to tell it to let it go...\n",
        "    b.grad.zero_()\n",
        "    w.grad.zero_()\n",
        "\n",
        "print(b, w)"
      ]
    },
    {
      "cell_type": "markdown",
      "metadata": {
        "id": "BHwzd-A2NlL4"
      },
      "source": [
        "## no_grad"
      ]
    },
    {
      "cell_type": "code",
      "execution_count": null,
      "metadata": {
        "id": "t3Ug9xe-NlL4"
      },
      "outputs": [],
      "source": [
        "# This is what we used in the THIRD ATTEMPT..."
      ]
    },
    {
      "cell_type": "markdown",
      "metadata": {
        "id": "FqRVvO8wNlL5"
      },
      "source": [
        "# Dynamic Computation Graph"
      ]
    },
    {
      "cell_type": "code",
      "execution_count": 34,
      "metadata": {
        "id": "NBUY17xsNlL5",
        "outputId": "1f17a5d3-243a-462f-adee-ba5967d03a10",
        "colab": {
          "base_uri": "https://localhost:8080/",
          "height": 399
        }
      },
      "outputs": [
        {
          "output_type": "execute_result",
          "data": {
            "image/svg+xml": "<?xml version=\"1.0\" encoding=\"UTF-8\" standalone=\"no\"?>\n<!DOCTYPE svg PUBLIC \"-//W3C//DTD SVG 1.1//EN\"\n \"http://www.w3.org/Graphics/SVG/1.1/DTD/svg11.dtd\">\n<!-- Generated by graphviz version 2.43.0 (0)\n -->\n<!-- Title: %3 Pages: 1 -->\n<svg width=\"222pt\" height=\"283pt\"\n viewBox=\"0.00 0.00 222.00 283.00\" xmlns=\"http://www.w3.org/2000/svg\" xmlns:xlink=\"http://www.w3.org/1999/xlink\">\n<g id=\"graph0\" class=\"graph\" transform=\"scale(1 1) rotate(0) translate(4 279)\">\n<title>%3</title>\n<polygon fill=\"white\" stroke=\"transparent\" points=\"-4,4 -4,-279 218,-279 218,4 -4,4\"/>\n<!-- 133638920506928 -->\n<g id=\"node1\" class=\"node\">\n<title>133638920506928</title>\n<polygon fill=\"#caff70\" stroke=\"black\" points=\"139,-31 74,-31 74,0 139,0 139,-31\"/>\n<text text-anchor=\"middle\" x=\"106.5\" y=\"-7\" font-family=\"monospace\" font-size=\"10.00\"> (80, 1)</text>\n</g>\n<!-- 133638965082528 -->\n<g id=\"node2\" class=\"node\">\n<title>133638965082528</title>\n<polygon fill=\"lightgrey\" stroke=\"black\" points=\"151,-86 62,-86 62,-67 151,-67 151,-86\"/>\n<text text-anchor=\"middle\" x=\"106.5\" y=\"-74\" font-family=\"monospace\" font-size=\"10.00\">AddBackward0</text>\n</g>\n<!-- 133638965082528&#45;&gt;133638920506928 -->\n<g id=\"edge6\" class=\"edge\">\n<title>133638965082528&#45;&gt;133638920506928</title>\n<path fill=\"none\" stroke=\"black\" d=\"M106.5,-66.79C106.5,-60.07 106.5,-50.4 106.5,-41.34\"/>\n<polygon fill=\"black\" stroke=\"black\" points=\"110,-41.19 106.5,-31.19 103,-41.19 110,-41.19\"/>\n</g>\n<!-- 133638965080656 -->\n<g id=\"node3\" class=\"node\">\n<title>133638965080656</title>\n<polygon fill=\"lightgrey\" stroke=\"black\" points=\"101,-141 0,-141 0,-122 101,-122 101,-141\"/>\n<text text-anchor=\"middle\" x=\"50.5\" y=\"-129\" font-family=\"monospace\" font-size=\"10.00\">AccumulateGrad</text>\n</g>\n<!-- 133638965080656&#45;&gt;133638965082528 -->\n<g id=\"edge1\" class=\"edge\">\n<title>133638965080656&#45;&gt;133638965082528</title>\n<path fill=\"none\" stroke=\"black\" d=\"M59.5,-121.98C67.69,-114.23 80.01,-102.58 89.97,-93.14\"/>\n<polygon fill=\"black\" stroke=\"black\" points=\"92.48,-95.59 97.34,-86.17 87.67,-90.5 92.48,-95.59\"/>\n</g>\n<!-- 133638920508080 -->\n<g id=\"node4\" class=\"node\">\n<title>133638920508080</title>\n<polygon fill=\"lightblue\" stroke=\"black\" points=\"77.5,-208 23.5,-208 23.5,-177 77.5,-177 77.5,-208\"/>\n<text text-anchor=\"middle\" x=\"50.5\" y=\"-184\" font-family=\"monospace\" font-size=\"10.00\"> (1)</text>\n</g>\n<!-- 133638920508080&#45;&gt;133638965080656 -->\n<g id=\"edge2\" class=\"edge\">\n<title>133638920508080&#45;&gt;133638965080656</title>\n<path fill=\"none\" stroke=\"black\" d=\"M50.5,-176.92C50.5,-169.22 50.5,-159.69 50.5,-151.43\"/>\n<polygon fill=\"black\" stroke=\"black\" points=\"54,-151.25 50.5,-141.25 47,-151.25 54,-151.25\"/>\n</g>\n<!-- 133638965073552 -->\n<g id=\"node5\" class=\"node\">\n<title>133638965073552</title>\n<polygon fill=\"lightgrey\" stroke=\"black\" points=\"208,-141 119,-141 119,-122 208,-122 208,-141\"/>\n<text text-anchor=\"middle\" x=\"163.5\" y=\"-129\" font-family=\"monospace\" font-size=\"10.00\">MulBackward0</text>\n</g>\n<!-- 133638965073552&#45;&gt;133638965082528 -->\n<g id=\"edge3\" class=\"edge\">\n<title>133638965073552&#45;&gt;133638965082528</title>\n<path fill=\"none\" stroke=\"black\" d=\"M154.34,-121.98C146,-114.23 133.47,-102.58 123.32,-93.14\"/>\n<polygon fill=\"black\" stroke=\"black\" points=\"125.53,-90.42 115.82,-86.17 120.76,-95.54 125.53,-90.42\"/>\n</g>\n<!-- 133638965077152 -->\n<g id=\"node6\" class=\"node\">\n<title>133638965077152</title>\n<polygon fill=\"lightgrey\" stroke=\"black\" points=\"214,-202 113,-202 113,-183 214,-183 214,-202\"/>\n<text text-anchor=\"middle\" x=\"163.5\" y=\"-190\" font-family=\"monospace\" font-size=\"10.00\">AccumulateGrad</text>\n</g>\n<!-- 133638965077152&#45;&gt;133638965073552 -->\n<g id=\"edge4\" class=\"edge\">\n<title>133638965077152&#45;&gt;133638965073552</title>\n<path fill=\"none\" stroke=\"black\" d=\"M163.5,-182.79C163.5,-174.6 163.5,-162.06 163.5,-151.55\"/>\n<polygon fill=\"black\" stroke=\"black\" points=\"167,-151.24 163.5,-141.24 160,-151.24 167,-151.24\"/>\n</g>\n<!-- 133638920508944 -->\n<g id=\"node7\" class=\"node\">\n<title>133638920508944</title>\n<polygon fill=\"lightblue\" stroke=\"black\" points=\"190.5,-275 136.5,-275 136.5,-244 190.5,-244 190.5,-275\"/>\n<text text-anchor=\"middle\" x=\"163.5\" y=\"-251\" font-family=\"monospace\" font-size=\"10.00\"> (1)</text>\n</g>\n<!-- 133638920508944&#45;&gt;133638965077152 -->\n<g id=\"edge5\" class=\"edge\">\n<title>133638920508944&#45;&gt;133638965077152</title>\n<path fill=\"none\" stroke=\"black\" d=\"M163.5,-243.75C163.5,-234.39 163.5,-222.19 163.5,-212.16\"/>\n<polygon fill=\"black\" stroke=\"black\" points=\"167,-212.02 163.5,-202.02 160,-212.02 167,-212.02\"/>\n</g>\n</g>\n</svg>\n",
            "text/plain": [
              "<graphviz.graphs.Digraph at 0x798b3c63afd0>"
            ]
          },
          "metadata": {},
          "execution_count": 34
        }
      ],
      "source": [
        "# Step 0 - Initializes parameters \"b\" and \"w\" randomly\n",
        "torch.manual_seed(42)\n",
        "b = torch.randn(1, requires_grad=True, \\\n",
        "                dtype=torch.float, device=device)\n",
        "w = torch.randn(1, requires_grad=True, \\\n",
        "                dtype=torch.float, device=device)\n",
        "\n",
        "# Step 1 - Computes our model's predicted output - forward pass\n",
        "yhat = b + w * x_train_tensor\n",
        "\n",
        "# Step 2 - Computes the loss\n",
        "# We are using ALL data points, so this is BATCH gradient\n",
        "# descent. How wrong is our model? That's the error!\n",
        "error = (yhat - y_train_tensor)\n",
        "# It is a regression, so it computes mean squared error (MSE)\n",
        "loss = (error ** 2).mean()\n",
        "\n",
        "# We can try plotting the graph for any python variable:\n",
        "# yhat, error, loss...\n",
        "make_dot(yhat)"
      ]
    },
    {
      "cell_type": "markdown",
      "source": [
        "▪​ blue boxes ((1)s): these boxes correspond to the tensors we use as **parameters**, the ones we’re asking PyTorch to compute gradients for\n",
        "\n",
        "​▪​ gray boxes (MulBackward0 and AddBackward0): **Python operations** that involve `gradient-computing` tensors or its dependencies\n",
        "\n",
        "​▪​ green box ((80, 1)): the tensor used as the **starting point for the computation** of gradients (assuming the backward() method is called from the variable used to visualize the graph)—they are computed from the bottom-up in a graph\n",
        "\n"
      ],
      "metadata": {
        "id": "VXxnU_K9gUcL"
      }
    },
    {
      "cell_type": "markdown",
      "source": [
        "What would happen to the computation graph if we set requires_grad to False for our parameter b?\n"
      ],
      "metadata": {
        "id": "qPwaxssRhC4N"
      }
    },
    {
      "cell_type": "code",
      "execution_count": 35,
      "metadata": {
        "id": "JfSuvikHNlL5",
        "outputId": "fac29a2a-4734-4c69-cbd1-44a2b9467821",
        "colab": {
          "base_uri": "https://localhost:8080/",
          "height": 383
        }
      },
      "outputs": [
        {
          "output_type": "execute_result",
          "data": {
            "image/svg+xml": "<?xml version=\"1.0\" encoding=\"UTF-8\" standalone=\"no\"?>\n<!DOCTYPE svg PUBLIC \"-//W3C//DTD SVG 1.1//EN\"\n \"http://www.w3.org/Graphics/SVG/1.1/DTD/svg11.dtd\">\n<!-- Generated by graphviz version 2.43.0 (0)\n -->\n<!-- Title: %3 Pages: 1 -->\n<svg width=\"109pt\" height=\"271pt\"\n viewBox=\"0.00 0.00 109.00 271.00\" xmlns=\"http://www.w3.org/2000/svg\" xmlns:xlink=\"http://www.w3.org/1999/xlink\">\n<g id=\"graph0\" class=\"graph\" transform=\"scale(1 1) rotate(0) translate(4 267)\">\n<title>%3</title>\n<polygon fill=\"white\" stroke=\"transparent\" points=\"-4,4 -4,-267 105,-267 105,4 -4,4\"/>\n<!-- 133638920894608 -->\n<g id=\"node1\" class=\"node\">\n<title>133638920894608</title>\n<polygon fill=\"#caff70\" stroke=\"black\" points=\"83,-31 18,-31 18,0 83,0 83,-31\"/>\n<text text-anchor=\"middle\" x=\"50.5\" y=\"-7\" font-family=\"monospace\" font-size=\"10.00\"> (80, 1)</text>\n</g>\n<!-- 133638965071152 -->\n<g id=\"node2\" class=\"node\">\n<title>133638965071152</title>\n<polygon fill=\"lightgrey\" stroke=\"black\" points=\"95,-86 6,-86 6,-67 95,-67 95,-86\"/>\n<text text-anchor=\"middle\" x=\"50.5\" y=\"-74\" font-family=\"monospace\" font-size=\"10.00\">AddBackward0</text>\n</g>\n<!-- 133638965071152&#45;&gt;133638920894608 -->\n<g id=\"edge4\" class=\"edge\">\n<title>133638965071152&#45;&gt;133638920894608</title>\n<path fill=\"none\" stroke=\"black\" d=\"M50.5,-66.79C50.5,-60.07 50.5,-50.4 50.5,-41.34\"/>\n<polygon fill=\"black\" stroke=\"black\" points=\"54,-41.19 50.5,-31.19 47,-41.19 54,-41.19\"/>\n</g>\n<!-- 133638965071440 -->\n<g id=\"node3\" class=\"node\">\n<title>133638965071440</title>\n<polygon fill=\"lightgrey\" stroke=\"black\" points=\"95,-141 6,-141 6,-122 95,-122 95,-141\"/>\n<text text-anchor=\"middle\" x=\"50.5\" y=\"-129\" font-family=\"monospace\" font-size=\"10.00\">MulBackward0</text>\n</g>\n<!-- 133638965071440&#45;&gt;133638965071152 -->\n<g id=\"edge1\" class=\"edge\">\n<title>133638965071440&#45;&gt;133638965071152</title>\n<path fill=\"none\" stroke=\"black\" d=\"M50.5,-121.75C50.5,-114.8 50.5,-104.85 50.5,-96.13\"/>\n<polygon fill=\"black\" stroke=\"black\" points=\"54,-96.09 50.5,-86.09 47,-96.09 54,-96.09\"/>\n</g>\n<!-- 133638965076144 -->\n<g id=\"node4\" class=\"node\">\n<title>133638965076144</title>\n<polygon fill=\"lightgrey\" stroke=\"black\" points=\"101,-196 0,-196 0,-177 101,-177 101,-196\"/>\n<text text-anchor=\"middle\" x=\"50.5\" y=\"-184\" font-family=\"monospace\" font-size=\"10.00\">AccumulateGrad</text>\n</g>\n<!-- 133638965076144&#45;&gt;133638965071440 -->\n<g id=\"edge2\" class=\"edge\">\n<title>133638965076144&#45;&gt;133638965071440</title>\n<path fill=\"none\" stroke=\"black\" d=\"M50.5,-176.75C50.5,-169.8 50.5,-159.85 50.5,-151.13\"/>\n<polygon fill=\"black\" stroke=\"black\" points=\"54,-151.09 50.5,-141.09 47,-151.09 54,-151.09\"/>\n</g>\n<!-- 133638920508752 -->\n<g id=\"node5\" class=\"node\">\n<title>133638920508752</title>\n<polygon fill=\"lightblue\" stroke=\"black\" points=\"77.5,-263 23.5,-263 23.5,-232 77.5,-232 77.5,-263\"/>\n<text text-anchor=\"middle\" x=\"50.5\" y=\"-239\" font-family=\"monospace\" font-size=\"10.00\"> (1)</text>\n</g>\n<!-- 133638920508752&#45;&gt;133638965076144 -->\n<g id=\"edge3\" class=\"edge\">\n<title>133638920508752&#45;&gt;133638965076144</title>\n<path fill=\"none\" stroke=\"black\" d=\"M50.5,-231.92C50.5,-224.22 50.5,-214.69 50.5,-206.43\"/>\n<polygon fill=\"black\" stroke=\"black\" points=\"54,-206.25 50.5,-196.25 47,-206.25 54,-206.25\"/>\n</g>\n</g>\n</svg>\n",
            "text/plain": [
              "<graphviz.graphs.Digraph at 0x798b3ef0ecd0>"
            ]
          },
          "metadata": {},
          "execution_count": 35
        }
      ],
      "source": [
        "b_nograd = torch.randn(1, requires_grad=False, \\\n",
        "                       dtype=torch.float, device=device)\n",
        "w = torch.randn(1, requires_grad=True, \\\n",
        "                dtype=torch.float, device=device)\n",
        "\n",
        "yhat = b_nograd + w * x_train_tensor\n",
        "\n",
        "make_dot(yhat)"
      ]
    },
    {
      "cell_type": "code",
      "execution_count": 36,
      "metadata": {
        "id": "3VezEHleNlL5",
        "outputId": "a6f5e5fa-a48a-42d0-cc51-4b1882427909",
        "colab": {
          "base_uri": "https://localhost:8080/",
          "height": 692
        }
      },
      "outputs": [
        {
          "output_type": "execute_result",
          "data": {
            "image/svg+xml": "<?xml version=\"1.0\" encoding=\"UTF-8\" standalone=\"no\"?>\n<!DOCTYPE svg PUBLIC \"-//W3C//DTD SVG 1.1//EN\"\n \"http://www.w3.org/Graphics/SVG/1.1/DTD/svg11.dtd\">\n<!-- Generated by graphviz version 2.43.0 (0)\n -->\n<!-- Title: %3 Pages: 1 -->\n<svg width=\"326pt\" height=\"503pt\"\n viewBox=\"0.00 0.00 326.00 503.00\" xmlns=\"http://www.w3.org/2000/svg\" xmlns:xlink=\"http://www.w3.org/1999/xlink\">\n<g id=\"graph0\" class=\"graph\" transform=\"scale(1 1) rotate(0) translate(4 499)\">\n<title>%3</title>\n<polygon fill=\"white\" stroke=\"transparent\" points=\"-4,4 -4,-499 322,-499 322,4 -4,4\"/>\n<!-- 133638921126256 -->\n<g id=\"node1\" class=\"node\">\n<title>133638921126256</title>\n<polygon fill=\"#caff70\" stroke=\"black\" points=\"242.5,-31 188.5,-31 188.5,0 242.5,0 242.5,-31\"/>\n<text text-anchor=\"middle\" x=\"215.5\" y=\"-7\" font-family=\"monospace\" font-size=\"10.00\"> ()</text>\n</g>\n<!-- 133638965082480 -->\n<g id=\"node2\" class=\"node\">\n<title>133638965082480</title>\n<polygon fill=\"lightgrey\" stroke=\"black\" points=\"260,-86 171,-86 171,-67 260,-67 260,-86\"/>\n<text text-anchor=\"middle\" x=\"215.5\" y=\"-74\" font-family=\"monospace\" font-size=\"10.00\">AddBackward0</text>\n</g>\n<!-- 133638965082480&#45;&gt;133638921126256 -->\n<g id=\"edge14\" class=\"edge\">\n<title>133638965082480&#45;&gt;133638921126256</title>\n<path fill=\"none\" stroke=\"black\" d=\"M215.5,-66.79C215.5,-60.07 215.5,-50.4 215.5,-41.34\"/>\n<polygon fill=\"black\" stroke=\"black\" points=\"219,-41.19 215.5,-31.19 212,-41.19 219,-41.19\"/>\n</g>\n<!-- 133638965083152 -->\n<g id=\"node3\" class=\"node\">\n<title>133638965083152</title>\n<polygon fill=\"lightgrey\" stroke=\"black\" points=\"225,-141 130,-141 130,-122 225,-122 225,-141\"/>\n<text text-anchor=\"middle\" x=\"177.5\" y=\"-129\" font-family=\"monospace\" font-size=\"10.00\">MeanBackward0</text>\n</g>\n<!-- 133638965083152&#45;&gt;133638965082480 -->\n<g id=\"edge1\" class=\"edge\">\n<title>133638965083152&#45;&gt;133638965082480</title>\n<path fill=\"none\" stroke=\"black\" d=\"M183.77,-121.75C189.09,-114.34 196.86,-103.5 203.38,-94.41\"/>\n<polygon fill=\"black\" stroke=\"black\" points=\"206.36,-96.26 209.34,-86.09 200.67,-92.18 206.36,-96.26\"/>\n</g>\n<!-- 133638965073360 -->\n<g id=\"node4\" class=\"node\">\n<title>133638965073360</title>\n<polygon fill=\"lightgrey\" stroke=\"black\" points=\"205,-196 116,-196 116,-177 205,-177 205,-196\"/>\n<text text-anchor=\"middle\" x=\"160.5\" y=\"-184\" font-family=\"monospace\" font-size=\"10.00\">PowBackward0</text>\n</g>\n<!-- 133638965073360&#45;&gt;133638965083152 -->\n<g id=\"edge2\" class=\"edge\">\n<title>133638965073360&#45;&gt;133638965083152</title>\n<path fill=\"none\" stroke=\"black\" d=\"M163.31,-176.75C165.56,-169.72 168.8,-159.62 171.62,-150.84\"/>\n<polygon fill=\"black\" stroke=\"black\" points=\"175.02,-151.68 174.75,-141.09 168.36,-149.54 175.02,-151.68\"/>\n</g>\n<!-- 133638965067984 -->\n<g id=\"node5\" class=\"node\">\n<title>133638965067984</title>\n<polygon fill=\"lightgrey\" stroke=\"black\" points=\"205,-251 116,-251 116,-232 205,-232 205,-251\"/>\n<text text-anchor=\"middle\" x=\"160.5\" y=\"-239\" font-family=\"monospace\" font-size=\"10.00\">SubBackward0</text>\n</g>\n<!-- 133638965067984&#45;&gt;133638965073360 -->\n<g id=\"edge3\" class=\"edge\">\n<title>133638965067984&#45;&gt;133638965073360</title>\n<path fill=\"none\" stroke=\"black\" d=\"M160.5,-231.75C160.5,-224.8 160.5,-214.85 160.5,-206.13\"/>\n<polygon fill=\"black\" stroke=\"black\" points=\"164,-206.09 160.5,-196.09 157,-206.09 164,-206.09\"/>\n</g>\n<!-- 133638965070432 -->\n<g id=\"node6\" class=\"node\">\n<title>133638965070432</title>\n<polygon fill=\"lightgrey\" stroke=\"black\" points=\"205,-306 116,-306 116,-287 205,-287 205,-306\"/>\n<text text-anchor=\"middle\" x=\"160.5\" y=\"-294\" font-family=\"monospace\" font-size=\"10.00\">AddBackward0</text>\n</g>\n<!-- 133638965070432&#45;&gt;133638965067984 -->\n<g id=\"edge4\" class=\"edge\">\n<title>133638965070432&#45;&gt;133638965067984</title>\n<path fill=\"none\" stroke=\"black\" d=\"M160.5,-286.75C160.5,-279.8 160.5,-269.85 160.5,-261.13\"/>\n<polygon fill=\"black\" stroke=\"black\" points=\"164,-261.09 160.5,-251.09 157,-261.09 164,-261.09\"/>\n</g>\n<!-- 133638965078592 -->\n<g id=\"node7\" class=\"node\">\n<title>133638965078592</title>\n<polygon fill=\"lightgrey\" stroke=\"black\" points=\"101,-361 0,-361 0,-342 101,-342 101,-361\"/>\n<text text-anchor=\"middle\" x=\"50.5\" y=\"-349\" font-family=\"monospace\" font-size=\"10.00\">AccumulateGrad</text>\n</g>\n<!-- 133638965078592&#45;&gt;133638965070432 -->\n<g id=\"edge5\" class=\"edge\">\n<title>133638965078592&#45;&gt;133638965070432</title>\n<path fill=\"none\" stroke=\"black\" d=\"M68.17,-341.98C85.79,-333.5 113.08,-320.35 133.43,-310.54\"/>\n<polygon fill=\"black\" stroke=\"black\" points=\"135.02,-313.66 142.51,-306.17 131.98,-307.36 135.02,-313.66\"/>\n</g>\n<!-- 133638963506128 -->\n<g id=\"node8\" class=\"node\">\n<title>133638963506128</title>\n<polygon fill=\"lightblue\" stroke=\"black\" points=\"77.5,-428 23.5,-428 23.5,-397 77.5,-397 77.5,-428\"/>\n<text text-anchor=\"middle\" x=\"50.5\" y=\"-404\" font-family=\"monospace\" font-size=\"10.00\"> (1)</text>\n</g>\n<!-- 133638963506128&#45;&gt;133638965078592 -->\n<g id=\"edge6\" class=\"edge\">\n<title>133638963506128&#45;&gt;133638965078592</title>\n<path fill=\"none\" stroke=\"black\" d=\"M50.5,-396.92C50.5,-389.22 50.5,-379.69 50.5,-371.43\"/>\n<polygon fill=\"black\" stroke=\"black\" points=\"54,-371.25 50.5,-361.25 47,-371.25 54,-371.25\"/>\n</g>\n<!-- 133638965078352 -->\n<g id=\"node9\" class=\"node\">\n<title>133638965078352</title>\n<polygon fill=\"lightgrey\" stroke=\"black\" points=\"208,-361 119,-361 119,-342 208,-342 208,-361\"/>\n<text text-anchor=\"middle\" x=\"163.5\" y=\"-349\" font-family=\"monospace\" font-size=\"10.00\">MulBackward0</text>\n</g>\n<!-- 133638965078352&#45;&gt;133638965070432 -->\n<g id=\"edge7\" class=\"edge\">\n<title>133638965078352&#45;&gt;133638965070432</title>\n<path fill=\"none\" stroke=\"black\" d=\"M163,-341.75C162.61,-334.8 162.05,-324.85 161.55,-316.13\"/>\n<polygon fill=\"black\" stroke=\"black\" points=\"165.05,-315.88 160.99,-306.09 158.06,-316.27 165.05,-315.88\"/>\n</g>\n<!-- 133638965079216 -->\n<g id=\"node10\" class=\"node\">\n<title>133638965079216</title>\n<polygon fill=\"lightgrey\" stroke=\"black\" points=\"267,-422 166,-422 166,-403 267,-403 267,-422\"/>\n<text text-anchor=\"middle\" x=\"216.5\" y=\"-410\" font-family=\"monospace\" font-size=\"10.00\">AccumulateGrad</text>\n</g>\n<!-- 133638965079216&#45;&gt;133638965078352 -->\n<g id=\"edge8\" class=\"edge\">\n<title>133638965079216&#45;&gt;133638965078352</title>\n<path fill=\"none\" stroke=\"black\" d=\"M208.68,-402.79C200.69,-393.91 188.11,-379.89 178.24,-368.91\"/>\n<polygon fill=\"black\" stroke=\"black\" points=\"180.64,-366.34 171.35,-361.24 175.43,-371.02 180.64,-366.34\"/>\n</g>\n<!-- 133638965074848 -->\n<g id=\"node14\" class=\"node\">\n<title>133638965074848</title>\n<polygon fill=\"lightgrey\" stroke=\"black\" points=\"315,-361 226,-361 226,-342 315,-342 315,-361\"/>\n<text text-anchor=\"middle\" x=\"270.5\" y=\"-349\" font-family=\"monospace\" font-size=\"10.00\">MulBackward0</text>\n</g>\n<!-- 133638965079216&#45;&gt;133638965074848 -->\n<g id=\"edge13\" class=\"edge\">\n<title>133638965079216&#45;&gt;133638965074848</title>\n<path fill=\"none\" stroke=\"black\" d=\"M224.47,-402.79C232.6,-393.91 245.43,-379.89 255.48,-368.91\"/>\n<polygon fill=\"black\" stroke=\"black\" points=\"258.33,-370.98 262.5,-361.24 253.17,-366.26 258.33,-370.98\"/>\n</g>\n<!-- 133638920896144 -->\n<g id=\"node11\" class=\"node\">\n<title>133638920896144</title>\n<polygon fill=\"lightblue\" stroke=\"black\" points=\"243.5,-495 189.5,-495 189.5,-464 243.5,-464 243.5,-495\"/>\n<text text-anchor=\"middle\" x=\"216.5\" y=\"-471\" font-family=\"monospace\" font-size=\"10.00\"> (1)</text>\n</g>\n<!-- 133638920896144&#45;&gt;133638965079216 -->\n<g id=\"edge9\" class=\"edge\">\n<title>133638920896144&#45;&gt;133638965079216</title>\n<path fill=\"none\" stroke=\"black\" d=\"M216.5,-463.75C216.5,-454.39 216.5,-442.19 216.5,-432.16\"/>\n<polygon fill=\"black\" stroke=\"black\" points=\"220,-432.02 216.5,-422.02 213,-432.02 220,-432.02\"/>\n</g>\n<!-- 133638965069424 -->\n<g id=\"node12\" class=\"node\">\n<title>133638965069424</title>\n<polygon fill=\"lightgrey\" stroke=\"black\" points=\"318,-196 223,-196 223,-177 318,-177 318,-196\"/>\n<text text-anchor=\"middle\" x=\"270.5\" y=\"-184\" font-family=\"monospace\" font-size=\"10.00\">MeanBackward0</text>\n</g>\n<!-- 133638965069424&#45;&gt;133638965082480 -->\n<g id=\"edge10\" class=\"edge\">\n<title>133638965069424&#45;&gt;133638965082480</title>\n<path fill=\"none\" stroke=\"black\" d=\"M266,-176.66C256.97,-158.93 236.5,-118.73 224.57,-95.32\"/>\n<polygon fill=\"black\" stroke=\"black\" points=\"227.57,-93.48 219.91,-86.16 221.33,-96.66 227.57,-93.48\"/>\n</g>\n<!-- 133638965070480 -->\n<g id=\"node13\" class=\"node\">\n<title>133638965070480</title>\n<polygon fill=\"lightgrey\" stroke=\"black\" points=\"315,-306 226,-306 226,-287 315,-287 315,-306\"/>\n<text text-anchor=\"middle\" x=\"270.5\" y=\"-294\" font-family=\"monospace\" font-size=\"10.00\">SubBackward0</text>\n</g>\n<!-- 133638965070480&#45;&gt;133638965069424 -->\n<g id=\"edge11\" class=\"edge\">\n<title>133638965070480&#45;&gt;133638965069424</title>\n<path fill=\"none\" stroke=\"black\" d=\"M270.5,-286.66C270.5,-269.17 270.5,-229.8 270.5,-206.27\"/>\n<polygon fill=\"black\" stroke=\"black\" points=\"274,-206.16 270.5,-196.16 267,-206.16 274,-206.16\"/>\n</g>\n<!-- 133638965074848&#45;&gt;133638965070480 -->\n<g id=\"edge12\" class=\"edge\">\n<title>133638965074848&#45;&gt;133638965070480</title>\n<path fill=\"none\" stroke=\"black\" d=\"M270.5,-341.75C270.5,-334.8 270.5,-324.85 270.5,-316.13\"/>\n<polygon fill=\"black\" stroke=\"black\" points=\"274,-316.09 270.5,-306.09 267,-316.09 274,-316.09\"/>\n</g>\n</g>\n</svg>\n",
            "text/plain": [
              "<graphviz.graphs.Digraph at 0x798b3ef41750>"
            ]
          },
          "metadata": {},
          "execution_count": 36
        }
      ],
      "source": [
        "b = torch.randn(1, requires_grad=True, \\\n",
        "                dtype=torch.float, device=device)\n",
        "w = torch.randn(1, requires_grad=True, \\\n",
        "                dtype=torch.float, device=device)\n",
        "\n",
        "yhat = b + w * x_train_tensor\n",
        "error = yhat - y_train_tensor\n",
        "loss = (error ** 2).mean()\n",
        "\n",
        "# this makes no sense!!\n",
        "if loss > 0:\n",
        "    yhat2 = w * x_train_tensor\n",
        "    error2 = yhat2 - y_train_tensor\n",
        "\n",
        "# neither does this :-)\n",
        "loss += error2.mean()\n",
        "\n",
        "make_dot(loss)"
      ]
    },
    {
      "cell_type": "markdown",
      "metadata": {
        "id": "_e_4CcmBNlL6"
      },
      "source": [
        "# Optimizer"
      ]
    },
    {
      "cell_type": "markdown",
      "source": [
        "So far, we’ve been **manually updating** the parameters using the computed gradients. That’s probably fine for two parameters, but what if we had a whole lot of them? We need to use one of PyTorch’s optimizers, like `SGD`, `RMSprop`, or `Adam`.\n",
        "\n"
      ],
      "metadata": {
        "id": "b7_6fWDXicfh"
      }
    },
    {
      "cell_type": "markdown",
      "metadata": {
        "id": "xBo1FLHGNlL6"
      },
      "source": [
        "## step / zero_grad"
      ]
    },
    {
      "cell_type": "code",
      "execution_count": 37,
      "metadata": {
        "id": "DEQQC0svNlL6"
      },
      "outputs": [],
      "source": [
        "# Defines a SGD optimizer to update the parameters\n",
        "optimizer = optim.SGD([b, w], lr=lr)"
      ]
    },
    {
      "cell_type": "markdown",
      "metadata": {
        "id": "aURPC_ZdNlL6"
      },
      "source": [
        "### Cell 1.7"
      ]
    },
    {
      "cell_type": "code",
      "execution_count": 38,
      "metadata": {
        "id": "IGMlPlv7NlL6",
        "outputId": "02edc35b-e20c-480d-d062-e7d6762baecb",
        "colab": {
          "base_uri": "https://localhost:8080/"
        }
      },
      "outputs": [
        {
          "output_type": "stream",
          "name": "stdout",
          "text": [
            "tensor([1.0235], device='cuda:0', requires_grad=True) tensor([1.9690], device='cuda:0', requires_grad=True)\n"
          ]
        }
      ],
      "source": [
        "# Sets learning rate - this is \"eta\" ~ the \"n\"-like Greek letter\n",
        "lr = 0.1\n",
        "\n",
        "# Step 0 - Initializes parameters \"b\" and \"w\" randomly\n",
        "torch.manual_seed(42)\n",
        "b = torch.randn(1, requires_grad=True, \\\n",
        "                dtype=torch.float, device=device)\n",
        "w = torch.randn(1, requires_grad=True, \\\n",
        "                dtype=torch.float, device=device)\n",
        "\n",
        "# Defines a SGD optimizer to update the parameters\n",
        "optimizer = optim.SGD([b, w], lr=lr)\n",
        "\n",
        "# Defines number of epochs\n",
        "n_epochs = 1000\n",
        "\n",
        "for epoch in range(n_epochs):\n",
        "    # Step 1 - Computes model's predicted output - forward pass\n",
        "    yhat = b + w * x_train_tensor\n",
        "\n",
        "    # Step 2 - Computes the loss\n",
        "    # We are using ALL data points, so this is BATCH gradient\n",
        "    # descent. How wrong is our model? That's the error!\n",
        "    error = (yhat - y_train_tensor)\n",
        "    # It is a regression, so it computes mean squared error (MSE)\n",
        "    loss = (error ** 2).mean()\n",
        "\n",
        "    # Step 3 - Computes gradients for both \"b\" and \"w\" parameters\n",
        "    loss.backward()\n",
        "\n",
        "    # Step 4 - Updates parameters using gradients and\n",
        "    # the learning rate. No more manual update!\n",
        "    # with torch.no_grad():\n",
        "    #     b -= lr * b.grad\n",
        "    #     w -= lr * w.grad\n",
        "    optimizer.step()\n",
        "\n",
        "    # No more telling Pytorch to let gradients go!\n",
        "    # b.grad.zero_()\n",
        "    # w.grad.zero_()\n",
        "    optimizer.zero_grad()\n",
        "\n",
        "print(b, w)"
      ]
    },
    {
      "cell_type": "markdown",
      "metadata": {
        "id": "CiuUHw48NlL6"
      },
      "source": [
        "# Loss"
      ]
    },
    {
      "cell_type": "code",
      "execution_count": null,
      "metadata": {
        "id": "0G3jrTlRNlL7",
        "outputId": "cc5302d3-eb60-4271-b2d4-33b51a2616b9"
      },
      "outputs": [
        {
          "data": {
            "text/plain": [
              "MSELoss()"
            ]
          },
          "execution_count": 47,
          "metadata": {},
          "output_type": "execute_result"
        }
      ],
      "source": [
        "# Defines a MSE loss function\n",
        "loss_fn = nn.MSELoss(reduction='mean')\n",
        "loss_fn"
      ]
    },
    {
      "cell_type": "markdown",
      "source": [
        "Notice that `nn.MSELoss() `is **NOT the loss function itself**: We do not pass predictions and labels to it! Instead, as you can see, it returns another function, which we called `loss_fn`: That is **the actual loss function.**\n",
        "\n",
        "We can pass a prediction and a label to it and get the corresponding loss value:\n",
        "\n"
      ],
      "metadata": {
        "id": "elZugtComFZ4"
      }
    },
    {
      "cell_type": "code",
      "execution_count": null,
      "metadata": {
        "id": "asfyWsaWNlL7",
        "outputId": "b8464bb6-0165-4591-81a1-a03c9c59ec0e"
      },
      "outputs": [
        {
          "data": {
            "text/plain": [
              "tensor(1.1700)"
            ]
          },
          "execution_count": 48,
          "metadata": {},
          "output_type": "execute_result"
        }
      ],
      "source": [
        "# This is a random example to illustrate the loss function\n",
        "predictions = torch.tensor([0.5, 1.0])\n",
        "labels = torch.tensor([2.0, 1.3])\n",
        "loss_fn(predictions, labels)"
      ]
    },
    {
      "cell_type": "markdown",
      "metadata": {
        "id": "rFp-kvPjNlL7"
      },
      "source": [
        "### Cell 1.8"
      ]
    },
    {
      "cell_type": "code",
      "execution_count": null,
      "metadata": {
        "id": "UKkYLAagNlL7",
        "outputId": "3d232f04-a0b6-433c-d864-cbdf2c5dea30"
      },
      "outputs": [
        {
          "name": "stdout",
          "output_type": "stream",
          "text": [
            "tensor([1.0235], requires_grad=True) tensor([1.9690], requires_grad=True)\n"
          ]
        }
      ],
      "source": [
        "# Sets learning rate - this is \"eta\" ~ the \"n\"-like\n",
        "# Greek letter\n",
        "lr = 0.1\n",
        "\n",
        "# Step 0 - Initializes parameters \"b\" and \"w\" randomly\n",
        "torch.manual_seed(42)\n",
        "b = torch.randn(1, requires_grad=True, \\\n",
        "                dtype=torch.float, device=device)\n",
        "w = torch.randn(1, requires_grad=True, \\\n",
        "                dtype=torch.float, device=device)\n",
        "\n",
        "# Defines a SGD optimizer to update the parameters\n",
        "optimizer = optim.SGD([b, w], lr=lr)\n",
        "\n",
        "# Defines a MSE loss function\n",
        "loss_fn = nn.MSELoss(reduction='mean')\n",
        "\n",
        "# Defines number of epochs\n",
        "n_epochs = 1000\n",
        "\n",
        "for epoch in range(n_epochs):\n",
        "    # Step 1 - Computes model's predicted output - forward pass\n",
        "    yhat = b + w * x_train_tensor\n",
        "\n",
        "    # Step 2 - Computes the loss\n",
        "    # No more manual loss!\n",
        "    # error = (yhat - y_train_tensor)\n",
        "    # loss = (error ** 2).mean()\n",
        "    loss = loss_fn(yhat, y_train_tensor)\n",
        "\n",
        "    # Step 3 - Computes gradients for both \"b\" and \"w\" parameters\n",
        "    loss.backward()\n",
        "\n",
        "    # Step 4 - Updates parameters using gradients and\n",
        "    # the learning rate\n",
        "    optimizer.step()\n",
        "    optimizer.zero_grad()\n",
        "\n",
        "print(b, w)"
      ]
    },
    {
      "cell_type": "code",
      "execution_count": null,
      "metadata": {
        "id": "x3mqwIfENlL8",
        "outputId": "90f814b2-7405-43a2-fa9b-3581e6519ab3"
      },
      "outputs": [
        {
          "data": {
            "text/plain": [
              "tensor(0.0080, grad_fn=<MseLossBackward>)"
            ]
          },
          "execution_count": 50,
          "metadata": {},
          "output_type": "execute_result"
        }
      ],
      "source": [
        "loss"
      ]
    },
    {
      "cell_type": "code",
      "execution_count": null,
      "metadata": {
        "id": "ChiFdQl2NlL8",
        "outputId": "00a34d74-70f5-4b1f-c984-f844c57fb77d"
      },
      "outputs": [
        {
          "ename": "RuntimeError",
          "evalue": "Can't call numpy() on Tensor that requires grad. Use tensor.detach().numpy() instead.",
          "output_type": "error",
          "traceback": [
            "\u001b[0;31m---------------------------------------------------------------------------\u001b[0m",
            "\u001b[0;31mRuntimeError\u001b[0m                              Traceback (most recent call last)",
            "\u001b[0;32m<ipython-input-51-58c76a7bac74>\u001b[0m in \u001b[0;36m<module>\u001b[0;34m\u001b[0m\n\u001b[0;32m----> 1\u001b[0;31m \u001b[0mloss\u001b[0m\u001b[0;34m.\u001b[0m\u001b[0mcpu\u001b[0m\u001b[0;34m(\u001b[0m\u001b[0;34m)\u001b[0m\u001b[0;34m.\u001b[0m\u001b[0mnumpy\u001b[0m\u001b[0;34m(\u001b[0m\u001b[0;34m)\u001b[0m\u001b[0;34m\u001b[0m\u001b[0;34m\u001b[0m\u001b[0m\n\u001b[0m",
            "\u001b[0;31mRuntimeError\u001b[0m: Can't call numpy() on Tensor that requires grad. Use tensor.detach().numpy() instead."
          ]
        }
      ],
      "source": [
        "loss.cpu().numpy()"
      ]
    },
    {
      "cell_type": "code",
      "execution_count": null,
      "metadata": {
        "id": "rugdmwYONlL8",
        "outputId": "dba858f5-ad21-4847-e099-1693e4bb83aa"
      },
      "outputs": [
        {
          "data": {
            "text/plain": [
              "array(0.00804466, dtype=float32)"
            ]
          },
          "execution_count": 52,
          "metadata": {},
          "output_type": "execute_result"
        }
      ],
      "source": [
        "loss.detach().cpu().numpy()"
      ]
    },
    {
      "cell_type": "code",
      "execution_count": null,
      "metadata": {
        "id": "RHfKZk3SNlL8",
        "outputId": "a52d6c9e-8fc5-42e3-8e68-2be6c85b5842"
      },
      "outputs": [
        {
          "name": "stdout",
          "output_type": "stream",
          "text": [
            "0.008044655434787273 0.008044655434787273\n"
          ]
        }
      ],
      "source": [
        "print(loss.item(), loss.tolist())"
      ]
    },
    {
      "cell_type": "markdown",
      "metadata": {
        "id": "07rK1b7bNlL8"
      },
      "source": [
        "# Model"
      ]
    },
    {
      "cell_type": "markdown",
      "metadata": {
        "id": "Q4msy_0QNlL8"
      },
      "source": [
        "### Cell 1.9"
      ]
    },
    {
      "cell_type": "code",
      "execution_count": null,
      "metadata": {
        "id": "eqCTJsiMNlL8"
      },
      "outputs": [],
      "source": [
        "class ManualLinearRegression(nn.Module):\n",
        "    def __init__(self):\n",
        "        super().__init__()\n",
        "        # To make \"b\" and \"w\" real parameters of the model,\n",
        "        # we need to wrap them with nn.Parameter\n",
        "        self.b = nn.Parameter(torch.randn(1,\n",
        "                                          requires_grad=True,\n",
        "                                          dtype=torch.float))\n",
        "        self.w = nn.Parameter(torch.randn(1,\n",
        "                                          requires_grad=True,\n",
        "                                          dtype=torch.float))\n",
        "\n",
        "    def forward(self, x):\n",
        "        # Computes the outputs / predictions\n",
        "        return self.b + self.w * x"
      ]
    },
    {
      "cell_type": "markdown",
      "metadata": {
        "id": "GIcDn-ffNlL9"
      },
      "source": [
        "## Parameters"
      ]
    },
    {
      "cell_type": "code",
      "execution_count": null,
      "metadata": {
        "id": "rLl4KmYKNlL9",
        "outputId": "2471bad9-fc45-4ccf-b63d-b03baed47122"
      },
      "outputs": [
        {
          "data": {
            "text/plain": [
              "[Parameter containing:\n",
              " tensor([0.3367], requires_grad=True), Parameter containing:\n",
              " tensor([0.1288], requires_grad=True)]"
            ]
          },
          "execution_count": 55,
          "metadata": {},
          "output_type": "execute_result"
        }
      ],
      "source": [
        "torch.manual_seed(42)\n",
        "# Creates a \"dummy\" instance of our ManualLinearRegression model\n",
        "dummy = ManualLinearRegression()\n",
        "list(dummy.parameters())"
      ]
    },
    {
      "cell_type": "markdown",
      "metadata": {
        "id": "9Gd-YsUwNlL9"
      },
      "source": [
        "## state_dict"
      ]
    },
    {
      "cell_type": "code",
      "execution_count": null,
      "metadata": {
        "id": "jkkmO7pJNlL9",
        "outputId": "ce7ec1d0-8f23-4724-cf8f-b5bc4d2c3455"
      },
      "outputs": [
        {
          "data": {
            "text/plain": [
              "OrderedDict([('b', tensor([0.3367])), ('w', tensor([0.1288]))])"
            ]
          },
          "execution_count": 56,
          "metadata": {},
          "output_type": "execute_result"
        }
      ],
      "source": [
        "dummy.state_dict()"
      ]
    },
    {
      "cell_type": "code",
      "execution_count": null,
      "metadata": {
        "id": "J9FsQVr-NlL9",
        "outputId": "e1d7ffba-e1d3-450b-9623-715c69b87c54"
      },
      "outputs": [
        {
          "data": {
            "text/plain": [
              "{'state': {0: {'momentum_buffer': None}, 1: {'momentum_buffer': None}},\n",
              " 'param_groups': [{'lr': 0.1,\n",
              "   'momentum': 0,\n",
              "   'dampening': 0,\n",
              "   'weight_decay': 0,\n",
              "   'nesterov': False,\n",
              "   'params': [0, 1]}]}"
            ]
          },
          "execution_count": 57,
          "metadata": {},
          "output_type": "execute_result"
        }
      ],
      "source": [
        "optimizer.state_dict()"
      ]
    },
    {
      "cell_type": "markdown",
      "metadata": {
        "id": "_BbeU3eENlL9"
      },
      "source": [
        "## device"
      ]
    },
    {
      "cell_type": "code",
      "execution_count": null,
      "metadata": {
        "id": "Jiv2fn2NNlL9"
      },
      "outputs": [],
      "source": [
        "torch.manual_seed(42)\n",
        "# Creates a \"dummy\" instance of our ManualLinearRegression model\n",
        "# and sends it to the device\n",
        "dummy = ManualLinearRegression().to(device)"
      ]
    },
    {
      "cell_type": "markdown",
      "metadata": {
        "id": "N_2gMvKZNlL9"
      },
      "source": [
        "## Forward Pass"
      ]
    },
    {
      "cell_type": "markdown",
      "metadata": {
        "id": "IIBTRRPINlL9"
      },
      "source": [
        "### Cell 1.10"
      ]
    },
    {
      "cell_type": "code",
      "execution_count": null,
      "metadata": {
        "id": "6zsiPSMLNlL-",
        "outputId": "af63d07c-beab-45ed-df6a-d7cb21dc5d46"
      },
      "outputs": [
        {
          "name": "stdout",
          "output_type": "stream",
          "text": [
            "OrderedDict([('b', tensor([1.0235])), ('w', tensor([1.9690]))])\n"
          ]
        }
      ],
      "source": [
        "# Sets learning rate - this is \"eta\" ~ the \"n\"-like\n",
        "# Greek letter\n",
        "lr = 0.1\n",
        "\n",
        "# Step 0 - Initializes parameters \"b\" and \"w\" randomly\n",
        "torch.manual_seed(42)\n",
        "# Now we can create a model and send it at once to the device\n",
        "model = ManualLinearRegression().to(device)\n",
        "\n",
        "# Defines a SGD optimizer to update the parameters\n",
        "# (now retrieved directly from the model)\n",
        "optimizer = optim.SGD(model.parameters(), lr=lr)\n",
        "\n",
        "# Defines a MSE loss function\n",
        "loss_fn = nn.MSELoss(reduction='mean')\n",
        "\n",
        "# Defines number of epochs\n",
        "n_epochs = 1000\n",
        "\n",
        "for epoch in range(n_epochs):\n",
        "    model.train() # What is this?!?\n",
        "\n",
        "    # Step 1 - Computes model's predicted output - forward pass\n",
        "    # No more manual prediction!\n",
        "    yhat = model(x_train_tensor)\n",
        "\n",
        "    # Step 2 - Computes the loss\n",
        "    loss = loss_fn(yhat, y_train_tensor)\n",
        "\n",
        "    # Step 3 - Computes gradients for both \"b\" and \"w\" parameters\n",
        "    loss.backward()\n",
        "\n",
        "    # Step 4 - Updates parameters using gradients and\n",
        "    # the learning rate\n",
        "    optimizer.step()\n",
        "    optimizer.zero_grad()\n",
        "\n",
        "# We can also inspect its parameters using its state_dict\n",
        "print(model.state_dict())"
      ]
    },
    {
      "cell_type": "markdown",
      "metadata": {
        "id": "-C2j1B_XNlL-"
      },
      "source": [
        "## train"
      ]
    },
    {
      "cell_type": "code",
      "execution_count": null,
      "metadata": {
        "id": "rMuVzpfeNlL-"
      },
      "outputs": [],
      "source": [
        "## Never forget to include model.train() in your training loop!"
      ]
    },
    {
      "cell_type": "markdown",
      "metadata": {
        "id": "bkg-wgo1NlL-"
      },
      "source": [
        "## Nested Models"
      ]
    },
    {
      "cell_type": "code",
      "execution_count": null,
      "metadata": {
        "id": "6xjpVrWWNlL-",
        "outputId": "bc5bd697-f99e-4c92-c34f-57329ecafcd1"
      },
      "outputs": [
        {
          "data": {
            "text/plain": [
              "Linear(in_features=1, out_features=1, bias=True)"
            ]
          },
          "execution_count": 61,
          "metadata": {},
          "output_type": "execute_result"
        }
      ],
      "source": [
        "linear = nn.Linear(1, 1)\n",
        "linear"
      ]
    },
    {
      "cell_type": "code",
      "execution_count": null,
      "metadata": {
        "id": "H7AnctXCNlL-",
        "outputId": "e0fb6377-0e50-4363-8b22-e30dc9cd5ad7"
      },
      "outputs": [
        {
          "data": {
            "text/plain": [
              "OrderedDict([('weight', tensor([[-0.2191]])), ('bias', tensor([0.2018]))])"
            ]
          },
          "execution_count": 62,
          "metadata": {},
          "output_type": "execute_result"
        }
      ],
      "source": [
        "linear.state_dict()"
      ]
    },
    {
      "cell_type": "markdown",
      "metadata": {
        "id": "UT3ng6h2NlL_"
      },
      "source": [
        "### Cell 1.11"
      ]
    },
    {
      "cell_type": "code",
      "execution_count": null,
      "metadata": {
        "id": "JzXfNY23NlL_"
      },
      "outputs": [],
      "source": [
        "class MyLinearRegression(nn.Module):\n",
        "    def __init__(self):\n",
        "        super().__init__()\n",
        "        # Instead of our custom parameters, we use a Linear model\n",
        "        # with single input and single output\n",
        "        self.linear = nn.Linear(1, 1)\n",
        "\n",
        "    def forward(self, x):\n",
        "        # Now it only takes a call\n",
        "        self.linear(x)"
      ]
    },
    {
      "cell_type": "code",
      "execution_count": null,
      "metadata": {
        "id": "tKFs871RNlL_",
        "outputId": "9973701d-85b4-4591-a4e4-bd4145c46477"
      },
      "outputs": [
        {
          "data": {
            "text/plain": [
              "[Parameter containing:\n",
              " tensor([[0.7645]], device='cuda:0', requires_grad=True), Parameter containing:\n",
              " tensor([0.8300], device='cuda:0', requires_grad=True)]"
            ]
          },
          "execution_count": 65,
          "metadata": {},
          "output_type": "execute_result"
        }
      ],
      "source": [
        "torch.manual_seed(42)\n",
        "dummy = MyLinearRegression().to(device)\n",
        "list(dummy.parameters())"
      ]
    },
    {
      "cell_type": "code",
      "execution_count": null,
      "metadata": {
        "id": "Cb0aiKRzNlL_",
        "outputId": "61560721-12f1-4ada-83e6-c466a334a6bd"
      },
      "outputs": [
        {
          "data": {
            "text/plain": [
              "OrderedDict([('linear.weight', tensor([[0.7645]], device='cuda:0')),\n",
              "             ('linear.bias', tensor([0.8300], device='cuda:0'))])"
            ]
          },
          "execution_count": 66,
          "metadata": {},
          "output_type": "execute_result"
        }
      ],
      "source": [
        "dummy.state_dict()"
      ]
    },
    {
      "cell_type": "markdown",
      "metadata": {
        "id": "YSANUeAONlL_"
      },
      "source": [
        "## Sequential Models"
      ]
    },
    {
      "cell_type": "markdown",
      "metadata": {
        "id": "tUgjGYEeNlL_"
      },
      "source": [
        "### Cell 1.12"
      ]
    },
    {
      "cell_type": "code",
      "execution_count": null,
      "metadata": {
        "id": "5ASG2yD9NlL_",
        "outputId": "d5213e34-c7de-4311-87be-82ef9fb8d921"
      },
      "outputs": [
        {
          "data": {
            "text/plain": [
              "OrderedDict([('0.weight', tensor([[0.7645]], device='cuda:0')),\n",
              "             ('0.bias', tensor([0.8300], device='cuda:0'))])"
            ]
          },
          "execution_count": 67,
          "metadata": {},
          "output_type": "execute_result"
        }
      ],
      "source": [
        "torch.manual_seed(42)\n",
        "# Alternatively, you can use a Sequential model\n",
        "model = nn.Sequential(nn.Linear(1, 1)).to(device)\n",
        "\n",
        "model.state_dict()"
      ]
    },
    {
      "cell_type": "markdown",
      "metadata": {
        "id": "lVbRdO9CNlL_"
      },
      "source": [
        "## Layers"
      ]
    },
    {
      "cell_type": "code",
      "execution_count": null,
      "metadata": {
        "id": "HBhVSQOPNlMA",
        "outputId": "ea9c50ae-3cbe-4277-c1ea-2e8a24d4706a"
      },
      "outputs": [
        {
          "data": {
            "text/plain": [
              "OrderedDict([('0.weight', tensor([[ 0.4414,  0.4792, -0.1353],\n",
              "                      [ 0.5304, -0.1265,  0.1165],\n",
              "                      [-0.2811,  0.3391,  0.5090],\n",
              "                      [-0.4236,  0.5018,  0.1081],\n",
              "                      [ 0.4266,  0.0782,  0.2784]], device='cuda:0')),\n",
              "             ('0.bias',\n",
              "              tensor([-0.0815,  0.4451,  0.0853, -0.2695,  0.1472], device='cuda:0')),\n",
              "             ('1.weight',\n",
              "              tensor([[-0.2060, -0.0524, -0.1816,  0.2967, -0.3530]], device='cuda:0')),\n",
              "             ('1.bias', tensor([-0.2062], device='cuda:0'))])"
            ]
          },
          "execution_count": 68,
          "metadata": {},
          "output_type": "execute_result"
        }
      ],
      "source": [
        "torch.manual_seed(42)\n",
        "# Building the model from the figure above\n",
        "model = nn.Sequential(nn.Linear(3, 5), nn.Linear(5, 1)).to(device)\n",
        "\n",
        "model.state_dict()"
      ]
    },
    {
      "cell_type": "code",
      "execution_count": null,
      "metadata": {
        "id": "VLWw0MnENlMA",
        "outputId": "27f94ae8-0866-4aa2-c0c8-8785669d8a9e"
      },
      "outputs": [
        {
          "data": {
            "text/plain": [
              "Sequential(\n",
              "  (layer1): Linear(in_features=3, out_features=5, bias=True)\n",
              "  (layer2): Linear(in_features=5, out_features=1, bias=True)\n",
              ")"
            ]
          },
          "execution_count": 69,
          "metadata": {},
          "output_type": "execute_result"
        }
      ],
      "source": [
        "torch.manual_seed(42)\n",
        "# Building the model from the figure above\n",
        "model = nn.Sequential()\n",
        "model.add_module('layer1', nn.Linear(3, 5))\n",
        "model.add_module('layer2', nn.Linear(5, 1))\n",
        "model.to(device)"
      ]
    },
    {
      "cell_type": "markdown",
      "metadata": {
        "id": "wn3nAyciNlMA"
      },
      "source": [
        "# Putting It All Together"
      ]
    },
    {
      "cell_type": "markdown",
      "metadata": {
        "id": "M7MO2YEnNlMA"
      },
      "source": [
        "## Data Preparation"
      ]
    },
    {
      "cell_type": "markdown",
      "metadata": {
        "id": "x6B5TsNkNlMA"
      },
      "source": [
        "### Data Preparation V0"
      ]
    },
    {
      "cell_type": "code",
      "execution_count": null,
      "metadata": {
        "id": "vwmJntazNlMA",
        "outputId": "a26f4eb1-abef-4ab2-b2bb-f14ba7580016"
      },
      "outputs": [
        {
          "name": "stdout",
          "output_type": "stream",
          "text": [
            "Overwriting data_preparation/v0.py\n"
          ]
        }
      ],
      "source": [
        "%%writefile data_preparation/v0.py\n",
        "\n",
        "device = 'cuda' if torch.cuda.is_available() else 'cpu'\n",
        "\n",
        "# Our data was in Numpy arrays, but we need to transform them\n",
        "# into PyTorch's Tensors and then we send them to the\n",
        "# chosen device\n",
        "x_train_tensor = torch.as_tensor(x_train).float().to(device)\n",
        "y_train_tensor = torch.as_tensor(y_train).float().to(device)"
      ]
    },
    {
      "cell_type": "code",
      "execution_count": null,
      "metadata": {
        "id": "XluusHAoNlMB"
      },
      "outputs": [],
      "source": [
        "%run -i data_preparation/v0.py"
      ]
    },
    {
      "cell_type": "markdown",
      "metadata": {
        "id": "Fi9_ezryNlMB"
      },
      "source": [
        "## Model Configurtion"
      ]
    },
    {
      "cell_type": "markdown",
      "metadata": {
        "id": "qCtOB41rNlMB"
      },
      "source": [
        "### Model Configuration V0"
      ]
    },
    {
      "cell_type": "code",
      "execution_count": null,
      "metadata": {
        "id": "eHdNtCsnNlMB",
        "outputId": "2b64fe4d-add8-4597-bbe0-b30e7f4596ac"
      },
      "outputs": [
        {
          "name": "stdout",
          "output_type": "stream",
          "text": [
            "Overwriting model_configuration/v0.py\n"
          ]
        }
      ],
      "source": [
        "%%writefile model_configuration/v0.py\n",
        "\n",
        "# This is redundant now, but it won't be when we introduce\n",
        "# Datasets...\n",
        "device = 'cuda' if torch.cuda.is_available() else 'cpu'\n",
        "\n",
        "# Sets learning rate - this is \"eta\" ~ the \"n\"-like Greek letter\n",
        "lr = 0.1\n",
        "\n",
        "torch.manual_seed(42)\n",
        "# Now we can create a model and send it at once to the device\n",
        "model = nn.Sequential(nn.Linear(1, 1)).to(device)\n",
        "\n",
        "# Defines a SGD optimizer to update the parameters\n",
        "# (now retrieved directly from the model)\n",
        "optimizer = optim.SGD(model.parameters(), lr=lr)\n",
        "\n",
        "# Defines a MSE loss function\n",
        "loss_fn = nn.MSELoss(reduction='mean')"
      ]
    },
    {
      "cell_type": "code",
      "execution_count": null,
      "metadata": {
        "id": "Q_hoOf-nNlMB"
      },
      "outputs": [],
      "source": [
        "%run -i model_configuration/v0.py"
      ]
    },
    {
      "cell_type": "markdown",
      "metadata": {
        "id": "snclqsFnNlMB"
      },
      "source": [
        "## Model Training"
      ]
    },
    {
      "cell_type": "markdown",
      "metadata": {
        "id": "NJko9NbGNlMB"
      },
      "source": [
        "### Model Training V0"
      ]
    },
    {
      "cell_type": "code",
      "execution_count": null,
      "metadata": {
        "id": "sPotGbBmNlMB",
        "outputId": "f8595095-79e2-48a7-ebdd-bfaa5f15f400"
      },
      "outputs": [
        {
          "name": "stdout",
          "output_type": "stream",
          "text": [
            "Overwriting model_training/v0.py\n"
          ]
        }
      ],
      "source": [
        "%%writefile model_training/v0.py\n",
        "\n",
        "# Defines number of epochs\n",
        "n_epochs = 1000\n",
        "\n",
        "for epoch in range(n_epochs):\n",
        "    # Sets model to TRAIN mode\n",
        "    model.train()\n",
        "\n",
        "    # Step 1 - Computes model's predicted output - forward pass\n",
        "    yhat = model(x_train_tensor)\n",
        "\n",
        "    # Step 2 - Computes the loss\n",
        "    loss = loss_fn(yhat, y_train_tensor)\n",
        "\n",
        "    # Step 3 - Computes gradients for both \"b\" and \"w\" parameters\n",
        "    loss.backward()\n",
        "\n",
        "    # Step 4 - Updates parameters using gradients and\n",
        "    # the learning rate\n",
        "    optimizer.step()\n",
        "    optimizer.zero_grad()"
      ]
    },
    {
      "cell_type": "code",
      "execution_count": null,
      "metadata": {
        "id": "y4l7SGJmNlMC"
      },
      "outputs": [],
      "source": [
        "%run -i model_training/v0.py"
      ]
    },
    {
      "cell_type": "code",
      "execution_count": null,
      "metadata": {
        "id": "FS8aigbPNlMC",
        "outputId": "0454272d-29aa-4fbb-867a-aad7a3065d15"
      },
      "outputs": [
        {
          "name": "stdout",
          "output_type": "stream",
          "text": [
            "OrderedDict([('0.weight', tensor([[1.9690]], device='cuda:0')), ('0.bias', tensor([1.0235], device='cuda:0'))])\n"
          ]
        }
      ],
      "source": [
        "print(model.state_dict())"
      ]
    },
    {
      "cell_type": "code",
      "execution_count": null,
      "metadata": {
        "id": "ChLAVFSaNlMC"
      },
      "outputs": [],
      "source": []
    }
  ],
  "metadata": {
    "kernelspec": {
      "display_name": "Python 3",
      "name": "python3"
    },
    "language_info": {
      "codemirror_mode": {
        "name": "ipython",
        "version": 3
      },
      "file_extension": ".py",
      "mimetype": "text/x-python",
      "name": "python",
      "nbconvert_exporter": "python",
      "pygments_lexer": "ipython3",
      "version": "3.7.5"
    },
    "colab": {
      "provenance": [],
      "gpuType": "T4"
    },
    "accelerator": "GPU"
  },
  "nbformat": 4,
  "nbformat_minor": 0
}