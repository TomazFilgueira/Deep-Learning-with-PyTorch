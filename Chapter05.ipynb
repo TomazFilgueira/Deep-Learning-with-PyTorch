{
  "cells": [
    {
      "cell_type": "markdown",
      "metadata": {
        "id": "view-in-github",
        "colab_type": "text"
      },
      "source": [
        "<a href=\"https://colab.research.google.com/github/TomazFilgueira/Deep-Learning-with-PyTorch/blob/main/Chapter05.ipynb\" target=\"_parent\"><img src=\"https://colab.research.google.com/assets/colab-badge.svg\" alt=\"Open In Colab\"/></a>"
      ]
    },
    {
      "cell_type": "markdown",
      "metadata": {
        "id": "rAub_L_UUvYz"
      },
      "source": [
        "# Deep Learning with PyTorch Step-by-Step: A Beginner's Guide"
      ]
    },
    {
      "cell_type": "markdown",
      "metadata": {
        "id": "aH2cJ3cDUvY0"
      },
      "source": [
        "# Chapter 5"
      ]
    },
    {
      "cell_type": "code",
      "execution_count": 1,
      "metadata": {
        "id": "Eo3xmsGLUvY0",
        "outputId": "758d79da-6bff-4dee-ad0f-d704f78e47a2",
        "colab": {
          "base_uri": "https://localhost:8080/",
          "height": 17
        }
      },
      "outputs": [
        {
          "output_type": "display_data",
          "data": {
            "text/plain": [
              "<IPython.core.display.HTML object>"
            ],
            "text/html": [
              "<style>.container { width:80% !important; }</style>"
            ]
          },
          "metadata": {}
        }
      ],
      "source": [
        "from IPython.core.display import display, HTML\n",
        "display(HTML(\"<style>.container { width:80% !important; }</style>\"))"
      ]
    },
    {
      "cell_type": "code",
      "execution_count": 2,
      "metadata": {
        "id": "S7IRHAiSUvY1",
        "colab": {
          "base_uri": "https://localhost:8080/"
        },
        "outputId": "95f26c8d-3075-4f33-86d2-5ce2b7a75251"
      },
      "outputs": [
        {
          "output_type": "stream",
          "name": "stdout",
          "text": [
            "Downloading files from GitHub repo to Colab...\n",
            "Finished!\n"
          ]
        }
      ],
      "source": [
        "try:\n",
        "    import google.colab\n",
        "    import requests\n",
        "    url = 'https://raw.githubusercontent.com/dvgodoy/PyTorchStepByStep/master/config.py'\n",
        "    r = requests.get(url, allow_redirects=True)\n",
        "    open('config.py', 'wb').write(r.content)\n",
        "except ModuleNotFoundError:\n",
        "    pass\n",
        "\n",
        "from config import *\n",
        "config_chapter5()\n",
        "# This is needed to render the plots in this chapter\n",
        "from plots.chapter5 import *"
      ]
    },
    {
      "cell_type": "code",
      "execution_count": 3,
      "metadata": {
        "id": "nNRk3Re6UvY1"
      },
      "outputs": [],
      "source": [
        "import random\n",
        "import numpy as np\n",
        "from PIL import Image\n",
        "\n",
        "import torch\n",
        "import torch.optim as optim\n",
        "import torch.nn as nn\n",
        "import torch.nn.functional as F\n",
        "\n",
        "from torch.utils.data import DataLoader, Dataset\n",
        "from torchvision.transforms.v2 import Compose, Normalize\n",
        "\n",
        "from data_generation.image_classification import generate_dataset\n",
        "from helpers import index_splitter, make_balanced_sampler\n",
        "from stepbystep.v1 import StepByStep"
      ]
    },
    {
      "cell_type": "markdown",
      "metadata": {
        "id": "nEnII8j5UvY1"
      },
      "source": [
        "# Convolutions"
      ]
    },
    {
      "cell_type": "markdown",
      "metadata": {
        "id": "j_HwoprRUvY1"
      },
      "source": [
        "## Filter / Kernel"
      ]
    },
    {
      "cell_type": "markdown",
      "metadata": {
        "id": "KA_5HgC1UvY1"
      },
      "source": [
        "![](https://github.com/dvgodoy/PyTorchStepByStep/blob/master/images/conv1.png?raw=1)"
      ]
    },
    {
      "cell_type": "code",
      "execution_count": 4,
      "metadata": {
        "id": "QRuOWkogUvY1",
        "outputId": "485347c2-a318-4bb3-d5a6-7473eaa7a721",
        "colab": {
          "base_uri": "https://localhost:8080/"
        }
      },
      "outputs": [
        {
          "output_type": "execute_result",
          "data": {
            "text/plain": [
              "(1, 1, 6, 6)"
            ]
          },
          "metadata": {},
          "execution_count": 4
        }
      ],
      "source": [
        "single = np.array(\n",
        "    [[[[5, 0, 8, 7, 8, 1],\n",
        "       [1, 9, 5, 0, 7, 7],\n",
        "       [6, 0, 2, 4, 6, 6],\n",
        "       [9, 7, 6, 6, 8, 4],\n",
        "       [8, 3, 8, 5, 1, 3],\n",
        "       [7, 2, 7, 0, 1, 0]]]]\n",
        ")\n",
        "single.shape"
      ]
    },
    {
      "cell_type": "code",
      "execution_count": 5,
      "metadata": {
        "id": "cFw2_TMOUvY2",
        "outputId": "75a39633-500e-4e69-954a-7dfbcd253f4b",
        "colab": {
          "base_uri": "https://localhost:8080/"
        }
      },
      "outputs": [
        {
          "output_type": "execute_result",
          "data": {
            "text/plain": [
              "(1, 1, 3, 3)"
            ]
          },
          "metadata": {},
          "execution_count": 5
        }
      ],
      "source": [
        "identity = np.array(\n",
        "    [[[[0, 0, 0],\n",
        "       [0, 1, 0],\n",
        "       [0, 0, 0]]]]\n",
        ")\n",
        "identity.shape"
      ]
    },
    {
      "cell_type": "markdown",
      "metadata": {
        "id": "mkU6YD0-UvY2"
      },
      "source": [
        "## Convolving"
      ]
    },
    {
      "cell_type": "markdown",
      "metadata": {
        "id": "sZrbSwRQUvY2"
      },
      "source": [
        "![](https://github.com/dvgodoy/PyTorchStepByStep/blob/master/images/conv2.png?raw=1)"
      ]
    },
    {
      "cell_type": "code",
      "execution_count": 6,
      "metadata": {
        "id": "tNrobXL1UvY2",
        "outputId": "cebca9cc-76c9-4f24-c1e3-dca5381e8133",
        "colab": {
          "base_uri": "https://localhost:8080/"
        }
      },
      "outputs": [
        {
          "output_type": "execute_result",
          "data": {
            "text/plain": [
              "np.int64(9)"
            ]
          },
          "metadata": {},
          "execution_count": 6
        }
      ],
      "source": [
        "region = single[:, :, 0:3, 0:3]\n",
        "filtered_region = region * identity\n",
        "total = filtered_region.sum()\n",
        "total"
      ]
    },
    {
      "cell_type": "markdown",
      "metadata": {
        "id": "KvUX24TDUvY2"
      },
      "source": [
        "![](https://github.com/dvgodoy/PyTorchStepByStep/blob/master/images/conv3.png?raw=1)"
      ]
    },
    {
      "cell_type": "markdown",
      "metadata": {
        "id": "JBNmW3ZsUvY2"
      },
      "source": [
        "## Moving Around (stride flag)"
      ]
    },
    {
      "cell_type": "markdown",
      "metadata": {
        "id": "8NrX-iIkUvY3"
      },
      "source": [
        "![](https://github.com/dvgodoy/PyTorchStepByStep/blob/master/images/stride1.png?raw=1)"
      ]
    },
    {
      "cell_type": "code",
      "execution_count": 7,
      "metadata": {
        "id": "woX0w1aoUvY3"
      },
      "outputs": [],
      "source": [
        "new_region = single[:, :, 0:3, (0+1):(3+1)]"
      ]
    },
    {
      "cell_type": "markdown",
      "metadata": {
        "id": "EoI_C2nlUvY3"
      },
      "source": [
        "![](https://github.com/dvgodoy/PyTorchStepByStep/blob/master/images/conv5.png?raw=1)"
      ]
    },
    {
      "cell_type": "code",
      "execution_count": 8,
      "metadata": {
        "id": "c7wRrFDUUvY3",
        "outputId": "6efd3b6e-5094-41e8-9a4f-0d1daa9183fa",
        "colab": {
          "base_uri": "https://localhost:8080/"
        }
      },
      "outputs": [
        {
          "output_type": "execute_result",
          "data": {
            "text/plain": [
              "np.int64(5)"
            ]
          },
          "metadata": {},
          "execution_count": 8
        }
      ],
      "source": [
        "new_filtered_region = new_region * identity\n",
        "new_total = new_filtered_region.sum()\n",
        "new_total"
      ]
    },
    {
      "cell_type": "markdown",
      "metadata": {
        "id": "bq08h3pwUvY3"
      },
      "source": [
        "![](https://github.com/dvgodoy/PyTorchStepByStep/blob/master/images/conv6.png?raw=1)"
      ]
    },
    {
      "cell_type": "markdown",
      "metadata": {
        "id": "TW9FpB-7UvY3"
      },
      "source": [
        "![](https://github.com/dvgodoy/PyTorchStepByStep/blob/master/images/conv7.png?raw=1)"
      ]
    },
    {
      "cell_type": "code",
      "execution_count": 9,
      "metadata": {
        "id": "HeomX6ngUvY3"
      },
      "outputs": [],
      "source": [
        "last_horizontal_region = single[:, :, 0:3, (0+4):(3+4)]"
      ]
    },
    {
      "cell_type": "code",
      "execution_count": 10,
      "metadata": {
        "id": "9oUw-pUoUvY3",
        "outputId": "af9454ef-5a0c-49cb-a238-5c2edd79ddeb",
        "colab": {
          "base_uri": "https://localhost:8080/",
          "height": 146
        }
      },
      "outputs": [
        {
          "output_type": "error",
          "ename": "ValueError",
          "evalue": "operands could not be broadcast together with shapes (1,1,3,2) (1,1,3,3) ",
          "traceback": [
            "\u001b[0;31m---------------------------------------------------------------------------\u001b[0m",
            "\u001b[0;31mValueError\u001b[0m                                Traceback (most recent call last)",
            "\u001b[0;32m/tmp/ipython-input-10-2080732797.py\u001b[0m in \u001b[0;36m<cell line: 0>\u001b[0;34m()\u001b[0m\n\u001b[0;32m----> 1\u001b[0;31m \u001b[0mlast_horizontal_region\u001b[0m \u001b[0;34m*\u001b[0m \u001b[0midentity\u001b[0m\u001b[0;34m\u001b[0m\u001b[0;34m\u001b[0m\u001b[0m\n\u001b[0m",
            "\u001b[0;31mValueError\u001b[0m: operands could not be broadcast together with shapes (1,1,3,2) (1,1,3,3) "
          ]
        }
      ],
      "source": [
        "last_horizontal_region * identity"
      ]
    },
    {
      "cell_type": "markdown",
      "metadata": {
        "id": "G3va5WWmUvY3"
      },
      "source": [
        "## Shape"
      ]
    },
    {
      "cell_type": "markdown",
      "metadata": {
        "id": "RuWSrkDCUvY3"
      },
      "source": [
        "![](https://github.com/dvgodoy/PyTorchStepByStep/blob/master/images/conv8.png?raw=1)"
      ]
    },
    {
      "cell_type": "markdown",
      "metadata": {
        "id": "q7_jD_gsUvY4"
      },
      "source": [
        "$$\n",
        "\\Large\n",
        "(h_i, w_i) * (h_f, w_f) = (h_i - (h_f - 1), w_i - (w_f - 1))\n",
        "$$"
      ]
    },
    {
      "cell_type": "markdown",
      "metadata": {
        "id": "sOo1BJdLUvY4"
      },
      "source": [
        "$$\n",
        "\\Large\n",
        "(h_i, w_i) * f = (h_i - f + 1, w_i - f + 1)\n",
        "$$"
      ]
    },
    {
      "cell_type": "markdown",
      "metadata": {
        "id": "IVcV90haUvY4"
      },
      "source": [
        "## Convolving in PyTorch\n",
        "\n",
        "convolutions come in two flavors: `functional` and `module`.\n",
        "\n",
        "There is a fundamental difference between the two, though:\n",
        "\n",
        "* The **functional** convolution takes the kernel / filter as an argument;\n",
        "\n",
        "* the **module** has (learnable) weights to represent the kernel / filter.\n",
        "\n"
      ]
    },
    {
      "cell_type": "code",
      "execution_count": 11,
      "metadata": {
        "id": "9xeQBlfaUvY4"
      },
      "outputs": [],
      "source": [
        "image = torch.as_tensor(single).float()\n",
        "kernel_identity = torch.as_tensor(identity).float()"
      ]
    },
    {
      "cell_type": "markdown",
      "source": [
        "Let’s use the functional convolution, `F.conv2d()`, to apply the identity filter to our input image (notice we’re using stride=1 since we moved the region around one pixel at a time):\n",
        "\n"
      ],
      "metadata": {
        "id": "zcKzSWLM2erh"
      }
    },
    {
      "cell_type": "code",
      "execution_count": 12,
      "metadata": {
        "id": "ZFhKPsObUvY4",
        "outputId": "76a3fe5b-68b8-43b1-d40c-c4e894d6af4b",
        "colab": {
          "base_uri": "https://localhost:8080/"
        }
      },
      "outputs": [
        {
          "output_type": "execute_result",
          "data": {
            "text/plain": [
              "tensor([[[[9., 5., 0., 7.],\n",
              "          [0., 2., 4., 6.],\n",
              "          [7., 6., 6., 8.],\n",
              "          [3., 8., 5., 1.]]]])"
            ]
          },
          "metadata": {},
          "execution_count": 12
        }
      ],
      "source": [
        "convolved = F.conv2d(image, kernel_identity, stride=1)\n",
        "convolved"
      ]
    },
    {
      "cell_type": "markdown",
      "source": [
        "we got the same result shown in the previous section.\n"
      ],
      "metadata": {
        "id": "w6o8a7G32os0"
      }
    },
    {
      "cell_type": "markdown",
      "source": [
        "Now, let’s turn our attention to PyTorch’s convolution module, `nn.Conv2d`. It has many arguments; let’s focus on the first four of them:\n",
        "\n",
        "    * in_channels: number of channels of the input image\n",
        "\n",
        "    * out_channels: number of channels produced by the convolution\n",
        "\n",
        "    * kernel_size: size of the (square) convolution filter / kernel\n",
        "\n",
        "    * stride: the size of the movement of the selected region\n",
        "\n",
        "1. **there is no argument** for the kernel / filter itself, there is only a kernel_size argument. The actual filter, that is, the square matrix used to perform element-wise multiplication, is **learned** by the module.\n",
        "\n",
        "2. it is possible to produce multiple channels as output. It simply means the module is going to learn multiple filters. Each filter is going to produce a different result, which is being called a **channel** here.\n",
        "\n",
        "So far, we’ve been using a **single-channel image** as input, and a**pplying one filter** (size three by three) to it, moving **one pixel at a time**, resulting in **one output per channel**."
      ],
      "metadata": {
        "id": "uT-73L5G28XJ"
      }
    },
    {
      "cell_type": "code",
      "execution_count": 13,
      "metadata": {
        "id": "-TU1uF7sUvY4",
        "outputId": "a874e3df-31e2-45fd-900e-c99ae69a2589",
        "colab": {
          "base_uri": "https://localhost:8080/"
        }
      },
      "outputs": [
        {
          "output_type": "execute_result",
          "data": {
            "text/plain": [
              "tensor([[[[3.7872, 2.5011, 3.8978, 3.9514],\n",
              "          [2.3549, 3.7037, 4.3184, 3.1009],\n",
              "          [3.7739, 2.7771, 2.4903, 3.3052],\n",
              "          [4.0439, 4.6122, 3.4946, 2.0021]]]], grad_fn=<ConvolutionBackward0>)"
            ]
          },
          "metadata": {},
          "execution_count": 13
        }
      ],
      "source": [
        "conv = nn.Conv2d(in_channels=1, out_channels=1, kernel_size=3, stride=1)\n",
        "conv(image)"
      ]
    },
    {
      "cell_type": "markdown",
      "source": [
        "If we set it to 2, it will generate **two (randomly initialized) filters**\n",
        "\n",
        "There are two filters represented by three-by-three matrices of weights\n"
      ],
      "metadata": {
        "id": "bDHjwc-S4tvR"
      }
    },
    {
      "cell_type": "code",
      "execution_count": 14,
      "metadata": {
        "id": "m6lb4gBkUvY4",
        "outputId": "1a8a0065-4a02-469e-98ef-f151d19fd51a",
        "colab": {
          "base_uri": "https://localhost:8080/"
        }
      },
      "outputs": [
        {
          "output_type": "execute_result",
          "data": {
            "text/plain": [
              "Parameter containing:\n",
              "tensor([[[[ 0.2292,  0.0401, -0.1358],\n",
              "          [ 0.0699, -0.2945, -0.3186],\n",
              "          [-0.2670,  0.2052, -0.0711]]],\n",
              "\n",
              "\n",
              "        [[[-0.3046,  0.0489, -0.1191],\n",
              "          [ 0.1182,  0.0519,  0.0115],\n",
              "          [-0.0932, -0.2272, -0.0771]]]], requires_grad=True)"
            ]
          },
          "metadata": {},
          "execution_count": 14
        }
      ],
      "source": [
        "conv_multiple = nn.Conv2d(in_channels=1, out_channels=2, kernel_size=3, stride=1)\n",
        "conv_multiple.weight"
      ]
    },
    {
      "cell_type": "markdown",
      "source": [
        "We can also force a convolutional module to use a particular filter by setting its weights: In this case, **Kernel_identity**\n"
      ],
      "metadata": {
        "id": "GIeiDJvY5Xfe"
      }
    },
    {
      "cell_type": "code",
      "execution_count": 15,
      "metadata": {
        "id": "Rlvqq-MWUvY4"
      },
      "outputs": [],
      "source": [
        "with torch.no_grad():\n",
        "    conv.weight[0] = kernel_identity\n",
        "    conv.bias[0] = 0"
      ]
    },
    {
      "cell_type": "code",
      "execution_count": 16,
      "metadata": {
        "id": "E_WpH01HUvY5",
        "outputId": "2ffc6068-e183-410a-ae12-29c48fc99a2e",
        "colab": {
          "base_uri": "https://localhost:8080/"
        }
      },
      "outputs": [
        {
          "output_type": "execute_result",
          "data": {
            "text/plain": [
              "tensor([[[[9., 5., 0., 7.],\n",
              "          [0., 2., 4., 6.],\n",
              "          [7., 6., 6., 8.],\n",
              "          [3., 8., 5., 1.]]]], grad_fn=<ConvolutionBackward0>)"
            ]
          },
          "metadata": {},
          "execution_count": 16
        }
      ],
      "source": [
        "conv(image)"
      ]
    },
    {
      "cell_type": "markdown",
      "source": [
        "Setting the weights to get specific filters is at the heart of **transfer learning**. Someone else trained a model, and that model learned lots of useful filters, so we **don’t have to learn them again**. We can set the corresponding weights and go from there.\n"
      ],
      "metadata": {
        "id": "pYJ5X3IL5v2S"
      }
    },
    {
      "cell_type": "markdown",
      "metadata": {
        "id": "3dqOhgguUvY5"
      },
      "source": [
        "## Striding"
      ]
    },
    {
      "cell_type": "markdown",
      "metadata": {
        "id": "e1Lrv4-lUvY5"
      },
      "source": [
        "![](https://github.com/dvgodoy/PyTorchStepByStep/blob/master/images/strider2.png?raw=1)"
      ]
    },
    {
      "cell_type": "markdown",
      "metadata": {
        "id": "7cCZj8pKUvY5"
      },
      "source": [
        "![](https://github.com/dvgodoy/PyTorchStepByStep/blob/master/images/strider3.png?raw=1)"
      ]
    },
    {
      "cell_type": "markdown",
      "source": [
        "notice that using a **larger stride** made the shape of the resulting image even **smaller**.\n",
        "\n",
        "If we are skipping pixels in the input image, there are fewer regions of interest to apply the filter to. We can extend our previous formula to include the stride size (s):\n",
        "\n",
        "\n"
      ],
      "metadata": {
        "id": "kWFTtlBd6Vaf"
      }
    },
    {
      "cell_type": "markdown",
      "metadata": {
        "id": "QLtVgKGDUvY5"
      },
      "source": [
        "$$\n",
        "\\Large\n",
        "(h_i, w_i) * f = \\left(\\frac{h_i - f + 1}{s}, \\frac{w_i - f + 1}{s}\\right)\n",
        "$$"
      ]
    },
    {
      "cell_type": "code",
      "execution_count": 17,
      "metadata": {
        "id": "m9Yd9jvdUvY5",
        "outputId": "2ac8e897-4f88-40e4-bcba-39a7b7667820",
        "colab": {
          "base_uri": "https://localhost:8080/"
        }
      },
      "outputs": [
        {
          "output_type": "execute_result",
          "data": {
            "text/plain": [
              "tensor([[[[9., 0.],\n",
              "          [7., 6.]]]])"
            ]
          },
          "metadata": {},
          "execution_count": 17
        }
      ],
      "source": [
        "convolved_stride2 = F.conv2d(image, kernel_identity, stride=2)\n",
        "convolved_stride2"
      ]
    },
    {
      "cell_type": "markdown",
      "metadata": {
        "id": "Z6W7zlfLUvY8"
      },
      "source": [
        "## Padding"
      ]
    },
    {
      "cell_type": "markdown",
      "source": [
        "By adding columns and rows of zeros around it, we expand the input image such that the gray region starts centered in the actual top left corner of the input image. This simple trick can be used to **preserve the original size of the image**.\n"
      ],
      "metadata": {
        "id": "yVWYLOGh79nk"
      }
    },
    {
      "cell_type": "markdown",
      "metadata": {
        "id": "xJJqfjnoUvY9"
      },
      "source": [
        "![](https://github.com/dvgodoy/PyTorchStepByStep/blob/master/images/padding1.png?raw=1)"
      ]
    },
    {
      "cell_type": "markdown",
      "source": [
        "PyTorch gives us two options: functional (`F.pad()`) and module `(nn.ConstantPad2d)`. Let’s start with the module version this time:\n"
      ],
      "metadata": {
        "id": "q0-TN60r8H5C"
      }
    },
    {
      "cell_type": "code",
      "execution_count": 18,
      "metadata": {
        "id": "8OvtNqPjUvY9",
        "outputId": "949a45d2-8d38-48c1-df63-d0ac1e4d0342",
        "colab": {
          "base_uri": "https://localhost:8080/"
        }
      },
      "outputs": [
        {
          "output_type": "execute_result",
          "data": {
            "text/plain": [
              "tensor([[[[0., 0., 0., 0., 0., 0., 0., 0.],\n",
              "          [0., 5., 0., 8., 7., 8., 1., 0.],\n",
              "          [0., 1., 9., 5., 0., 7., 7., 0.],\n",
              "          [0., 6., 0., 2., 4., 6., 6., 0.],\n",
              "          [0., 9., 7., 6., 6., 8., 4., 0.],\n",
              "          [0., 8., 3., 8., 5., 1., 3., 0.],\n",
              "          [0., 7., 2., 7., 0., 1., 0., 0.],\n",
              "          [0., 0., 0., 0., 0., 0., 0., 0.]]]])"
            ]
          },
          "metadata": {},
          "execution_count": 18
        }
      ],
      "source": [
        "constant_padder = nn.ConstantPad2d(padding=1, value=0)\n",
        "constant_padder(image)"
      ]
    },
    {
      "cell_type": "markdown",
      "source": [
        "One can also do **asymmetric padding** by specifying a tuple in the padding argument representing (left, right, top, bottom). So, if we were to stuff our image on the left and right sides only, the argument would go like this: `(1, 1, 0, 0).`"
      ],
      "metadata": {
        "id": "FgId_JYc8e9C"
      }
    },
    {
      "cell_type": "markdown",
      "source": [
        "In the functional version, one must specify the padding as a tuple. The value argument is straightforward, and there is yet another argument, `mode`, which was set to constant to match the module version above.\n"
      ],
      "metadata": {
        "id": "KvfVVATe9Sy9"
      }
    },
    {
      "cell_type": "code",
      "execution_count": 19,
      "metadata": {
        "id": "5YuUQQXBUvY9"
      },
      "outputs": [],
      "source": [
        "padded = F.pad(image, pad=(1, 1, 1, 1), mode='constant', value=0)"
      ]
    },
    {
      "cell_type": "markdown",
      "source": [
        "Others modes: There are **three other modes**: `replicate`, `reflect`, and `circular`.  "
      ],
      "metadata": {
        "id": "8MumRh-k9WOG"
      }
    },
    {
      "cell_type": "markdown",
      "metadata": {
        "id": "cnTIKXKaUvY9"
      },
      "source": [
        "![](https://github.com/dvgodoy/PyTorchStepByStep/blob/master/images/paddings.png?raw=1)"
      ]
    },
    {
      "cell_type": "code",
      "execution_count": 20,
      "metadata": {
        "id": "mZGQ_iH4UvY9",
        "outputId": "a7a6db0b-d923-4784-a173-3303f74bf977",
        "colab": {
          "base_uri": "https://localhost:8080/"
        }
      },
      "outputs": [
        {
          "output_type": "execute_result",
          "data": {
            "text/plain": [
              "tensor([[[[5., 5., 0., 8., 7., 8., 1., 1.],\n",
              "          [5., 5., 0., 8., 7., 8., 1., 1.],\n",
              "          [1., 1., 9., 5., 0., 7., 7., 7.],\n",
              "          [6., 6., 0., 2., 4., 6., 6., 6.],\n",
              "          [9., 9., 7., 6., 6., 8., 4., 4.],\n",
              "          [8., 8., 3., 8., 5., 1., 3., 3.],\n",
              "          [7., 7., 2., 7., 0., 1., 0., 0.],\n",
              "          [7., 7., 2., 7., 0., 1., 0., 0.]]]])"
            ]
          },
          "metadata": {},
          "execution_count": 20
        }
      ],
      "source": [
        "replication_padder = nn.ReplicationPad2d(padding=1)\n",
        "replication_padder(image)"
      ]
    },
    {
      "cell_type": "markdown",
      "source": [
        "In the reflection padder:\n",
        "1. the left and right padded column **reflects the second column** (since the first column is the axis of reflection).\n",
        "\n",
        "1. Similarly, the **top** and **bottom** padded row reflects the **second row**\n",
        "\n",
        "1. The **corners** have the same values as the **intersection** of the reflected rows and columns of the original image."
      ],
      "metadata": {
        "id": "dyPAYNvq97uB"
      }
    },
    {
      "cell_type": "code",
      "execution_count": 21,
      "metadata": {
        "id": "2KQ1xm-wUvY9",
        "outputId": "4eb43661-a478-463d-82a6-ffe4e29537e3",
        "colab": {
          "base_uri": "https://localhost:8080/"
        }
      },
      "outputs": [
        {
          "output_type": "execute_result",
          "data": {
            "text/plain": [
              "tensor([[[[9., 1., 9., 5., 0., 7., 7., 7.],\n",
              "          [0., 5., 0., 8., 7., 8., 1., 8.],\n",
              "          [9., 1., 9., 5., 0., 7., 7., 7.],\n",
              "          [0., 6., 0., 2., 4., 6., 6., 6.],\n",
              "          [7., 9., 7., 6., 6., 8., 4., 8.],\n",
              "          [3., 8., 3., 8., 5., 1., 3., 1.],\n",
              "          [2., 7., 2., 7., 0., 1., 0., 1.],\n",
              "          [3., 8., 3., 8., 5., 1., 3., 1.]]]])"
            ]
          },
          "metadata": {},
          "execution_count": 21
        }
      ],
      "source": [
        "reflection_padder = nn.ReflectionPad2d(padding=1)\n",
        "reflection_padder(image)"
      ]
    },
    {
      "cell_type": "markdown",
      "source": [
        "In circular padding:\n",
        "\n",
        "1. the left-most/(right-most) column gets copied as the right /(left) padded column;\n",
        "\n",
        "1. Similarly, the top-most/(bottom-most) row gets copied as the bottom/(top) padded row.\n",
        "\n",
        "1. The corners receive the values of the diametrically opposed corner:\n"
      ],
      "metadata": {
        "id": "dOCrKneH_D27"
      }
    },
    {
      "cell_type": "code",
      "execution_count": 22,
      "metadata": {
        "id": "6BHYyunbUvY9",
        "outputId": "800d2351-567d-428c-aea3-1cd535dbefbf",
        "colab": {
          "base_uri": "https://localhost:8080/"
        }
      },
      "outputs": [
        {
          "output_type": "execute_result",
          "data": {
            "text/plain": [
              "tensor([[[[0., 7., 2., 7., 0., 1., 0., 7.],\n",
              "          [1., 5., 0., 8., 7., 8., 1., 5.],\n",
              "          [7., 1., 9., 5., 0., 7., 7., 1.],\n",
              "          [6., 6., 0., 2., 4., 6., 6., 6.],\n",
              "          [4., 9., 7., 6., 6., 8., 4., 9.],\n",
              "          [3., 8., 3., 8., 5., 1., 3., 8.],\n",
              "          [0., 7., 2., 7., 0., 1., 0., 7.],\n",
              "          [1., 5., 0., 8., 7., 8., 1., 5.]]]])"
            ]
          },
          "metadata": {},
          "execution_count": 22
        }
      ],
      "source": [
        "F.pad(image, pad=(1, 1, 1, 1), mode='circular')"
      ]
    },
    {
      "cell_type": "markdown",
      "source": [
        "By padding an image, it is possible to get resulting images with the **same shape** as input images, or **even larger**, should you choose to stuff more and more rows and columns into the input image. Assuming we’re doing symmetrical padding of size `p`, the resulting shape is given by the formula below:\n"
      ],
      "metadata": {
        "id": "ulMUf98U_c2j"
      }
    },
    {
      "cell_type": "markdown",
      "metadata": {
        "id": "tQ4IjZsqUvY9"
      },
      "source": [
        "$$\n",
        "\\Large\n",
        "(h_i, w_i) * f = \\left(\\frac{(h_i + 2p) - f + 1}{s}, \\frac{(w_i + 2p) - f + 1}{s}\\right)\n",
        "$$"
      ]
    },
    {
      "cell_type": "markdown",
      "metadata": {
        "id": "gZGnFfLiUvY-"
      },
      "source": [
        "## A REAL Filter"
      ]
    },
    {
      "cell_type": "markdown",
      "source": [
        "The example below is an Edge Detector filter from traditional computer vision"
      ],
      "metadata": {
        "id": "VKL6Vwpo_sEl"
      }
    },
    {
      "cell_type": "code",
      "execution_count": 23,
      "metadata": {
        "id": "CfbFA0ndUvY-",
        "outputId": "08281d03-b90f-487b-f615-6b71c532e6b9",
        "colab": {
          "base_uri": "https://localhost:8080/"
        }
      },
      "outputs": [
        {
          "output_type": "execute_result",
          "data": {
            "text/plain": [
              "torch.Size([1, 1, 3, 3])"
            ]
          },
          "metadata": {},
          "execution_count": 23
        }
      ],
      "source": [
        "edge = np.array(\n",
        "    [[[[0, 1, 0],\n",
        "       [1, -4, 1],\n",
        "       [0, 1, 0]]]]\n",
        ")\n",
        "kernel_edge = torch.as_tensor(edge).float()\n",
        "kernel_edge.shape"
      ]
    },
    {
      "cell_type": "markdown",
      "metadata": {
        "id": "MGNRC3inUvY-"
      },
      "source": [
        "![](https://github.com/dvgodoy/PyTorchStepByStep/blob/master/images/padding2.png?raw=1)"
      ]
    },
    {
      "cell_type": "markdown",
      "metadata": {
        "id": "J5xZSq1_UvY-"
      },
      "source": [
        "![](https://github.com/dvgodoy/PyTorchStepByStep/blob/master/images/padding3.png?raw=1)"
      ]
    },
    {
      "cell_type": "code",
      "execution_count": 24,
      "metadata": {
        "id": "KeNk2cmfUvY-"
      },
      "outputs": [],
      "source": [
        "padded = F.pad(image, (1, 1, 1, 1), mode='constant', value=0)\n",
        "conv_padded = F.conv2d(padded, kernel_edge, stride=1)"
      ]
    },
    {
      "cell_type": "markdown",
      "metadata": {
        "id": "1LMbA7MTUvY-"
      },
      "source": [
        "# Pooling"
      ]
    },
    {
      "cell_type": "markdown",
      "source": [
        "Pooling splits the image into tiny chunks, **performs an operation on each chunk** (that yields a single value), and **puts the chunks together** as the resulting image.\n",
        "\n"
      ],
      "metadata": {
        "id": "zkiqMpONAn-r"
      }
    },
    {
      "cell_type": "markdown",
      "metadata": {
        "id": "ZcX6_dZMUvY-"
      },
      "source": [
        "![](https://github.com/dvgodoy/PyTorchStepByStep/blob/master/images/pooling1.png?raw=1)"
      ]
    },
    {
      "cell_type": "markdown",
      "source": [
        "In the image above, we’re performing a **max pooling** with a **kernel size of two.**\n",
        "\n"
      ],
      "metadata": {
        "id": "pUMnTvw4BDH7"
      }
    },
    {
      "cell_type": "code",
      "execution_count": 25,
      "metadata": {
        "id": "j-8xkfRmUvY-",
        "outputId": "9073e740-7b03-4ca7-d2f5-e90de7e747d5",
        "colab": {
          "base_uri": "https://localhost:8080/"
        }
      },
      "outputs": [
        {
          "output_type": "execute_result",
          "data": {
            "text/plain": [
              "tensor([[[[22., 23., 11.],\n",
              "          [24.,  7.,  1.],\n",
              "          [13., 13., 13.]]]])"
            ]
          },
          "metadata": {},
          "execution_count": 25
        }
      ],
      "source": [
        "pooled = F.max_pool2d(conv_padded, kernel_size=2)\n",
        "pooled"
      ]
    },
    {
      "cell_type": "markdown",
      "source": [
        "Our input image is split into nine chunks, and we perform a simple max operation (just taking the largest value) on each chunk. Then, these values are put together, in order, to produce a **smaller** resulting image.\n"
      ],
      "metadata": {
        "id": "5YCQyB_fBRok"
      }
    },
    {
      "cell_type": "markdown",
      "source": [
        "only **full chunks count**: If we try a kernel of **four-by-four** in our **six-by-six** image, **only one chunk fits**, and the resulting image would have a single pixel.\n",
        "."
      ],
      "metadata": {
        "id": "BMR6u69gCgPN"
      }
    },
    {
      "cell_type": "code",
      "execution_count": 26,
      "metadata": {
        "id": "Fp4DHPAoUvY-",
        "outputId": "f6f351ad-276d-4d14-f0a6-4bebd4c317aa",
        "colab": {
          "base_uri": "https://localhost:8080/"
        }
      },
      "outputs": [
        {
          "output_type": "execute_result",
          "data": {
            "text/plain": [
              "tensor([[[[24.]]]])"
            ]
          },
          "metadata": {},
          "execution_count": 26
        }
      ],
      "source": [
        "maxpool4 = nn.MaxPool2d(kernel_size=4)\n",
        "pooled4 = maxpool4(conv_padded)\n",
        "pooled4"
      ]
    },
    {
      "cell_type": "code",
      "execution_count": 27,
      "metadata": {
        "id": "94N010GkUvY_",
        "outputId": "781130d9-e058-4e02-b1c6-94cc1c4009a9",
        "colab": {
          "base_uri": "https://localhost:8080/"
        }
      },
      "outputs": [
        {
          "output_type": "execute_result",
          "data": {
            "text/plain": [
              "tensor([[[[24., 24., 23., 23.],\n",
              "          [24., 24., 23., 23.],\n",
              "          [24., 24., 13., 13.],\n",
              "          [13., 13., 13., 13.]]]])"
            ]
          },
          "metadata": {},
          "execution_count": 27
        }
      ],
      "source": [
        "F.max_pool2d(conv_padded, kernel_size=3, stride=1)"
      ]
    },
    {
      "cell_type": "markdown",
      "metadata": {
        "id": "5MNA4hRaUvY_"
      },
      "source": [
        "# Flattening\n",
        "\n",
        "It simply flattens a tensor, preserving the **first dimension** such that we **keep the number of data points** while collapsing all other dimensions.\n"
      ]
    },
    {
      "cell_type": "code",
      "execution_count": 28,
      "metadata": {
        "id": "IRu7zh3QUvY_",
        "outputId": "85c7820e-12ca-435f-9881-2f9fc8bab445",
        "colab": {
          "base_uri": "https://localhost:8080/"
        }
      },
      "outputs": [
        {
          "output_type": "execute_result",
          "data": {
            "text/plain": [
              "tensor([[22., 23., 11., 24.,  7.,  1., 13., 13., 13.]])"
            ]
          },
          "metadata": {},
          "execution_count": 28
        }
      ],
      "source": [
        "flattened = nn.Flatten()(pooled)\n",
        "flattened"
      ]
    },
    {
      "cell_type": "code",
      "execution_count": 29,
      "metadata": {
        "id": "nQJ9MSKhUvY_",
        "outputId": "c680976a-59cb-46f9-ab29-abcb55df4aab",
        "colab": {
          "base_uri": "https://localhost:8080/"
        }
      },
      "outputs": [
        {
          "output_type": "execute_result",
          "data": {
            "text/plain": [
              "tensor([[22., 23., 11., 24.,  7.,  1., 13., 13., 13.]])"
            ]
          },
          "metadata": {},
          "execution_count": 29
        }
      ],
      "source": [
        "pooled.view(1, -1)"
      ]
    },
    {
      "cell_type": "markdown",
      "metadata": {
        "id": "PvKMEG1pUvY_"
      },
      "source": [
        "# Typical Architecture\n",
        "\n",
        "A typical architecture uses a sequence of **one or more** typical convolutional blocks with each block consisting of three operations:\n",
        "\n",
        "1. Convolution\n",
        "1. Activation function\n",
        "1. Pooling\n",
        "\n",
        "After the sequence of blocks, the image gets **flattened**: Hopefully, at this stage, there is no loss of information occurring by considering each value in the flattened tensor a feature on its own.\n",
        "\n",
        "\n",
        "What those typical convolutional blocks do is akin to **pre-processing** images and **converting them into features**. Let’s call this part of the network a featurizer (the one that generates features).\n",
        "\n",
        "The classification itself is handled by the familiar and well-known hidden and output layers.\n"
      ]
    },
    {
      "cell_type": "markdown",
      "metadata": {
        "id": "X6AqqMvQUvY_"
      },
      "source": [
        "## LeNet5"
      ]
    },
    {
      "cell_type": "markdown",
      "metadata": {
        "id": "wEb_ThQXUvY_"
      },
      "source": [
        "![](https://github.com/dvgodoy/PyTorchStepByStep/blob/master/images/architecture_lenet.png?raw=1)\n",
        "\n",
        "*Source: Generated using Alexander Lenail's [NN-SVG](http://alexlenail.me/NN-SVG/) and adapted by the author. For more details, see LeCun, Y., et al (1998).  [Gradient-based learning applied to document recognition](http://yann.lecun.com/exdb/publis/pdf/lecun-01a.pdf). Proceedings of the IEEE,86(11), 2278–2324*"
      ]
    },
    {
      "cell_type": "markdown",
      "source": [
        "Adapting LeNet-5 to today’s standards, it could be implemented like this:\n"
      ],
      "metadata": {
        "id": "zfagEqG9GpCb"
      }
    },
    {
      "cell_type": "code",
      "execution_count": 30,
      "metadata": {
        "id": "4SWAtNScUvZA"
      },
      "outputs": [],
      "source": [
        "lenet = nn.Sequential()\n",
        "\n",
        "# Featurizer\n",
        "# Block 1: 1@28x28 -> 6@28x28 -> 6@14x14\n",
        "lenet.add_module('C1', nn.Conv2d(in_channels=1, out_channels=6, kernel_size=5, padding=2))\n",
        "lenet.add_module('func1', nn.ReLU())\n",
        "lenet.add_module('S2', nn.MaxPool2d(kernel_size=2))\n",
        "# Block 2: 6@14x14 -> 16@10x10 -> 16@5x5\n",
        "lenet.add_module('C3', nn.Conv2d(in_channels=6, out_channels=16, kernel_size=5))\n",
        "lenet.add_module('func2', nn.ReLU())\n",
        "lenet.add_module('S4', nn.MaxPool2d(kernel_size=2))\n",
        "# Block 3: 16@5x5 -> 120@1x1\n",
        "lenet.add_module('C5', nn.Conv2d(in_channels=16, out_channels=120, kernel_size=5))\n",
        "lenet.add_module('func2', nn.ReLU())\n",
        "# Flattening\n",
        "lenet.add_module('flatten', nn.Flatten())\n",
        "\n",
        "# Classification\n",
        "# Hidden Layer\n",
        "lenet.add_module('F6', nn.Linear(in_features=120, out_features=84))\n",
        "lenet.add_module('func3', nn.ReLU())\n",
        "# Output Layer\n",
        "lenet.add_module('OUTPUT', nn.Linear(in_features=84, out_features=10))"
      ]
    },
    {
      "cell_type": "markdown",
      "source": [
        "LeNet-5 used three convolutional blocks, although the last one does not have a max pooling, because the convolution already produces a single pixel. Regarding the number of channels, they increase as the image size decreases:\n",
        "\n",
        "* input image: single-channel 28x28 pixels\n",
        "* first block: produces six-channel 14x14 pixels\n",
        "* second block: produces 16-channel 5x5 pixels\n",
        "* third block: produces 120-channel single pixel (1x1)\n",
        "\n",
        "Then, these 120 values (or features) are **flattened** and fed to a typical **hidden layer** with 84 units. The last step is, obviously, the output layer, which produces ten logits to be used for **digit classification** (from 0 to 9, there are ten classes)."
      ],
      "metadata": {
        "id": "Q4hAijSpG21a"
      }
    },
    {
      "cell_type": "markdown",
      "metadata": {
        "id": "kQpSsQx4UvZA"
      },
      "source": [
        "# A Multiclass Classification Problem\n",
        "\n",
        "let’s keep it as simple as possible and build a model to classify images into **three classes.**\n",
        "\n",
        "![image.png](data:image/png;base64,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)"
      ]
    },
    {
      "cell_type": "markdown",
      "metadata": {
        "id": "b7vWjS0HUvZA"
      },
      "source": [
        "## Data Generation"
      ]
    },
    {
      "cell_type": "code",
      "execution_count": 31,
      "metadata": {
        "id": "8muNMH6tUvZA"
      },
      "outputs": [],
      "source": [
        "images, labels = generate_dataset(img_size=10, n_images=1000, binary=False, seed=17) #1000 images, size 10x10 pixels"
      ]
    },
    {
      "cell_type": "code",
      "execution_count": 32,
      "metadata": {
        "id": "Ras_uw_CUvZA",
        "outputId": "99e13d6c-c42b-44eb-cd7c-3eb652d3583f",
        "colab": {
          "base_uri": "https://localhost:8080/",
          "height": 428
        }
      },
      "outputs": [
        {
          "output_type": "display_data",
          "data": {
            "text/plain": [
              "<Figure size 1500x450 with 30 Axes>"
            ],
            "image/png": "[encoded data removed]"
          },
          "metadata": {}
        }
      ],
      "source": [
        "fig = plot_images(images, labels, n_plot=30) #Format NCHW -n_images, Channels, Height, Widght"
      ]
    },
    {
      "cell_type": "markdown",
      "metadata": {
        "id": "eeggwRj4UvZA"
      },
      "source": [
        "## Data Preparation"
      ]
    },
    {
      "cell_type": "code",
      "execution_count": 33,
      "metadata": {
        "id": "v-mpeqOoUvZA"
      },
      "outputs": [],
      "source": [
        "class TransformedTensorDataset(Dataset):\n",
        "    def __init__(self, x, y, transform=None):\n",
        "        self.x = x\n",
        "        self.y = y\n",
        "        self.transform = transform\n",
        "\n",
        "    def __getitem__(self, index):\n",
        "        x = self.x[index]\n",
        "\n",
        "        if self.transform:\n",
        "            x = self.transform(x)\n",
        "\n",
        "        return x, self.y[index]\n",
        "\n",
        "    def __len__(self):\n",
        "        return len(self.x)"
      ]
    },
    {
      "cell_type": "code",
      "execution_count": 34,
      "metadata": {
        "id": "i6QlLlkzUvZB"
      },
      "outputs": [],
      "source": [
        "# Builds tensors from numpy arrays BEFORE split\n",
        "# Modifies the scale of pixel values from [0, 255] to [0, 1]\n",
        "x_tensor = torch.as_tensor(images / 255).float()\n",
        "y_tensor = torch.as_tensor(labels).long()\n",
        "\n",
        "# Uses index_splitter to generate indices for training and\n",
        "# validation sets\n",
        "train_idx, val_idx = index_splitter(len(x_tensor), [80, 20])\n",
        "# Uses indices to perform the split\n",
        "x_train_tensor = x_tensor[train_idx]\n",
        "y_train_tensor = y_tensor[train_idx]\n",
        "x_val_tensor = x_tensor[val_idx]\n",
        "y_val_tensor = y_tensor[val_idx]\n",
        "\n",
        "# We're not doing any data augmentation now\n",
        "train_composer = Compose([Normalize(mean=(.5,), std=(.5,))])\n",
        "val_composer = Compose([Normalize(mean=(.5,), std=(.5,))])\n",
        "\n",
        "# Uses custom dataset to apply composed transforms to each set\n",
        "train_dataset = TransformedTensorDataset(x_train_tensor, y_train_tensor, transform=train_composer)\n",
        "val_dataset = TransformedTensorDataset(x_val_tensor, y_val_tensor, transform=val_composer)\n",
        "\n",
        "# Builds a weighted random sampler to handle imbalanced classes\n",
        "sampler = make_balanced_sampler(y_train_tensor)\n",
        "\n",
        "# Uses sampler in the training set to get a balanced data loader\n",
        "train_loader = DataLoader(dataset=train_dataset, batch_size=16, sampler=sampler)\n",
        "val_loader = DataLoader(dataset=val_dataset, batch_size=16)"
      ]
    },
    {
      "cell_type": "markdown",
      "metadata": {
        "id": "IZp9dn2mUvZB"
      },
      "source": [
        "## Loss\n",
        "\n",
        "In multiclass classification the problem is more complex: We need to ask more questions; that is, we need to get log odds ratios for every possible class. In other words, we **need as many logits as there are classes** and sigmoid activation function takes only **one logit**\n",
        "\n",
        "We need another one"
      ]
    },
    {
      "cell_type": "markdown",
      "metadata": {
        "id": "SP3LfH7SUvZB"
      },
      "source": [
        "### Softmax"
      ]
    },
    {
      "cell_type": "markdown",
      "metadata": {
        "id": "mIn0tu67UvZB"
      },
      "source": [
        "$$\n",
        "\\Large\n",
        "\\begin{array}\n",
        "& z & = \\text{logit}(p) & = \\text{log odds ratio }(p) & = \\text{log}\\left(\\frac{p}{1-p}\\right)\n",
        "\\\\\n",
        "e^z & = e^{\\text{logit}(p)} & = \\text{odds ratio }(p) & = \\left(\\frac{p}{1-p}\\right)\n",
        "\\end{array}\n",
        "$$"
      ]
    },
    {
      "cell_type": "markdown",
      "metadata": {
        "id": "2MIfhBLsUvZB"
      },
      "source": [
        "$$\n",
        "\\Large\n",
        "\\text{softmax}(z_i) = \\frac{e^{z_i}}{\\sum_{c=0}^{C-1}{e^{z_c}}}\n",
        "$$"
      ]
    },
    {
      "cell_type": "markdown",
      "metadata": {
        "id": "2LxdpFLtUvZB"
      },
      "source": [
        "In the equation above, `C` stands for the **number of classes** and i corresponds to the index of a particular class. In our example, we have three classes, so **our model needs to output three logits** (z0, z1, z2). Applying softmax to these logits, we would get the following:\n",
        "\n",
        "\n",
        "$$\n",
        "\\Large\n",
        "\\text{softmax}(z) = \\left[\\frac{e^{z_0}}{e^{z_0}+e^{z_1}+e^{z_2}},\\frac{e^{z_1}}{e^{z_0}+e^{z_1}+e^{z_2}},\\frac{e^{z_2}}{e^{z_0}+e^{z_1}+e^{z_2}}\\right]\n",
        "$$"
      ]
    },
    {
      "cell_type": "code",
      "execution_count": 35,
      "metadata": {
        "id": "IyeCMKKdUvZB"
      },
      "outputs": [],
      "source": [
        "logits = torch.tensor([ 1.3863,  0.0000, -0.6931])"
      ]
    },
    {
      "cell_type": "code",
      "execution_count": 36,
      "metadata": {
        "id": "wto9kUuBUvZB",
        "outputId": "21e3d465-ab4c-45e9-e87e-c0e67a87825b",
        "colab": {
          "base_uri": "https://localhost:8080/"
        }
      },
      "outputs": [
        {
          "output_type": "execute_result",
          "data": {
            "text/plain": [
              "tensor([4.0000, 1.0000, 0.5000])"
            ]
          },
          "metadata": {},
          "execution_count": 36
        }
      ],
      "source": [
        "odds_ratios = torch.exp(logits) #We exponentiate the logits to get the corresponding odds ratios:\n",
        "odds_ratios"
      ]
    },
    {
      "cell_type": "markdown",
      "source": [
        "The resulting tensor is telling us that the `first class` has much better odds than the other two, and the `second one` has better odds than the third. So we take these odds and **add them together**, and then compute each class' contribution to the sum:\n",
        "\n",
        "The probabilities are proportional to the odds ratios. This data point most likely belongs to the `first class `since it has a probability of **72.73%**.\n"
      ],
      "metadata": {
        "id": "YdrpxnRyKD_V"
      }
    },
    {
      "cell_type": "code",
      "execution_count": 37,
      "metadata": {
        "id": "XoEYr7XlUvZB",
        "outputId": "e50566b8-da52-4631-bd79-722dac8b9dab",
        "colab": {
          "base_uri": "https://localhost:8080/"
        }
      },
      "outputs": [
        {
          "output_type": "execute_result",
          "data": {
            "text/plain": [
              "tensor([0.7273, 0.1818, 0.0909])"
            ]
          },
          "metadata": {},
          "execution_count": 37
        }
      ],
      "source": [
        "softmaxed = odds_ratios / odds_ratios.sum()\n",
        "softmaxed"
      ]
    },
    {
      "cell_type": "markdown",
      "source": [
        "But there is absolutely no need to compute it manually, of course. PyTorch provides the typical implementations: functional (`F.softmax())` and module (`nn.Softmax`):\n"
      ],
      "metadata": {
        "id": "ou4S2TB9mjiE"
      }
    },
    {
      "cell_type": "code",
      "execution_count": 38,
      "metadata": {
        "id": "tmRGyuVQUvZC",
        "outputId": "278fd010-5299-44b4-c4c9-56236211ac80",
        "colab": {
          "base_uri": "https://localhost:8080/"
        }
      },
      "outputs": [
        {
          "output_type": "execute_result",
          "data": {
            "text/plain": [
              "(tensor([0.7273, 0.1818, 0.0909]), tensor([0.7273, 0.1818, 0.0909]))"
            ]
          },
          "metadata": {},
          "execution_count": 38
        }
      ],
      "source": [
        "nn.Softmax(dim=-1)(logits), F.softmax(logits, dim=-1)"
      ]
    },
    {
      "cell_type": "markdown",
      "source": [
        "`\"Why do I need to take the log of the softmax?\"`\n",
        "\n",
        "The simple and straightforward reason is that the loss function expects `log probabilities` as input.\n",
        "\n",
        "PyTorch provides `F.log_softmax()` and nn.LogSoftmax out of the box.\n",
        "\n",
        "\n",
        "\n"
      ],
      "metadata": {
        "id": "YHHiIPYLnHsT"
      }
    },
    {
      "cell_type": "markdown",
      "metadata": {
        "id": "TekGLtWIUvZC"
      },
      "source": [
        "### Negative Log Likelihood Loss\n",
        "\n",
        "Since softmax returns **probabilities**, logsoftmax returns **log probabilities**. And that’s the input for computing the negative log-likelihood loss, or `nn.NLLLoss()` for short. **This loss is simply an extension of the binary cross-entropy loss for handling multiple classes.**\n"
      ]
    },
    {
      "cell_type": "markdown",
      "metadata": {
        "id": "GNnpY9moUvZC"
      },
      "source": [
        "$$\n",
        "\\Large\n",
        "\\texttt{BCE}(y)={-\\frac{1}{(N_{\\text{pos}}+N_{\\text{neg}})}\\Bigg[{\\sum_{i=1}^{N_{\\text{pos}}}{\\text{log}(\\text{P}(y_i=1))} + \\sum_{i=1}^{N_{\\text{neg}}}{\\text{log}(1 - \\text{P}(y_i=1))}}\\Bigg]}\n",
        "\\\\\n",
        "$$\n",
        "\n",
        "See the log probabilities in the summation terms? In our example, there are **three classes**; that is, our labels (y) could be either **zero**, **one**, or **two**. So, the loss function will look like this:\n",
        "\n",
        "\n",
        "$$\n",
        "\\Large\n",
        "\\texttt{NLLLoss}(y)={-\\frac{1}{(N_0+N_1+N_2)}\\Bigg[{\\sum_{i=1}^{N_0}{\\text{log}(\\text{P}(y_i=0))} + \\sum_{i=1}^{N_1}{\\text{log}(\\text{P}(y_i=1))} + \\sum_{i=1}^{N_2}{\\text{log}(\\text{P}(y_i=2))}}\\Bigg]}\n",
        "\\\\\n",
        "\\Large \\texttt{NLLLoss}(y)={-\\frac{1}{(N_0+\\cdots+N_{C-1})}\\sum_{c=0}^{C-1}{\\sum_{i=1}^{N_c}{\\text{log}(\\text{P}(y_i=c))} }}\n",
        "$$"
      ]
    },
    {
      "cell_type": "code",
      "execution_count": 39,
      "metadata": {
        "id": "JZj9hw6rUvZC",
        "outputId": "26532945-1985-464a-e750-021b2baab0e5",
        "colab": {
          "base_uri": "https://localhost:8080/"
        }
      },
      "outputs": [
        {
          "output_type": "execute_result",
          "data": {
            "text/plain": [
              "tensor([-0.3185, -1.7048, -2.3979])"
            ]
          },
          "metadata": {},
          "execution_count": 39
        }
      ],
      "source": [
        "log_probs = F.log_softmax(logits, dim=-1)\n",
        "log_probs"
      ]
    },
    {
      "cell_type": "code",
      "execution_count": 40,
      "metadata": {
        "id": "O47fHvD9UvZC",
        "outputId": "aff073b1-ec72-4e27-8bf5-a7a1b4d26fcb",
        "colab": {
          "base_uri": "https://localhost:8080/"
        }
      },
      "outputs": [
        {
          "output_type": "execute_result",
          "data": {
            "text/plain": [
              "tensor(2.3979)"
            ]
          },
          "metadata": {},
          "execution_count": 40
        }
      ],
      "source": [
        "label = torch.tensor([2])\n",
        "F.nll_loss(log_probs.view(-1, 3), label)"
      ]
    },
    {
      "cell_type": "code",
      "execution_count": 41,
      "metadata": {
        "id": "mUzr1-a1UvZC",
        "outputId": "e3d6447d-944d-4fcf-e56f-9c2e3792ae47",
        "colab": {
          "base_uri": "https://localhost:8080/"
        }
      },
      "outputs": [
        {
          "output_type": "execute_result",
          "data": {
            "text/plain": [
              "tensor([[-1.5229, -0.3146, -2.9600],\n",
              "        [-1.7934, -1.0044, -0.7607],\n",
              "        [-1.2513, -1.0136, -1.0471],\n",
              "        [-2.6799, -0.2219, -2.0367],\n",
              "        [-1.0728, -1.9098, -0.6737]])"
            ]
          },
          "metadata": {},
          "execution_count": 41
        }
      ],
      "source": [
        "torch.manual_seed(11)\n",
        "dummy_logits = torch.randn((5, 3))\n",
        "dummy_labels = torch.tensor([0, 0, 1, 2, 1])\n",
        "dummy_log_probs = F.log_softmax(dummy_logits, dim=-1)\n",
        "dummy_log_probs"
      ]
    },
    {
      "cell_type": "code",
      "execution_count": 42,
      "metadata": {
        "id": "fZkSTv5PUvZC",
        "outputId": "589204c0-23e6-4e0c-cdc4-a892b122ca9b",
        "colab": {
          "base_uri": "https://localhost:8080/"
        }
      },
      "outputs": [
        {
          "output_type": "execute_result",
          "data": {
            "text/plain": [
              "tensor(1.6553)"
            ]
          },
          "metadata": {},
          "execution_count": 42
        }
      ],
      "source": [
        "relevant_log_probs = torch.tensor([-1.5229, -1.7934, -1.0136, -2.0367, -1.9098])\n",
        "-relevant_log_probs.mean()"
      ]
    },
    {
      "cell_type": "code",
      "execution_count": 43,
      "metadata": {
        "id": "LkWeg0APUvZD",
        "outputId": "24ed6824-2151-43ce-9c62-a1b2d5ddd0b7",
        "colab": {
          "base_uri": "https://localhost:8080/"
        }
      },
      "outputs": [
        {
          "output_type": "execute_result",
          "data": {
            "text/plain": [
              "tensor(1.6553)"
            ]
          },
          "metadata": {},
          "execution_count": 43
        }
      ],
      "source": [
        "loss_fn = nn.NLLLoss()\n",
        "loss_fn(dummy_log_probs, dummy_labels)"
      ]
    },
    {
      "cell_type": "code",
      "execution_count": 44,
      "metadata": {
        "id": "IgjF_dy9UvZD",
        "outputId": "9c4c654f-18ec-4750-9b99-6673ec9eb3ef",
        "colab": {
          "base_uri": "https://localhost:8080/"
        }
      },
      "outputs": [
        {
          "output_type": "execute_result",
          "data": {
            "text/plain": [
              "tensor(1.7188)"
            ]
          },
          "metadata": {},
          "execution_count": 44
        }
      ],
      "source": [
        "loss_fn = nn.NLLLoss(weight=torch.tensor([1., 1., 2.]))\n",
        "loss_fn(dummy_log_probs, dummy_labels)"
      ]
    },
    {
      "cell_type": "code",
      "execution_count": 45,
      "metadata": {
        "id": "uQSKCaGqUvZD",
        "outputId": "a65dbe94-e6e2-4f95-a950-f7cd973a6e50",
        "colab": {
          "base_uri": "https://localhost:8080/"
        }
      },
      "outputs": [
        {
          "output_type": "execute_result",
          "data": {
            "text/plain": [
              "tensor(1.5599)"
            ]
          },
          "metadata": {},
          "execution_count": 45
        }
      ],
      "source": [
        "loss_fn = nn.NLLLoss(ignore_index=2)\n",
        "loss_fn(dummy_log_probs, dummy_labels)"
      ]
    },
    {
      "cell_type": "markdown",
      "metadata": {
        "id": "7zXrZPl4UvZD"
      },
      "source": [
        "### Cross Entropy Loss"
      ]
    },
    {
      "cell_type": "code",
      "execution_count": 46,
      "metadata": {
        "id": "f8_pW8n6UvZD",
        "outputId": "968a7284-1c76-47dc-b550-dc149c71f54d",
        "colab": {
          "base_uri": "https://localhost:8080/"
        }
      },
      "outputs": [
        {
          "output_type": "execute_result",
          "data": {
            "text/plain": [
              "tensor(1.6553)"
            ]
          },
          "metadata": {},
          "execution_count": 46
        }
      ],
      "source": [
        "torch.manual_seed(11)\n",
        "dummy_logits = torch.randn((5, 3))\n",
        "dummy_labels = torch.tensor([0, 0, 1, 2, 1])\n",
        "\n",
        "loss_fn = nn.CrossEntropyLoss()\n",
        "loss_fn(dummy_logits, dummy_labels)"
      ]
    },
    {
      "cell_type": "markdown",
      "metadata": {
        "id": "XV0CDYj3UvZD"
      },
      "source": [
        "## Model Configuration\n",
        "\n",
        "Let’s build our first convolutional neural network for real! We can use the **typical convolutional block:** `convolutional layer`, `activation function`, `pooling layer`. Our images are quite small, so we only need one of those.\n",
        "\n",
        "\n",
        "### Channel\n",
        "In general, the **number of channels increases** with each convolutional block. For the sake of simplicity (and later visualization), let’s keep a **single channel.**\n",
        "\n",
        "### Kernel Size\n",
        "We also need to decide on a **kernel size** (the receptive field or gray regions in the figures at the beginning of this chapter). Let’s stick with a **kernel size of three**, which will reduce the image size by **two pixels** in each dimension (we are not using padding here).\n",
        "\n",
        "\n",
        "### Image Size\n",
        "Let’s follow what happens to an input image (`single-channel`, `10x10 pixels in size—1@10x10`):\n",
        "\n",
        "\n",
        "\n",
        "Our **featurizer**, which will encode our images into features using convolutions, should look like this:\n"
      ]
    },
    {
      "cell_type": "code",
      "execution_count": 57,
      "metadata": {
        "id": "2dXrcHuwUvZD"
      },
      "outputs": [],
      "source": [
        "torch.manual_seed(13)\n",
        "model_cnn1 = nn.Sequential()\n",
        "\n",
        "# Featurizer\n",
        "# Block 1: 1@10x10 -> n_channels@8x8 -> n_channels@4x4\n",
        "n_channels = 1\n",
        "model_cnn1.add_module('conv1', nn.Conv2d(in_channels=1, out_channels=n_channels, kernel_size=3))\n",
        "model_cnn1.add_module('relu1', nn.ReLU())\n",
        "model_cnn1.add_module('maxp1', nn.MaxPool2d(kernel_size=2))\n",
        "# Flattening: n_channels * 4 * 4\n",
        "model_cnn1.add_module('flatten', nn.Flatten())"
      ]
    },
    {
      "cell_type": "markdown",
      "source": [
        "​\n",
        "1. The image is `convolved` with the kernel, and the resulting image has **one channel**, and is 8x8 pixels in size (1@8x8).\n",
        "\n",
        "1. A `ReLU` activation function is applied to the resulting image.\n",
        "\n",
        "1. The \"activated\" image goes under a `max pooling` operation with a **kernel size of two**, so it is divided into **16 chunks of size two-by-two**, resulting in an image with one channel, but only 4x4 pixels in size `(1@4x4)`.\n",
        "\n",
        "1. These 16 values can be considered features, and are `flattened` into a tensor with 16 elements.\n",
        "\n"
      ],
      "metadata": {
        "id": "4B75XXGyCAxy"
      }
    },
    {
      "cell_type": "markdown",
      "source": [
        "##Classification\n",
        "\n",
        "The next part of our model, the classifier part, uses these features to feed what would be a simple neural network with a **single hidden layer** if considered on its own:\n"
      ],
      "metadata": {
        "id": "Tftpm4FJDjpt"
      }
    },
    {
      "cell_type": "code",
      "execution_count": 58,
      "metadata": {
        "id": "cR7xwj1dUvZD"
      },
      "outputs": [],
      "source": [
        "# Classification\n",
        "# Hidden Layer\n",
        "model_cnn1.add_module('fc1', nn.Linear(in_features=n_channels*4*4, out_features=10))\n",
        "model_cnn1.add_module('relu2', nn.ReLU())\n",
        "# Output Layer\n",
        "model_cnn1.add_module('fc2', nn.Linear(in_features=10, out_features=3))"
      ]
    },
    {
      "cell_type": "markdown",
      "metadata": {
        "id": "ko6qh52bUvZE"
      },
      "source": [
        "![](https://github.com/dvgodoy/PyTorchStepByStep/blob/master/images/classification_softmax.png?raw=1)"
      ]
    },
    {
      "cell_type": "markdown",
      "source": [
        "The three units in the **output layer produce three logits**, one for each class (C0, C1, and C2). We could have added an `nn.LogSoftmax` layer to the model, and it would have converted the **three logits to log probabilities**.\n",
        "\n"
      ],
      "metadata": {
        "id": "tO2oe0EqD0ml"
      }
    },
    {
      "cell_type": "markdown",
      "source": [
        "Since our model produces **logits**, we must use the `nn.CrossEntropyLoss()` function:\n"
      ],
      "metadata": {
        "id": "L_ZXKFIQEBzQ"
      }
    },
    {
      "cell_type": "code",
      "execution_count": 59,
      "metadata": {
        "id": "0xt1MKYaUvZE"
      },
      "outputs": [],
      "source": [
        "lr = 0.1\n",
        "multi_loss_fn = nn.CrossEntropyLoss(reduction='mean')\n",
        "optimizer_cnn1 = optim.SGD(model_cnn1.parameters(), lr=lr)"
      ]
    },
    {
      "cell_type": "markdown",
      "metadata": {
        "id": "sJYh0yi8UvZE"
      },
      "source": [
        "## Model Training\n",
        "\n",
        "1. First, we instantiate our class and set the loaders\n",
        "1. we train it for 20 epochs and visualize the losses:\n",
        "1. Plot losses\n"
      ]
    },
    {
      "cell_type": "code",
      "execution_count": 60,
      "metadata": {
        "id": "VGJtmsodUvZE"
      },
      "outputs": [],
      "source": [
        "sbs_cnn1 = StepByStep(model_cnn1, multi_loss_fn, optimizer_cnn1)\n",
        "sbs_cnn1.set_loaders(train_loader, val_loader)"
      ]
    },
    {
      "cell_type": "code",
      "execution_count": 61,
      "metadata": {
        "id": "r8AgZOACUvZE"
      },
      "outputs": [],
      "source": [
        "sbs_cnn1.train(20)"
      ]
    },
    {
      "cell_type": "code",
      "execution_count": 62,
      "metadata": {
        "id": "bkBvMlamUvZE",
        "outputId": "aa60a97d-df6d-47dc-cddf-db8bbdf46f42",
        "colab": {
          "base_uri": "https://localhost:8080/",
          "height": 395
        }
      },
      "outputs": [
        {
          "output_type": "display_data",
          "data": {
            "text/plain": [
              "<Figure size 1000x400 with 1 Axes>"
            ],
            "image/png": "[encoded data removed]"
          },
          "metadata": {}
        }
      ],
      "source": [
        "fig = sbs_cnn1.plot_losses()"
      ]
    },
    {
      "cell_type": "markdown",
      "metadata": {
        "id": "nHxlLEtLUvZE"
      },
      "source": [
        "## Visualizing Filters and More!"
      ]
    },
    {
      "cell_type": "code",
      "execution_count": 63,
      "metadata": {
        "id": "nQthXSuhUvZE"
      },
      "outputs": [],
      "source": [
        "@staticmethod\n",
        "def _visualize_tensors(axs, x, y=None, yhat=None,\n",
        "                       layer_name='', title=None):\n",
        "    # The number of images is the number of subplots in a row\n",
        "    n_images = len(axs)\n",
        "    # Gets max and min values for scaling the grayscale\n",
        "    minv, maxv = np.min(x[:n_images]), np.max(x[:n_images])\n",
        "    # For each image\n",
        "    for j, image in enumerate(x[:n_images]):\n",
        "        ax = axs[j]\n",
        "        # Sets title, labels, and removes ticks\n",
        "        if title is not None:\n",
        "            ax.set_title(f'{title} #{j}', fontsize=12)\n",
        "        shp = np.atleast_2d(image).shape\n",
        "        ax.set_ylabel(\n",
        "            f'{layer_name}\\n{shp[0]}x{shp[1]}',\n",
        "            rotation=0, labelpad=40\n",
        "        )\n",
        "        xlabel1 = '' if y is None else f'\\nLabel: {y[j]}'\n",
        "        xlabel2 = '' if yhat is None else f'\\nPredicted: {yhat[j]}'\n",
        "        xlabel = f'{xlabel1}{xlabel2}'\n",
        "        if len(xlabel):\n",
        "            ax.set_xlabel(xlabel, fontsize=12)\n",
        "        ax.set_xticks([])\n",
        "        ax.set_yticks([])\n",
        "\n",
        "        # Plots weight as an image\n",
        "        ax.imshow(\n",
        "            np.atleast_2d(image.squeeze()),\n",
        "            cmap='gray',\n",
        "            vmin=minv,\n",
        "            vmax=maxv\n",
        "        )\n",
        "    return\n",
        "\n",
        "setattr(StepByStep, '_visualize_tensors', _visualize_tensors)"
      ]
    },
    {
      "cell_type": "markdown",
      "metadata": {
        "id": "UHUderM0UvZE"
      },
      "source": [
        "### Static Method"
      ]
    },
    {
      "cell_type": "code",
      "execution_count": 64,
      "metadata": {
        "id": "RCjlq-uBUvZF"
      },
      "outputs": [],
      "source": [
        "class Cat(object):\n",
        "    def __init__(self, name):\n",
        "        self.name = name\n",
        "\n",
        "    @staticmethod\n",
        "    def meow():\n",
        "        print('Meow')"
      ]
    },
    {
      "cell_type": "code",
      "execution_count": 65,
      "metadata": {
        "id": "sJqpolXNUvZF",
        "outputId": "23ffd1aa-619d-41a5-88b6-ee5e7e75b01c",
        "colab": {
          "base_uri": "https://localhost:8080/"
        }
      },
      "outputs": [
        {
          "output_type": "stream",
          "name": "stdout",
          "text": [
            "Meow\n"
          ]
        }
      ],
      "source": [
        "Cat.meow()"
      ]
    },
    {
      "cell_type": "markdown",
      "metadata": {
        "id": "CBBUIYfdUvZF"
      },
      "source": [
        "### Visualizing Filters"
      ]
    },
    {
      "cell_type": "markdown",
      "source": [
        "We can apply the same principle to the weights of the filter learned by our convolutional layer. We can access the weights of any given layer using `dot notation:`\n"
      ],
      "metadata": {
        "id": "xLnjxfHSFhbQ"
      }
    },
    {
      "cell_type": "code",
      "execution_count": 66,
      "metadata": {
        "id": "LjO1ztaOUvZF",
        "outputId": "d50f0c4f-4a08-4093-8dbe-2c26c0201346",
        "colab": {
          "base_uri": "https://localhost:8080/"
        }
      },
      "outputs": [
        {
          "output_type": "execute_result",
          "data": {
            "text/plain": [
              "(1, 1, 3, 3)"
            ]
          },
          "metadata": {},
          "execution_count": 66
        }
      ],
      "source": [
        "weights_filter = model_cnn1.conv1.weight.data.cpu().numpy()\n",
        "weights_filter.shape"
      ]
    },
    {
      "cell_type": "code",
      "execution_count": null,
      "metadata": {
        "id": "hBzHgZVEUvZF"
      },
      "outputs": [],
      "source": [
        "def visualize_filters(self, layer_name, **kwargs):\n",
        "    try:\n",
        "        # Gets the layer object from the model\n",
        "        layer = self.model\n",
        "        for name in layer_name.split('.'):\n",
        "            layer = getattr(layer, name)\n",
        "        # We are only looking at filters for 2D convolutions\n",
        "        if isinstance(layer, nn.Conv2d):\n",
        "            # Takes the weight information\n",
        "            weights = layer.weight.data.cpu().numpy()\n",
        "            # weights -> (channels_out (filter), channels_in, H, W)\n",
        "            n_filters, n_channels, _, _ = weights.shape\n",
        "\n",
        "            # Builds a figure\n",
        "            size = (2 * n_channels + 2, 2 * n_filters)\n",
        "            fig, axes = plt.subplots(n_filters, n_channels,\n",
        "                                     figsize=size)\n",
        "            axes = np.atleast_2d(axes)\n",
        "            axes = axes.reshape(n_filters, n_channels)\n",
        "            # For each channel_out (filter)\n",
        "            for i in range(n_filters):\n",
        "                StepByStep._visualize_tensors(\n",
        "                    axes[i, :],\n",
        "                    weights[i],\n",
        "                    layer_name=f'Filter #{i}',\n",
        "                    title='Channel'\n",
        "                )\n",
        "\n",
        "            for ax in axes.flat:\n",
        "                ax.label_outer()\n",
        "\n",
        "            fig.tight_layout()\n",
        "            return fig\n",
        "    except AttributeError:\n",
        "        return\n",
        "\n",
        "setattr(StepByStep, 'visualize_filters', visualize_filters)"
      ]
    },
    {
      "cell_type": "code",
      "execution_count": null,
      "metadata": {
        "id": "OttJ5kJSUvZF"
      },
      "outputs": [],
      "source": [
        "fig = sbs_cnn1.visualize_filters('conv1', cmap='gray')"
      ]
    },
    {
      "cell_type": "markdown",
      "metadata": {
        "id": "iI_hsduEUvZF"
      },
      "source": [
        "### Hooks"
      ]
    },
    {
      "cell_type": "code",
      "execution_count": null,
      "metadata": {
        "id": "vHhszg-2UvZF"
      },
      "outputs": [],
      "source": [
        "dummy_model = nn.Linear(1, 1)\n",
        "\n",
        "dummy_list = []\n",
        "\n",
        "def dummy_hook(layer, inputs, outputs):\n",
        "    dummy_list.append((layer, inputs, outputs))"
      ]
    },
    {
      "cell_type": "code",
      "execution_count": null,
      "metadata": {
        "id": "UTaSHwpzUvZG"
      },
      "outputs": [],
      "source": [
        "dummy_handle = dummy_model.register_forward_hook(dummy_hook)\n",
        "dummy_handle"
      ]
    },
    {
      "cell_type": "code",
      "execution_count": null,
      "metadata": {
        "id": "hnNO29rUUvZG"
      },
      "outputs": [],
      "source": [
        "dummy_x = torch.tensor([0.3])\n",
        "dummy_model.forward(dummy_x)"
      ]
    },
    {
      "cell_type": "code",
      "execution_count": null,
      "metadata": {
        "id": "2yjSJMycUvZG"
      },
      "outputs": [],
      "source": [
        "dummy_list"
      ]
    },
    {
      "cell_type": "code",
      "execution_count": null,
      "metadata": {
        "id": "Qe39zdJGUvZG"
      },
      "outputs": [],
      "source": [
        "dummy_model(dummy_x)"
      ]
    },
    {
      "cell_type": "code",
      "execution_count": null,
      "metadata": {
        "id": "1B69LyYWUvZG"
      },
      "outputs": [],
      "source": [
        "dummy_list"
      ]
    },
    {
      "cell_type": "code",
      "execution_count": null,
      "metadata": {
        "id": "sm_0B3mDUvZG"
      },
      "outputs": [],
      "source": [
        "dummy_handle.remove()"
      ]
    },
    {
      "cell_type": "code",
      "execution_count": null,
      "metadata": {
        "id": "B0xZdrexUvZG"
      },
      "outputs": [],
      "source": [
        "modules = list(sbs_cnn1.model.named_modules())\n",
        "modules"
      ]
    },
    {
      "cell_type": "code",
      "execution_count": null,
      "metadata": {
        "id": "kZ7x1dbIUvZG"
      },
      "outputs": [],
      "source": [
        "layer_names = {layer: name for name, layer in modules[1:]}\n",
        "layer_names"
      ]
    },
    {
      "cell_type": "code",
      "execution_count": null,
      "metadata": {
        "id": "OrIc_JRQUvZH"
      },
      "outputs": [],
      "source": [
        "visualization = {}\n",
        "\n",
        "def hook_fn(layer, inputs, outputs):\n",
        "    name = layer_names[layer]\n",
        "    visualization[name] = outputs.detach().cpu().numpy()"
      ]
    },
    {
      "cell_type": "code",
      "execution_count": null,
      "metadata": {
        "id": "CTpFmOebUvZH"
      },
      "outputs": [],
      "source": [
        "layers_to_hook = ['conv1', 'relu1', 'maxp1', 'flatten', 'fc1', 'relu2', 'fc2']\n",
        "\n",
        "handles = {}\n",
        "\n",
        "for name, layer in modules:\n",
        "    if name in layers_to_hook:\n",
        "        handles[name] = layer.register_forward_hook(hook_fn)"
      ]
    },
    {
      "cell_type": "code",
      "execution_count": null,
      "metadata": {
        "id": "0j2rJ1pzUvZH"
      },
      "outputs": [],
      "source": [
        "images_batch, labels_batch = next(iter(val_loader))\n",
        "logits = sbs_cnn1.predict(images_batch)"
      ]
    },
    {
      "cell_type": "code",
      "execution_count": null,
      "metadata": {
        "id": "APlsNGWzUvZH"
      },
      "outputs": [],
      "source": [
        "visualization.keys()"
      ]
    },
    {
      "cell_type": "code",
      "execution_count": null,
      "metadata": {
        "id": "0vcr2DnXUvZH"
      },
      "outputs": [],
      "source": [
        "for handle in handles.values():\n",
        "    handle.remove()\n",
        "handles = {}"
      ]
    },
    {
      "cell_type": "code",
      "execution_count": null,
      "metadata": {
        "id": "k214Hr9KUvZH"
      },
      "outputs": [],
      "source": [
        "setattr(StepByStep, 'visualization', {})\n",
        "setattr(StepByStep, 'handles', {})\n",
        "\n",
        "def attach_hooks(self, layers_to_hook, hook_fn=None):\n",
        "    # Clear any previous values\n",
        "    self.visualization = {}\n",
        "    # Creates the dictionary to map layer objects to their names\n",
        "    modules = list(self.model.named_modules())\n",
        "    layer_names = {layer: name for name, layer in modules[1:]}\n",
        "\n",
        "    if hook_fn is None:\n",
        "        # Hook function to be attached to the forward pass\n",
        "        def hook_fn(layer, inputs, outputs):\n",
        "            # Gets the layer name\n",
        "            name = layer_names[layer]\n",
        "            # Detaches outputs\n",
        "            values = outputs.detach().cpu().numpy()\n",
        "            # Since the hook function may be called multiple times\n",
        "            # for example, if we make predictions for multiple mini-batches\n",
        "            # it concatenates the results\n",
        "            if self.visualization[name] is None:\n",
        "                self.visualization[name] = values\n",
        "            else:\n",
        "                self.visualization[name] = np.concatenate([self.visualization[name], values])\n",
        "\n",
        "    for name, layer in modules:\n",
        "        # If the layer is in our list\n",
        "        if name in layers_to_hook:\n",
        "            # Initializes the corresponding key in the dictionary\n",
        "            self.visualization[name] = None\n",
        "            # Register the forward hook and keep the handle in another dict\n",
        "            self.handles[name] = layer.register_forward_hook(hook_fn)\n",
        "\n",
        "def remove_hooks(self):\n",
        "    # Loops through all hooks and removes them\n",
        "    for handle in self.handles.values():\n",
        "        handle.remove()\n",
        "    # Clear the dict, as all hooks have been removed\n",
        "    self.handles = {}\n",
        "\n",
        "setattr(StepByStep, 'attach_hooks', attach_hooks)\n",
        "setattr(StepByStep, 'remove_hooks', remove_hooks)"
      ]
    },
    {
      "cell_type": "code",
      "execution_count": null,
      "metadata": {
        "id": "eeoMKO90UvZH"
      },
      "outputs": [],
      "source": [
        "sbs_cnn1.attach_hooks(layers_to_hook=['conv1', 'relu1', 'maxp1', 'flatten', 'fc1', 'relu2', 'fc2'])"
      ]
    },
    {
      "cell_type": "code",
      "execution_count": null,
      "metadata": {
        "id": "1sOTpUngUvZI"
      },
      "outputs": [],
      "source": [
        "images_batch, labels_batch = next(iter(val_loader))\n",
        "logits = sbs_cnn1.predict(images_batch)"
      ]
    },
    {
      "cell_type": "code",
      "execution_count": null,
      "metadata": {
        "id": "T5MP8tjtUvZI"
      },
      "outputs": [],
      "source": [
        "sbs_cnn1.remove_hooks()"
      ]
    },
    {
      "cell_type": "code",
      "execution_count": null,
      "metadata": {
        "id": "wmECfVutUvZI"
      },
      "outputs": [],
      "source": [
        "predicted = np.argmax(logits, 1)\n",
        "predicted"
      ]
    },
    {
      "cell_type": "markdown",
      "metadata": {
        "id": "LJvrKASDUvZI"
      },
      "source": [
        "### Visualizing Feature Maps"
      ]
    },
    {
      "cell_type": "code",
      "execution_count": null,
      "metadata": {
        "id": "mAC-qxTtUvZI"
      },
      "outputs": [],
      "source": [
        "fig = plot_images(images_batch.squeeze(), labels_batch.squeeze(), n_plot=10)"
      ]
    },
    {
      "cell_type": "code",
      "execution_count": null,
      "metadata": {
        "id": "QjceHgG3UvZI"
      },
      "outputs": [],
      "source": [
        "def visualize_outputs(self, layers, n_images=10, y=None, yhat=None):\n",
        "    layers = filter(lambda l: l in self.visualization.keys(), layers)\n",
        "    layers = list(layers)\n",
        "    shapes = [self.visualization[layer].shape for layer in layers]\n",
        "    n_rows = [shape[1] if len(shape) == 4 else 1\n",
        "              for shape in shapes]\n",
        "    total_rows = np.sum(n_rows)\n",
        "\n",
        "    fig, axes = plt.subplots(total_rows, n_images,\n",
        "                             figsize=(1.5*n_images, 1.5*total_rows))\n",
        "    axes = np.atleast_2d(axes).reshape(total_rows, n_images)\n",
        "\n",
        "    # Loops through the layers, one layer per row of subplots\n",
        "    row = 0\n",
        "    for i, layer in enumerate(layers):\n",
        "        start_row = row\n",
        "        # Takes the produced feature maps for that layer\n",
        "        output = self.visualization[layer]\n",
        "\n",
        "        is_vector = len(output.shape) == 2\n",
        "\n",
        "        for j in range(n_rows[i]):\n",
        "            StepByStep._visualize_tensors(\n",
        "                axes[row, :],\n",
        "                output if is_vector else output[:, j].squeeze(),\n",
        "                y,\n",
        "                yhat,\n",
        "                layer_name=layers[i] \\\n",
        "                           if is_vector \\\n",
        "                           else f'{layers[i]}\\nfil#{row-start_row}',\n",
        "                title='Image' if (row == 0) else None\n",
        "            )\n",
        "            row += 1\n",
        "\n",
        "    for ax in axes.flat:\n",
        "        ax.label_outer()\n",
        "\n",
        "    plt.tight_layout()\n",
        "    return fig\n",
        "\n",
        "setattr(StepByStep, 'visualize_outputs', visualize_outputs)"
      ]
    },
    {
      "cell_type": "code",
      "execution_count": null,
      "metadata": {
        "id": "2UctK33sUvZI"
      },
      "outputs": [],
      "source": [
        "featurizer_layers = ['conv1', 'relu1', 'maxp1', 'flatten']\n",
        "\n",
        "with plt.style.context('seaborn-white'):\n",
        "    fig = sbs_cnn1.visualize_outputs(featurizer_layers)"
      ]
    },
    {
      "cell_type": "markdown",
      "metadata": {
        "id": "FViwrxDSUvZJ"
      },
      "source": [
        "### Visualizing Classifier Layers"
      ]
    },
    {
      "cell_type": "code",
      "execution_count": null,
      "metadata": {
        "id": "XzFt1nj8UvZJ"
      },
      "outputs": [],
      "source": [
        "classifier_layers = ['fc1', 'relu2', 'fc2']\n",
        "\n",
        "with plt.style.context('seaborn-white'):\n",
        "    fig = sbs_cnn1.visualize_outputs(classifier_layers, y=labels_batch, yhat=predicted)"
      ]
    },
    {
      "cell_type": "markdown",
      "metadata": {
        "id": "vKxRywUjUvZJ"
      },
      "source": [
        "### Accuracy"
      ]
    },
    {
      "cell_type": "code",
      "execution_count": null,
      "metadata": {
        "id": "CmteSSOXUvZJ"
      },
      "outputs": [],
      "source": [
        "def correct(self, x, y, threshold=.5):\n",
        "    self.model.eval()\n",
        "    yhat = self.model(x.to(self.device))\n",
        "    y = y.to(self.device)\n",
        "    self.model.train()\n",
        "\n",
        "    # We get the size of the batch and the number of classes\n",
        "    # (only 1, if it is binary)\n",
        "    n_samples, n_dims = yhat.shape\n",
        "    if n_dims > 1:\n",
        "        # In a multiclass classification, the biggest logit\n",
        "        # always wins, so we don't bother getting probabilities\n",
        "\n",
        "        # This is PyTorch's version of argmax,\n",
        "        # but it returns a tuple: (max value, index of max value)\n",
        "        _, predicted = torch.max(yhat, 1)\n",
        "    else:\n",
        "        n_dims += 1\n",
        "        # In binary classification, we NEED to check if the\n",
        "        # last layer is a sigmoid (and then it produces probs)\n",
        "        if isinstance(self.model, nn.Sequential) and \\\n",
        "           isinstance(self.model[-1], nn.Sigmoid):\n",
        "            predicted = (yhat > threshold).long()\n",
        "        # or something else (logits), which we need to convert\n",
        "        # using a sigmoid\n",
        "        else:\n",
        "            predicted = (F.sigmoid(yhat) > threshold).long()\n",
        "\n",
        "    # How many samples got classified correctly for each class\n",
        "    result = []\n",
        "    for c in range(n_dims):\n",
        "        n_class = (y == c).sum().item()\n",
        "        n_correct = (predicted[y == c] == c).sum().item()\n",
        "        result.append((n_correct, n_class))\n",
        "    return torch.tensor(result)\n",
        "\n",
        "setattr(StepByStep, 'correct', correct)"
      ]
    },
    {
      "cell_type": "code",
      "execution_count": null,
      "metadata": {
        "id": "u-7RQ-9gUvZJ"
      },
      "outputs": [],
      "source": [
        "sbs_cnn1.correct(images_batch, labels_batch)"
      ]
    },
    {
      "cell_type": "markdown",
      "metadata": {
        "id": "ucYAisgoUvZJ"
      },
      "source": [
        "### Loader Apply"
      ]
    },
    {
      "cell_type": "code",
      "execution_count": null,
      "metadata": {
        "id": "QVVBGaHDUvZJ"
      },
      "outputs": [],
      "source": [
        "@staticmethod\n",
        "def loader_apply(loader, func, reduce='sum'):\n",
        "    results = [func(x, y) for i, (x, y) in enumerate(loader)]\n",
        "    results = torch.stack(results, axis=0)\n",
        "\n",
        "    if reduce == 'sum':\n",
        "        results = results.sum(axis=0)\n",
        "    elif reduce == 'mean':\n",
        "        results = results.float().mean(axis=0)\n",
        "\n",
        "    return results\n",
        "\n",
        "setattr(StepByStep, 'loader_apply', loader_apply)"
      ]
    },
    {
      "cell_type": "code",
      "execution_count": null,
      "metadata": {
        "id": "nAH_qwgZUvZJ"
      },
      "outputs": [],
      "source": [
        "StepByStep.loader_apply(sbs_cnn1.val_loader, sbs_cnn1.correct)"
      ]
    },
    {
      "cell_type": "markdown",
      "metadata": {
        "id": "pkiJDC_FUvZK"
      },
      "source": [
        "## Putting It All Together"
      ]
    },
    {
      "cell_type": "markdown",
      "metadata": {
        "id": "T1_BvuJNUvZK"
      },
      "source": [
        "### Data Preparation"
      ]
    },
    {
      "cell_type": "code",
      "execution_count": null,
      "metadata": {
        "id": "nS43X_P2UvZK"
      },
      "outputs": [],
      "source": [
        "# Builds tensors from numpy arrays BEFORE split\n",
        "# Modifies the scale of pixel values from [0, 255] to [0, 1]\n",
        "x_tensor = torch.as_tensor(images / 255).float()\n",
        "y_tensor = torch.as_tensor(labels).long()\n",
        "\n",
        "# Uses index_splitter to generate indices for training and\n",
        "# validation sets\n",
        "train_idx, val_idx = index_splitter(len(x_tensor), [80, 20])\n",
        "# Uses indices to perform the split\n",
        "x_train_tensor = x_tensor[train_idx]\n",
        "y_train_tensor = y_tensor[train_idx]\n",
        "x_val_tensor = x_tensor[val_idx]\n",
        "y_val_tensor = y_tensor[val_idx]\n",
        "\n",
        "# We're not doing any data augmentation now\n",
        "train_composer = Compose([Normalize(mean=(.5,), std=(.5,))])\n",
        "val_composer = Compose([Normalize(mean=(.5,), std=(.5,))])\n",
        "\n",
        "# Uses custom dataset to apply composed transforms to each set\n",
        "train_dataset = TransformedTensorDataset(x_train_tensor, y_train_tensor, transform=train_composer)\n",
        "val_dataset = TransformedTensorDataset(x_val_tensor, y_val_tensor, transform=val_composer)\n",
        "\n",
        "# Builds a weighted random sampler to handle imbalanced classes\n",
        "sampler = make_balanced_sampler(y_train_tensor)\n",
        "\n",
        "# Uses sampler in the training set to get a balanced data loader\n",
        "train_loader = DataLoader(dataset=train_dataset, batch_size=16, sampler=sampler)\n",
        "val_loader = DataLoader(dataset=val_dataset, batch_size=16)"
      ]
    },
    {
      "cell_type": "markdown",
      "metadata": {
        "id": "QsmAYCgFUvZK"
      },
      "source": [
        "### Model Configuration"
      ]
    },
    {
      "cell_type": "code",
      "execution_count": null,
      "metadata": {
        "id": "D746vcdmUvZK"
      },
      "outputs": [],
      "source": [
        "torch.manual_seed(13)\n",
        "model_cnn1 = nn.Sequential()\n",
        "\n",
        "# Featurizer\n",
        "# Block 1: 1@10x10 -> n_channels@8x8 -> n_channels@4x4\n",
        "n_channels = 1\n",
        "model_cnn1.add_module('conv1', nn.Conv2d(in_channels=1, out_channels=n_channels, kernel_size=3))\n",
        "model_cnn1.add_module('relu1', nn.ReLU())\n",
        "model_cnn1.add_module('maxp1', nn.MaxPool2d(kernel_size=2))\n",
        "# Flattening: n_channels * 4 * 4\n",
        "model_cnn1.add_module('flatten', nn.Flatten())\n",
        "\n",
        "# Classification\n",
        "# Hidden Layer\n",
        "model_cnn1.add_module('fc1', nn.Linear(in_features=n_channels*4*4, out_features=10))\n",
        "model_cnn1.add_module('relu2', nn.ReLU())\n",
        "# Output Layer\n",
        "model_cnn1.add_module('fc2', nn.Linear(in_features=10, out_features=3))\n",
        "\n",
        "lr = 0.1\n",
        "multi_loss_fn = nn.CrossEntropyLoss(reduction='mean')\n",
        "optimizer_cnn1 = optim.SGD(model_cnn1.parameters(), lr=lr)"
      ]
    },
    {
      "cell_type": "markdown",
      "metadata": {
        "id": "wsoQ1ALNUvZK"
      },
      "source": [
        "### Model Training"
      ]
    },
    {
      "cell_type": "code",
      "execution_count": null,
      "metadata": {
        "id": "JTJX-sSPUvZK"
      },
      "outputs": [],
      "source": [
        "sbs_cnn1 = StepByStep(model_cnn1, multi_loss_fn, optimizer_cnn1)\n",
        "sbs_cnn1.set_loaders(train_loader, val_loader)\n",
        "sbs_cnn1.train(20)"
      ]
    },
    {
      "cell_type": "markdown",
      "metadata": {
        "id": "2GN1tfNwUvZK"
      },
      "source": [
        "### Visualizing Filters"
      ]
    },
    {
      "cell_type": "code",
      "execution_count": null,
      "metadata": {
        "id": "7gxAWhdJUvZK"
      },
      "outputs": [],
      "source": [
        "fig_filters = sbs_cnn1.visualize_filters('conv1', cmap='gray')"
      ]
    },
    {
      "cell_type": "markdown",
      "metadata": {
        "id": "xDcnQ66TUvZL"
      },
      "source": [
        "### Capturing Outputs"
      ]
    },
    {
      "cell_type": "code",
      "execution_count": null,
      "metadata": {
        "id": "9zTf82lGUvZL"
      },
      "outputs": [],
      "source": [
        "featurizer_layers = ['conv1', 'relu1', 'maxp1', 'flatten']\n",
        "classifier_layers = ['fc1', 'relu2', 'fc2']\n",
        "\n",
        "sbs_cnn1.attach_hooks(layers_to_hook=featurizer_layers + classifier_layers)\n",
        "\n",
        "images_batch, labels_batch = next(iter(val_loader))\n",
        "logits = sbs_cnn1.predict(images_batch)\n",
        "predicted = np.argmax(logits, 1)\n",
        "\n",
        "sbs_cnn1.remove_hooks()"
      ]
    },
    {
      "cell_type": "markdown",
      "metadata": {
        "id": "wZHVnjnDUvZL"
      },
      "source": [
        "### Visualizing Feature Maps"
      ]
    },
    {
      "cell_type": "code",
      "execution_count": null,
      "metadata": {
        "scrolled": false,
        "id": "UENKv--_UvZL"
      },
      "outputs": [],
      "source": [
        "with plt.style.context('seaborn-white'):\n",
        "    fig_maps1 = sbs_cnn1.visualize_outputs(featurizer_layers)\n",
        "    fig_maps2 = sbs_cnn1.visualize_outputs(classifier_layers, y=labels_batch, yhat=predicted)"
      ]
    },
    {
      "cell_type": "markdown",
      "metadata": {
        "id": "H1RBFBk2UvZL"
      },
      "source": [
        "### Accuracy"
      ]
    },
    {
      "cell_type": "code",
      "execution_count": null,
      "metadata": {
        "id": "yC0527xZUvZL"
      },
      "outputs": [],
      "source": [
        "StepByStep.loader_apply(sbs_cnn1.val_loader, sbs_cnn1.correct)"
      ]
    },
    {
      "cell_type": "code",
      "execution_count": null,
      "metadata": {
        "id": "NMKeNTXhUvZL"
      },
      "outputs": [],
      "source": []
    }
  ],
  "metadata": {
    "kernelspec": {
      "display_name": "Python 3 (ipykernel)",
      "language": "python",
      "name": "python3"
    },
    "language_info": {
      "codemirror_mode": {
        "name": "ipython",
        "version": 3
      },
      "file_extension": ".py",
      "mimetype": "text/x-python",
      "name": "python",
      "nbconvert_exporter": "python",
      "pygments_lexer": "ipython3",
      "version": "3.9.0"
    },
    "colab": {
      "provenance": [],
      "include_colab_link": true
    }
  },
  "nbformat": 4,
  "nbformat_minor": 0
}